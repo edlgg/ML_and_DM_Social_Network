{
 "cells": [
  {
   "cell_type": "code",
   "execution_count": 1,
   "metadata": {},
   "outputs": [],
   "source": [
    "import pandas as pd \n",
    "data = pd.read_csv('CE802_Ass_2019_Data.csv').sample(frac=1)\n",
    "test_features = pd.read_csv('CE802_Ass_2019_Test.csv').drop(\"Class\", axis=1)"
   ]
  },
  {
   "cell_type": "code",
   "execution_count": 2,
   "metadata": {},
   "outputs": [],
   "source": [
    "cor_mat = data.corr()\n",
    "cor_mat[\"Class\"].sort_values(ascending=False);"
   ]
  },
  {
   "cell_type": "code",
   "execution_count": 3,
   "metadata": {},
   "outputs": [],
   "source": [
    "split = int(len(data) * 0.15)\n",
    "validation = data[0:split]\n",
    "train = data[split:]"
   ]
  },
  {
   "cell_type": "code",
   "execution_count": 4,
   "metadata": {},
   "outputs": [],
   "source": [
    "train_labels = train[\"Class\"]\n",
    "train_features = train.drop(\"Class\", axis=1)\n",
    "validation_labels = validation[\"Class\"]\n",
    "validation_features = validation.drop(\"Class\", axis=1)"
   ]
  },
  {
   "cell_type": "code",
   "execution_count": 5,
   "metadata": {},
   "outputs": [],
   "source": [
    "from sklearn.impute import SimpleImputer, KNNImputer\n",
    "from sklearn.preprocessing import MinMaxScaler, StandardScaler\n",
    "\n",
    "def featureSelection(X, level='low'):\n",
    "    type(X)\n",
    "    if level == 'low':\n",
    "        return X\n",
    "    if level == 'mid':\n",
    "        return X.drop(['F18', 'F8', 'F11', 'F17'], axis=1)\n",
    "    if level == 'high':\n",
    "        return X.drop(['F16', 'F3', 'F5', 'F18', 'F8', 'F11', 'F17', 'F6', 'F2', 'F15'], axis=1)\n",
    "\n",
    "def imputeF20(X, method='none'):\n",
    "    if method == 'none':\n",
    "        return pd.DataFrame(X)\n",
    "    if method == 'drop':\n",
    "        X = X.drop(\"F20\",axis=1).values\n",
    "        return pd.DataFrame(X)\n",
    "    if method == 'constant':\n",
    "        imp = SimpleImputer(strategy='constant')\n",
    "    if method == 'mean':\n",
    "        imp = SimpleImputer(strategy='mean')\n",
    "    if method == 'knn':\n",
    "        imp = KNNImputer(n_neighbors=5)\n",
    "\n",
    "    imp.fit(X)\n",
    "    return pd.DataFrame(imp.transform(X))\n",
    "\n",
    "def scale(X, method='none'):\n",
    "    if method == 'none':\n",
    "        return pd.DataFrame(X)\n",
    "    if method == 'norm':\n",
    "        scaler = MinMaxScaler()\n",
    "    if method == 'std':\n",
    "        scaler = StandardScaler()\n",
    "    \n",
    "    scaler.fit(X)\n",
    "    return pd.DataFrame(scaler.transform(X))"
   ]
  },
  {
   "cell_type": "code",
   "execution_count": 6,
   "metadata": {},
   "outputs": [],
   "source": [
    "selection_level = 'mid'\n",
    "imputation_method = 'mean'\n",
    "scaling_method = 'norm'\n",
    "\n",
    "train_features_procesed = featureSelection(train_features, level=selection_level)\n",
    "train_features_procesed = imputeF20(train_features_procesed, imputation_method)\n",
    "train_features_procesed = scale(train_features_procesed, scaling_method )\n",
    "\n",
    "validation_features_procesed = featureSelection(validation_features, selection_level)\n",
    "validation_features_procesed = imputeF20(validation_features_procesed, imputation_method)\n",
    "validation_features_procesed = scale(validation_features_procesed, scaling_method )"
   ]
  },
  {
   "cell_type": "code",
   "execution_count": 7,
   "metadata": {},
   "outputs": [],
   "source": [
    "#### Prunned Decision tree\n",
    "import matplotlib.pyplot as plt\n",
    "from sklearn.model_selection import train_test_split\n",
    "from sklearn.tree import DecisionTreeClassifier"
   ]
  },
  {
   "cell_type": "code",
   "execution_count": 8,
   "metadata": {},
   "outputs": [],
   "source": [
    "clf = DecisionTreeClassifier(random_state=0)\n",
    "path = clf.cost_complexity_pruning_path(train_features_procesed, train_labels)\n",
    "ccp_alphas, impurities = path.ccp_alphas, path.impurities"
   ]
  },
  {
   "cell_type": "code",
   "execution_count": 9,
   "metadata": {},
   "outputs": [],
   "source": [
    "clfs = []\n",
    "for ccp_alpha in ccp_alphas:\n",
    "    clf = DecisionTreeClassifier(random_state=0, ccp_alpha=ccp_alpha)\n",
    "    clf.fit(train_features_procesed, train_labels)\n",
    "    clfs.append(clf)"
   ]
  },
  {
   "cell_type": "code",
   "execution_count": 10,
   "metadata": {},
   "outputs": [
    {
     "data": {
      "image/png": "[encoded data removed]",
      "image/svg+xml": "<?xml version=\"1.0\" encoding=\"utf-8\" standalone=\"no\"?>\n<!DOCTYPE svg PUBLIC \"-//W3C//DTD SVG 1.1//EN\"\n  \"http://www.w3.org/Graphics/SVG/1.1/DTD/svg11.dtd\">\n<!-- Created with matplotlib (https://matplotlib.org/) -->\n<svg height=\"277.314375pt\" version=\"1.1\" viewBox=\"0 0 403.053315 277.314375\" width=\"403.053315pt\" xmlns=\"http://www.w3.org/2000/svg\" xmlns:xlink=\"http://www.w3.org/1999/xlink\">\n <defs>\n  <style type=\"text/css\">\n*{stroke-linecap:butt;stroke-linejoin:round;}\n  </style>\n </defs>\n <g id=\"figure_1\">\n  <g id=\"patch_1\">\n   <path d=\"M 0 277.314375 \nL 403.053315 277.314375 \nL 403.053315 0 \nL 0 0 \nz\n\" style=\"fill:none;\"/>\n  </g>\n  <g id=\"axes_1\">\n   <g id=\"patch_2\">\n    <path d=\"M 43.78125 239.758125 \nL 378.58125 239.758125 \nL 378.58125 22.318125 \nL 43.78125 22.318125 \nz\n\" style=\"fill:#ffffff;\"/>\n   </g>\n   <g id=\"matplotlib.axis_1\">\n    <g id=\"xtick_1\">\n     <g id=\"line2d_1\">\n      <defs>\n       <path d=\"M 0 0 \nL 0 3.5 \n\" id=\"me387631cbb\" style=\"stroke:#000000;stroke-width:0.8;\"/>\n      </defs>\n      <g>\n       <use style=\"stroke:#000000;stroke-width:0.8;\" x=\"58.999432\" xlink:href=\"#me387631cbb\" y=\"239.758125\"/>\n      </g>\n     </g>\n     <g id=\"text_1\">\n      <!-- 0.0000 -->\n      <defs>\n       <path d=\"M 31.78125 66.40625 \nQ 24.171875 66.40625 20.328125 58.90625 \nQ 16.5 51.421875 16.5 36.375 \nQ 16.5 21.390625 20.328125 13.890625 \nQ 24.171875 6.390625 31.78125 6.390625 \nQ 39.453125 6.390625 43.28125 13.890625 \nQ 47.125 21.390625 47.125 36.375 \nQ 47.125 51.421875 43.28125 58.90625 \nQ 39.453125 66.40625 31.78125 66.40625 \nz\nM 31.78125 74.21875 \nQ 44.046875 74.21875 50.515625 64.515625 \nQ 56.984375 54.828125 56.984375 36.375 \nQ 56.984375 17.96875 50.515625 8.265625 \nQ 44.046875 -1.421875 31.78125 -1.421875 \nQ 19.53125 -1.421875 13.0625 8.265625 \nQ 6.59375 17.96875 6.59375 36.375 \nQ 6.59375 54.828125 13.0625 64.515625 \nQ 19.53125 74.21875 31.78125 74.21875 \nz\n\" id=\"DejaVuSans-48\"/>\n       <path d=\"M 10.6875 12.40625 \nL 21 12.40625 \nL 21 0 \nL 10.6875 0 \nz\n\" id=\"DejaVuSans-46\"/>\n      </defs>\n      <g transform=\"translate(41.504119 254.356562)scale(0.1 -0.1)\">\n       <use xlink:href=\"#DejaVuSans-48\"/>\n       <use x=\"63.623047\" xlink:href=\"#DejaVuSans-46\"/>\n       <use x=\"95.410156\" xlink:href=\"#DejaVuSans-48\"/>\n       <use x=\"159.033203\" xlink:href=\"#DejaVuSans-48\"/>\n       <use x=\"222.65625\" xlink:href=\"#DejaVuSans-48\"/>\n       <use x=\"286.279297\" xlink:href=\"#DejaVuSans-48\"/>\n      </g>\n     </g>\n    </g>\n    <g id=\"xtick_2\">\n     <g id=\"line2d_2\">\n      <g>\n       <use style=\"stroke:#000000;stroke-width:0.8;\" x=\"98.919253\" xlink:href=\"#me387631cbb\" y=\"239.758125\"/>\n      </g>\n     </g>\n     <g id=\"text_2\">\n      <!-- 0.0025 -->\n      <defs>\n       <path d=\"M 19.1875 8.296875 \nL 53.609375 8.296875 \nL 53.609375 0 \nL 7.328125 0 \nL 7.328125 8.296875 \nQ 12.9375 14.109375 22.625 23.890625 \nQ 32.328125 33.6875 34.8125 36.53125 \nQ 39.546875 41.84375 41.421875 45.53125 \nQ 43.3125 49.21875 43.3125 52.78125 \nQ 43.3125 58.59375 39.234375 62.25 \nQ 35.15625 65.921875 28.609375 65.921875 \nQ 23.96875 65.921875 18.8125 64.3125 \nQ 13.671875 62.703125 7.8125 59.421875 \nL 7.8125 69.390625 \nQ 13.765625 71.78125 18.9375 73 \nQ 24.125 74.21875 28.421875 74.21875 \nQ 39.75 74.21875 46.484375 68.546875 \nQ 53.21875 62.890625 53.21875 53.421875 \nQ 53.21875 48.921875 51.53125 44.890625 \nQ 49.859375 40.875 45.40625 35.40625 \nQ 44.1875 33.984375 37.640625 27.21875 \nQ 31.109375 20.453125 19.1875 8.296875 \nz\n\" id=\"DejaVuSans-50\"/>\n       <path d=\"M 10.796875 72.90625 \nL 49.515625 72.90625 \nL 49.515625 64.59375 \nL 19.828125 64.59375 \nL 19.828125 46.734375 \nQ 21.96875 47.46875 24.109375 47.828125 \nQ 26.265625 48.1875 28.421875 48.1875 \nQ 40.625 48.1875 47.75 41.5 \nQ 54.890625 34.8125 54.890625 23.390625 \nQ 54.890625 11.625 47.5625 5.09375 \nQ 40.234375 -1.421875 26.90625 -1.421875 \nQ 22.3125 -1.421875 17.546875 -0.640625 \nQ 12.796875 0.140625 7.71875 1.703125 \nL 7.71875 11.625 \nQ 12.109375 9.234375 16.796875 8.0625 \nQ 21.484375 6.890625 26.703125 6.890625 \nQ 35.15625 6.890625 40.078125 11.328125 \nQ 45.015625 15.765625 45.015625 23.390625 \nQ 45.015625 31 40.078125 35.4375 \nQ 35.15625 39.890625 26.703125 39.890625 \nQ 22.75 39.890625 18.8125 39.015625 \nQ 14.890625 38.140625 10.796875 36.28125 \nz\n\" id=\"DejaVuSans-53\"/>\n      </defs>\n      <g transform=\"translate(81.423941 254.356562)scale(0.1 -0.1)\">\n       <use xlink:href=\"#DejaVuSans-48\"/>\n       <use x=\"63.623047\" xlink:href=\"#DejaVuSans-46\"/>\n       <use x=\"95.410156\" xlink:href=\"#DejaVuSans-48\"/>\n       <use x=\"159.033203\" xlink:href=\"#DejaVuSans-48\"/>\n       <use x=\"222.65625\" xlink:href=\"#DejaVuSans-50\"/>\n       <use x=\"286.279297\" xlink:href=\"#DejaVuSans-53\"/>\n      </g>\n     </g>\n    </g>\n    <g id=\"xtick_3\">\n     <g id=\"line2d_3\">\n      <g>\n       <use style=\"stroke:#000000;stroke-width:0.8;\" x=\"138.839074\" xlink:href=\"#me387631cbb\" y=\"239.758125\"/>\n      </g>\n     </g>\n     <g id=\"text_3\">\n      <!-- 0.0050 -->\n      <g transform=\"translate(121.343762 254.356562)scale(0.1 -0.1)\">\n       <use xlink:href=\"#DejaVuSans-48\"/>\n       <use x=\"63.623047\" xlink:href=\"#DejaVuSans-46\"/>\n       <use x=\"95.410156\" xlink:href=\"#DejaVuSans-48\"/>\n       <use x=\"159.033203\" xlink:href=\"#DejaVuSans-48\"/>\n       <use x=\"222.65625\" xlink:href=\"#DejaVuSans-53\"/>\n       <use x=\"286.279297\" xlink:href=\"#DejaVuSans-48\"/>\n      </g>\n     </g>\n    </g>\n    <g id=\"xtick_4\">\n     <g id=\"line2d_4\">\n      <g>\n       <use style=\"stroke:#000000;stroke-width:0.8;\" x=\"178.758896\" xlink:href=\"#me387631cbb\" y=\"239.758125\"/>\n      </g>\n     </g>\n     <g id=\"text_4\">\n      <!-- 0.0075 -->\n      <defs>\n       <path d=\"M 8.203125 72.90625 \nL 55.078125 72.90625 \nL 55.078125 68.703125 \nL 28.609375 0 \nL 18.3125 0 \nL 43.21875 64.59375 \nL 8.203125 64.59375 \nz\n\" id=\"DejaVuSans-55\"/>\n      </defs>\n      <g transform=\"translate(161.263583 254.356562)scale(0.1 -0.1)\">\n       <use xlink:href=\"#DejaVuSans-48\"/>\n       <use x=\"63.623047\" xlink:href=\"#DejaVuSans-46\"/>\n       <use x=\"95.410156\" xlink:href=\"#DejaVuSans-48\"/>\n       <use x=\"159.033203\" xlink:href=\"#DejaVuSans-48\"/>\n       <use x=\"222.65625\" xlink:href=\"#DejaVuSans-55\"/>\n       <use x=\"286.279297\" xlink:href=\"#DejaVuSans-53\"/>\n      </g>\n     </g>\n    </g>\n    <g id=\"xtick_5\">\n     <g id=\"line2d_5\">\n      <g>\n       <use style=\"stroke:#000000;stroke-width:0.8;\" x=\"218.678717\" xlink:href=\"#me387631cbb\" y=\"239.758125\"/>\n      </g>\n     </g>\n     <g id=\"text_5\">\n      <!-- 0.0100 -->\n      <defs>\n       <path d=\"M 12.40625 8.296875 \nL 28.515625 8.296875 \nL 28.515625 63.921875 \nL 10.984375 60.40625 \nL 10.984375 69.390625 \nL 28.421875 72.90625 \nL 38.28125 72.90625 \nL 38.28125 8.296875 \nL 54.390625 8.296875 \nL 54.390625 0 \nL 12.40625 0 \nz\n\" id=\"DejaVuSans-49\"/>\n      </defs>\n      <g transform=\"translate(201.183404 254.356562)scale(0.1 -0.1)\">\n       <use xlink:href=\"#DejaVuSans-48\"/>\n       <use x=\"63.623047\" xlink:href=\"#DejaVuSans-46\"/>\n       <use x=\"95.410156\" xlink:href=\"#DejaVuSans-48\"/>\n       <use x=\"159.033203\" xlink:href=\"#DejaVuSans-49\"/>\n       <use x=\"222.65625\" xlink:href=\"#DejaVuSans-48\"/>\n       <use x=\"286.279297\" xlink:href=\"#DejaVuSans-48\"/>\n      </g>\n     </g>\n    </g>\n    <g id=\"xtick_6\">\n     <g id=\"line2d_6\">\n      <g>\n       <use style=\"stroke:#000000;stroke-width:0.8;\" x=\"258.598538\" xlink:href=\"#me387631cbb\" y=\"239.758125\"/>\n      </g>\n     </g>\n     <g id=\"text_6\">\n      <!-- 0.0125 -->\n      <g transform=\"translate(241.103226 254.356562)scale(0.1 -0.1)\">\n       <use xlink:href=\"#DejaVuSans-48\"/>\n       <use x=\"63.623047\" xlink:href=\"#DejaVuSans-46\"/>\n       <use x=\"95.410156\" xlink:href=\"#DejaVuSans-48\"/>\n       <use x=\"159.033203\" xlink:href=\"#DejaVuSans-49\"/>\n       <use x=\"222.65625\" xlink:href=\"#DejaVuSans-50\"/>\n       <use x=\"286.279297\" xlink:href=\"#DejaVuSans-53\"/>\n      </g>\n     </g>\n    </g>\n    <g id=\"xtick_7\">\n     <g id=\"line2d_7\">\n      <g>\n       <use style=\"stroke:#000000;stroke-width:0.8;\" x=\"298.51836\" xlink:href=\"#me387631cbb\" y=\"239.758125\"/>\n      </g>\n     </g>\n     <g id=\"text_7\">\n      <!-- 0.0150 -->\n      <g transform=\"translate(281.023047 254.356562)scale(0.1 -0.1)\">\n       <use xlink:href=\"#DejaVuSans-48\"/>\n       <use x=\"63.623047\" xlink:href=\"#DejaVuSans-46\"/>\n       <use x=\"95.410156\" xlink:href=\"#DejaVuSans-48\"/>\n       <use x=\"159.033203\" xlink:href=\"#DejaVuSans-49\"/>\n       <use x=\"222.65625\" xlink:href=\"#DejaVuSans-53\"/>\n       <use x=\"286.279297\" xlink:href=\"#DejaVuSans-48\"/>\n      </g>\n     </g>\n    </g>\n    <g id=\"xtick_8\">\n     <g id=\"line2d_8\">\n      <g>\n       <use style=\"stroke:#000000;stroke-width:0.8;\" x=\"338.438181\" xlink:href=\"#me387631cbb\" y=\"239.758125\"/>\n      </g>\n     </g>\n     <g id=\"text_8\">\n      <!-- 0.0175 -->\n      <g transform=\"translate(320.942868 254.356562)scale(0.1 -0.1)\">\n       <use xlink:href=\"#DejaVuSans-48\"/>\n       <use x=\"63.623047\" xlink:href=\"#DejaVuSans-46\"/>\n       <use x=\"95.410156\" xlink:href=\"#DejaVuSans-48\"/>\n       <use x=\"159.033203\" xlink:href=\"#DejaVuSans-49\"/>\n       <use x=\"222.65625\" xlink:href=\"#DejaVuSans-55\"/>\n       <use x=\"286.279297\" xlink:href=\"#DejaVuSans-53\"/>\n      </g>\n     </g>\n    </g>\n    <g id=\"xtick_9\">\n     <g id=\"line2d_9\">\n      <g>\n       <use style=\"stroke:#000000;stroke-width:0.8;\" x=\"378.358002\" xlink:href=\"#me387631cbb\" y=\"239.758125\"/>\n      </g>\n     </g>\n     <g id=\"text_9\">\n      <!-- 0.0200 -->\n      <g transform=\"translate(360.86269 254.356562)scale(0.1 -0.1)\">\n       <use xlink:href=\"#DejaVuSans-48\"/>\n       <use x=\"63.623047\" xlink:href=\"#DejaVuSans-46\"/>\n       <use x=\"95.410156\" xlink:href=\"#DejaVuSans-48\"/>\n       <use x=\"159.033203\" xlink:href=\"#DejaVuSans-50\"/>\n       <use x=\"222.65625\" xlink:href=\"#DejaVuSans-48\"/>\n       <use x=\"286.279297\" xlink:href=\"#DejaVuSans-48\"/>\n      </g>\n     </g>\n    </g>\n    <g id=\"text_10\">\n     <!-- alpha -->\n     <defs>\n      <path d=\"M 34.28125 27.484375 \nQ 23.390625 27.484375 19.1875 25 \nQ 14.984375 22.515625 14.984375 16.5 \nQ 14.984375 11.71875 18.140625 8.90625 \nQ 21.296875 6.109375 26.703125 6.109375 \nQ 34.1875 6.109375 38.703125 11.40625 \nQ 43.21875 16.703125 43.21875 25.484375 \nL 43.21875 27.484375 \nz\nM 52.203125 31.203125 \nL 52.203125 0 \nL 43.21875 0 \nL 43.21875 8.296875 \nQ 40.140625 3.328125 35.546875 0.953125 \nQ 30.953125 -1.421875 24.3125 -1.421875 \nQ 15.921875 -1.421875 10.953125 3.296875 \nQ 6 8.015625 6 15.921875 \nQ 6 25.140625 12.171875 29.828125 \nQ 18.359375 34.515625 30.609375 34.515625 \nL 43.21875 34.515625 \nL 43.21875 35.40625 \nQ 43.21875 41.609375 39.140625 45 \nQ 35.0625 48.390625 27.6875 48.390625 \nQ 23 48.390625 18.546875 47.265625 \nQ 14.109375 46.140625 10.015625 43.890625 \nL 10.015625 52.203125 \nQ 14.9375 54.109375 19.578125 55.046875 \nQ 24.21875 56 28.609375 56 \nQ 40.484375 56 46.34375 49.84375 \nQ 52.203125 43.703125 52.203125 31.203125 \nz\n\" id=\"DejaVuSans-97\"/>\n      <path d=\"M 9.421875 75.984375 \nL 18.40625 75.984375 \nL 18.40625 0 \nL 9.421875 0 \nz\n\" id=\"DejaVuSans-108\"/>\n      <path d=\"M 18.109375 8.203125 \nL 18.109375 -20.796875 \nL 9.078125 -20.796875 \nL 9.078125 54.6875 \nL 18.109375 54.6875 \nL 18.109375 46.390625 \nQ 20.953125 51.265625 25.265625 53.625 \nQ 29.59375 56 35.59375 56 \nQ 45.5625 56 51.78125 48.09375 \nQ 58.015625 40.1875 58.015625 27.296875 \nQ 58.015625 14.40625 51.78125 6.484375 \nQ 45.5625 -1.421875 35.59375 -1.421875 \nQ 29.59375 -1.421875 25.265625 0.953125 \nQ 20.953125 3.328125 18.109375 8.203125 \nz\nM 48.6875 27.296875 \nQ 48.6875 37.203125 44.609375 42.84375 \nQ 40.53125 48.484375 33.40625 48.484375 \nQ 26.265625 48.484375 22.1875 42.84375 \nQ 18.109375 37.203125 18.109375 27.296875 \nQ 18.109375 17.390625 22.1875 11.75 \nQ 26.265625 6.109375 33.40625 6.109375 \nQ 40.53125 6.109375 44.609375 11.75 \nQ 48.6875 17.390625 48.6875 27.296875 \nz\n\" id=\"DejaVuSans-112\"/>\n      <path d=\"M 54.890625 33.015625 \nL 54.890625 0 \nL 45.90625 0 \nL 45.90625 32.71875 \nQ 45.90625 40.484375 42.875 44.328125 \nQ 39.84375 48.1875 33.796875 48.1875 \nQ 26.515625 48.1875 22.3125 43.546875 \nQ 18.109375 38.921875 18.109375 30.90625 \nL 18.109375 0 \nL 9.078125 0 \nL 9.078125 75.984375 \nL 18.109375 75.984375 \nL 18.109375 46.1875 \nQ 21.34375 51.125 25.703125 53.5625 \nQ 30.078125 56 35.796875 56 \nQ 45.21875 56 50.046875 50.171875 \nQ 54.890625 44.34375 54.890625 33.015625 \nz\n\" id=\"DejaVuSans-104\"/>\n     </defs>\n     <g transform=\"translate(197.321094 268.034687)scale(0.1 -0.1)\">\n      <use xlink:href=\"#DejaVuSans-97\"/>\n      <use x=\"61.279297\" xlink:href=\"#DejaVuSans-108\"/>\n      <use x=\"89.0625\" xlink:href=\"#DejaVuSans-112\"/>\n      <use x=\"152.539062\" xlink:href=\"#DejaVuSans-104\"/>\n      <use x=\"215.917969\" xlink:href=\"#DejaVuSans-97\"/>\n     </g>\n    </g>\n   </g>\n   <g id=\"matplotlib.axis_2\">\n    <g id=\"ytick_1\">\n     <g id=\"line2d_10\">\n      <defs>\n       <path d=\"M 0 0 \nL -3.5 0 \n\" id=\"mac02a21d13\" style=\"stroke:#000000;stroke-width:0.8;\"/>\n      </defs>\n      <g>\n       <use style=\"stroke:#000000;stroke-width:0.8;\" x=\"43.78125\" xlink:href=\"#mac02a21d13\" y=\"201.635528\"/>\n      </g>\n     </g>\n     <g id=\"text_11\">\n      <!-- 0.6 -->\n      <defs>\n       <path d=\"M 33.015625 40.375 \nQ 26.375 40.375 22.484375 35.828125 \nQ 18.609375 31.296875 18.609375 23.390625 \nQ 18.609375 15.53125 22.484375 10.953125 \nQ 26.375 6.390625 33.015625 6.390625 \nQ 39.65625 6.390625 43.53125 10.953125 \nQ 47.40625 15.53125 47.40625 23.390625 \nQ 47.40625 31.296875 43.53125 35.828125 \nQ 39.65625 40.375 33.015625 40.375 \nz\nM 52.59375 71.296875 \nL 52.59375 62.3125 \nQ 48.875 64.0625 45.09375 64.984375 \nQ 41.3125 65.921875 37.59375 65.921875 \nQ 27.828125 65.921875 22.671875 59.328125 \nQ 17.53125 52.734375 16.796875 39.40625 \nQ 19.671875 43.65625 24.015625 45.921875 \nQ 28.375 48.1875 33.59375 48.1875 \nQ 44.578125 48.1875 50.953125 41.515625 \nQ 57.328125 34.859375 57.328125 23.390625 \nQ 57.328125 12.15625 50.6875 5.359375 \nQ 44.046875 -1.421875 33.015625 -1.421875 \nQ 20.359375 -1.421875 13.671875 8.265625 \nQ 6.984375 17.96875 6.984375 36.375 \nQ 6.984375 53.65625 15.1875 63.9375 \nQ 23.390625 74.21875 37.203125 74.21875 \nQ 40.921875 74.21875 44.703125 73.484375 \nQ 48.484375 72.75 52.59375 71.296875 \nz\n\" id=\"DejaVuSans-54\"/>\n      </defs>\n      <g transform=\"translate(20.878125 205.434746)scale(0.1 -0.1)\">\n       <use xlink:href=\"#DejaVuSans-48\"/>\n       <use x=\"63.623047\" xlink:href=\"#DejaVuSans-46\"/>\n       <use x=\"95.410156\" xlink:href=\"#DejaVuSans-54\"/>\n      </g>\n     </g>\n    </g>\n    <g id=\"ytick_2\">\n     <g id=\"line2d_11\">\n      <g>\n       <use style=\"stroke:#000000;stroke-width:0.8;\" x=\"43.78125\" xlink:href=\"#mac02a21d13\" y=\"159.277086\"/>\n      </g>\n     </g>\n     <g id=\"text_12\">\n      <!-- 0.7 -->\n      <g transform=\"translate(20.878125 163.076305)scale(0.1 -0.1)\">\n       <use xlink:href=\"#DejaVuSans-48\"/>\n       <use x=\"63.623047\" xlink:href=\"#DejaVuSans-46\"/>\n       <use x=\"95.410156\" xlink:href=\"#DejaVuSans-55\"/>\n      </g>\n     </g>\n    </g>\n    <g id=\"ytick_3\">\n     <g id=\"line2d_12\">\n      <g>\n       <use style=\"stroke:#000000;stroke-width:0.8;\" x=\"43.78125\" xlink:href=\"#mac02a21d13\" y=\"116.918644\"/>\n      </g>\n     </g>\n     <g id=\"text_13\">\n      <!-- 0.8 -->\n      <defs>\n       <path d=\"M 31.78125 34.625 \nQ 24.75 34.625 20.71875 30.859375 \nQ 16.703125 27.09375 16.703125 20.515625 \nQ 16.703125 13.921875 20.71875 10.15625 \nQ 24.75 6.390625 31.78125 6.390625 \nQ 38.8125 6.390625 42.859375 10.171875 \nQ 46.921875 13.96875 46.921875 20.515625 \nQ 46.921875 27.09375 42.890625 30.859375 \nQ 38.875 34.625 31.78125 34.625 \nz\nM 21.921875 38.8125 \nQ 15.578125 40.375 12.03125 44.71875 \nQ 8.5 49.078125 8.5 55.328125 \nQ 8.5 64.0625 14.71875 69.140625 \nQ 20.953125 74.21875 31.78125 74.21875 \nQ 42.671875 74.21875 48.875 69.140625 \nQ 55.078125 64.0625 55.078125 55.328125 \nQ 55.078125 49.078125 51.53125 44.71875 \nQ 48 40.375 41.703125 38.8125 \nQ 48.828125 37.15625 52.796875 32.3125 \nQ 56.78125 27.484375 56.78125 20.515625 \nQ 56.78125 9.90625 50.3125 4.234375 \nQ 43.84375 -1.421875 31.78125 -1.421875 \nQ 19.734375 -1.421875 13.25 4.234375 \nQ 6.78125 9.90625 6.78125 20.515625 \nQ 6.78125 27.484375 10.78125 32.3125 \nQ 14.796875 37.15625 21.921875 38.8125 \nz\nM 18.3125 54.390625 \nQ 18.3125 48.734375 21.84375 45.5625 \nQ 25.390625 42.390625 31.78125 42.390625 \nQ 38.140625 42.390625 41.71875 45.5625 \nQ 45.3125 48.734375 45.3125 54.390625 \nQ 45.3125 60.0625 41.71875 63.234375 \nQ 38.140625 66.40625 31.78125 66.40625 \nQ 25.390625 66.40625 21.84375 63.234375 \nQ 18.3125 60.0625 18.3125 54.390625 \nz\n\" id=\"DejaVuSans-56\"/>\n      </defs>\n      <g transform=\"translate(20.878125 120.717863)scale(0.1 -0.1)\">\n       <use xlink:href=\"#DejaVuSans-48\"/>\n       <use x=\"63.623047\" xlink:href=\"#DejaVuSans-46\"/>\n       <use x=\"95.410156\" xlink:href=\"#DejaVuSans-56\"/>\n      </g>\n     </g>\n    </g>\n    <g id=\"ytick_4\">\n     <g id=\"line2d_13\">\n      <g>\n       <use style=\"stroke:#000000;stroke-width:0.8;\" x=\"43.78125\" xlink:href=\"#mac02a21d13\" y=\"74.560203\"/>\n      </g>\n     </g>\n     <g id=\"text_14\">\n      <!-- 0.9 -->\n      <defs>\n       <path d=\"M 10.984375 1.515625 \nL 10.984375 10.5 \nQ 14.703125 8.734375 18.5 7.8125 \nQ 22.3125 6.890625 25.984375 6.890625 \nQ 35.75 6.890625 40.890625 13.453125 \nQ 46.046875 20.015625 46.78125 33.40625 \nQ 43.953125 29.203125 39.59375 26.953125 \nQ 35.25 24.703125 29.984375 24.703125 \nQ 19.046875 24.703125 12.671875 31.3125 \nQ 6.296875 37.9375 6.296875 49.421875 \nQ 6.296875 60.640625 12.9375 67.421875 \nQ 19.578125 74.21875 30.609375 74.21875 \nQ 43.265625 74.21875 49.921875 64.515625 \nQ 56.59375 54.828125 56.59375 36.375 \nQ 56.59375 19.140625 48.40625 8.859375 \nQ 40.234375 -1.421875 26.421875 -1.421875 \nQ 22.703125 -1.421875 18.890625 -0.6875 \nQ 15.09375 0.046875 10.984375 1.515625 \nz\nM 30.609375 32.421875 \nQ 37.25 32.421875 41.125 36.953125 \nQ 45.015625 41.5 45.015625 49.421875 \nQ 45.015625 57.28125 41.125 61.84375 \nQ 37.25 66.40625 30.609375 66.40625 \nQ 23.96875 66.40625 20.09375 61.84375 \nQ 16.21875 57.28125 16.21875 49.421875 \nQ 16.21875 41.5 20.09375 36.953125 \nQ 23.96875 32.421875 30.609375 32.421875 \nz\n\" id=\"DejaVuSans-57\"/>\n      </defs>\n      <g transform=\"translate(20.878125 78.359422)scale(0.1 -0.1)\">\n       <use xlink:href=\"#DejaVuSans-48\"/>\n       <use x=\"63.623047\" xlink:href=\"#DejaVuSans-46\"/>\n       <use x=\"95.410156\" xlink:href=\"#DejaVuSans-57\"/>\n      </g>\n     </g>\n    </g>\n    <g id=\"ytick_5\">\n     <g id=\"line2d_14\">\n      <g>\n       <use style=\"stroke:#000000;stroke-width:0.8;\" x=\"43.78125\" xlink:href=\"#mac02a21d13\" y=\"32.201761\"/>\n      </g>\n     </g>\n     <g id=\"text_15\">\n      <!-- 1.0 -->\n      <g transform=\"translate(20.878125 36.00098)scale(0.1 -0.1)\">\n       <use xlink:href=\"#DejaVuSans-49\"/>\n       <use x=\"63.623047\" xlink:href=\"#DejaVuSans-46\"/>\n       <use x=\"95.410156\" xlink:href=\"#DejaVuSans-48\"/>\n      </g>\n     </g>\n    </g>\n    <g id=\"text_16\">\n     <!-- accuracy -->\n     <defs>\n      <path d=\"M 48.78125 52.59375 \nL 48.78125 44.1875 \nQ 44.96875 46.296875 41.140625 47.34375 \nQ 37.3125 48.390625 33.40625 48.390625 \nQ 24.65625 48.390625 19.8125 42.84375 \nQ 14.984375 37.3125 14.984375 27.296875 \nQ 14.984375 17.28125 19.8125 11.734375 \nQ 24.65625 6.203125 33.40625 6.203125 \nQ 37.3125 6.203125 41.140625 7.25 \nQ 44.96875 8.296875 48.78125 10.40625 \nL 48.78125 2.09375 \nQ 45.015625 0.34375 40.984375 -0.53125 \nQ 36.96875 -1.421875 32.421875 -1.421875 \nQ 20.0625 -1.421875 12.78125 6.34375 \nQ 5.515625 14.109375 5.515625 27.296875 \nQ 5.515625 40.671875 12.859375 48.328125 \nQ 20.21875 56 33.015625 56 \nQ 37.15625 56 41.109375 55.140625 \nQ 45.0625 54.296875 48.78125 52.59375 \nz\n\" id=\"DejaVuSans-99\"/>\n      <path d=\"M 8.5 21.578125 \nL 8.5 54.6875 \nL 17.484375 54.6875 \nL 17.484375 21.921875 \nQ 17.484375 14.15625 20.5 10.265625 \nQ 23.53125 6.390625 29.59375 6.390625 \nQ 36.859375 6.390625 41.078125 11.03125 \nQ 45.3125 15.671875 45.3125 23.6875 \nL 45.3125 54.6875 \nL 54.296875 54.6875 \nL 54.296875 0 \nL 45.3125 0 \nL 45.3125 8.40625 \nQ 42.046875 3.421875 37.71875 1 \nQ 33.40625 -1.421875 27.6875 -1.421875 \nQ 18.265625 -1.421875 13.375 4.4375 \nQ 8.5 10.296875 8.5 21.578125 \nz\nM 31.109375 56 \nz\n\" id=\"DejaVuSans-117\"/>\n      <path d=\"M 41.109375 46.296875 \nQ 39.59375 47.171875 37.8125 47.578125 \nQ 36.03125 48 33.890625 48 \nQ 26.265625 48 22.1875 43.046875 \nQ 18.109375 38.09375 18.109375 28.8125 \nL 18.109375 0 \nL 9.078125 0 \nL 9.078125 54.6875 \nL 18.109375 54.6875 \nL 18.109375 46.1875 \nQ 20.953125 51.171875 25.484375 53.578125 \nQ 30.03125 56 36.53125 56 \nQ 37.453125 56 38.578125 55.875 \nQ 39.703125 55.765625 41.0625 55.515625 \nz\n\" id=\"DejaVuSans-114\"/>\n      <path d=\"M 32.171875 -5.078125 \nQ 28.375 -14.84375 24.75 -17.8125 \nQ 21.140625 -20.796875 15.09375 -20.796875 \nL 7.90625 -20.796875 \nL 7.90625 -13.28125 \nL 13.1875 -13.28125 \nQ 16.890625 -13.28125 18.9375 -11.515625 \nQ 21 -9.765625 23.484375 -3.21875 \nL 25.09375 0.875 \nL 2.984375 54.6875 \nL 12.5 54.6875 \nL 29.59375 11.921875 \nL 46.6875 54.6875 \nL 56.203125 54.6875 \nz\n\" id=\"DejaVuSans-121\"/>\n     </defs>\n     <g transform=\"translate(14.798438 153.5975)rotate(-90)scale(0.1 -0.1)\">\n      <use xlink:href=\"#DejaVuSans-97\"/>\n      <use x=\"61.279297\" xlink:href=\"#DejaVuSans-99\"/>\n      <use x=\"116.259766\" xlink:href=\"#DejaVuSans-99\"/>\n      <use x=\"171.240234\" xlink:href=\"#DejaVuSans-117\"/>\n      <use x=\"234.619141\" xlink:href=\"#DejaVuSans-114\"/>\n      <use x=\"275.732422\" xlink:href=\"#DejaVuSans-97\"/>\n      <use x=\"337.011719\" xlink:href=\"#DejaVuSans-99\"/>\n      <use x=\"391.992188\" xlink:href=\"#DejaVuSans-121\"/>\n     </g>\n    </g>\n   </g>\n   <g id=\"line2d_15\">\n    <path clip-path=\"url(#p9b9c63cfb8)\" d=\"M 58.999432 32.201761 \nL 94.066255 32.201761 \nL 94.066255 33.198431 \nL 94.863228 33.198431 \nL 94.863228 34.1951 \nL 95.631738 34.1951 \nL 95.631738 35.191769 \nL 109.094894 35.191769 \nL 109.094894 37.185107 \nL 109.094894 37.185107 \nL 109.094894 37.185107 \nL 115.356827 37.185107 \nL 115.356827 41.171784 \nL 115.356827 41.171784 \nL 115.356827 41.171784 \nL 115.356827 41.171784 \nL 115.356827 41.171784 \nL 115.356827 41.171784 \nL 115.356827 41.171784 \nL 117.444137 41.171784 \nL 117.444137 43.165123 \nL 119.113986 43.165123 \nL 119.113986 44.161792 \nL 123.407883 44.161792 \nL 123.407883 46.15513 \nL 123.407883 46.15513 \nL 123.407883 46.15513 \nL 124.489843 46.15513 \nL 124.489843 47.1518 \nL 127.311425 47.1518 \nL 127.311425 49.145138 \nL 127.311425 49.145138 \nL 127.311425 49.145138 \nL 128.690161 49.145138 \nL 128.690161 50.141807 \nL 131.458939 50.141807 \nL 131.458939 52.135146 \nL 131.7944 52.135146 \nL 131.7944 53.131815 \nL 136.069373 53.131815 \nL 136.069373 54.128484 \nL 142.216045 54.128484 \nL 142.216045 55.125153 \nL 143.088243 55.125153 \nL 143.088243 55.125153 \nL 144.161717 55.125153 \nL 144.161717 58.115161 \nL 153.035771 58.115161 \nL 153.035771 61.105169 \nL 155.433196 61.105169 \nL 155.433196 64.095176 \nL 157.012292 64.095176 \nL 157.012292 67.085184 \nL 157.885468 67.085184 \nL 157.885468 70.075191 \nL 159.190356 70.075191 \nL 159.190356 72.06853 \nL 161.547789 72.06853 \nL 161.547789 76.055207 \nL 163.546483 76.055207 \nL 163.546483 78.048545 \nL 166.239503 78.048545 \nL 166.239503 89.011907 \nL 166.34685 89.011907 \nL 166.34685 91.005245 \nL 167.394142 91.005245 \nL 167.394142 99.975268 \nL 171.562967 99.975268 \nL 171.562967 101.968606 \nL 172.311675 101.968606 \nL 172.311675 108.945291 \nL 172.738901 108.945291 \nL 172.738901 116.918644 \nL 175.239083 116.918644 \nL 175.239083 125.888667 \nL 176.008391 125.888667 \nL 176.008391 125.888667 \nL 180.281051 125.888667 \nL 180.281051 134.85869 \nL 181.96102 134.85869 \nL 181.96102 136.852029 \nL 182.311338 136.852029 \nL 182.311338 140.838706 \nL 190.138754 140.838706 \nL 190.138754 143.828713 \nL 204.247808 143.828713 \nL 204.247808 146.818721 \nL 227.822549 146.818721 \nL 227.822549 159.775421 \nL 266.632189 159.775421 \nL 266.632189 192.665505 \nL 266.882312 192.665505 \nL 266.882312 201.635528 \nL 363.363068 201.635528 \nL 363.363068 218.578904 \n\" style=\"fill:none;stroke:#1f77b4;stroke-linecap:square;stroke-width:1.5;\"/>\n    <defs>\n     <path d=\"M 0 3 \nC 0.795609 3 1.55874 2.683901 2.12132 2.12132 \nC 2.683901 1.55874 3 0.795609 3 0 \nC 3 -0.795609 2.683901 -1.55874 2.12132 -2.12132 \nC 1.55874 -2.683901 0.795609 -3 0 -3 \nC -0.795609 -3 -1.55874 -2.683901 -2.12132 -2.12132 \nC -2.683901 -1.55874 -3 -0.795609 -3 0 \nC -3 0.795609 -2.683901 1.55874 -2.12132 2.12132 \nC -1.55874 2.683901 -0.795609 3 0 3 \nz\n\" id=\"m1d103f8858\" style=\"stroke:#1f77b4;\"/>\n    </defs>\n    <g clip-path=\"url(#p9b9c63cfb8)\">\n     <use style=\"fill:#1f77b4;stroke:#1f77b4;\" x=\"58.999432\" xlink:href=\"#m1d103f8858\" y=\"32.201761\"/>\n     <use style=\"fill:#1f77b4;stroke:#1f77b4;\" x=\"94.066255\" xlink:href=\"#m1d103f8858\" y=\"33.198431\"/>\n     <use style=\"fill:#1f77b4;stroke:#1f77b4;\" x=\"94.863228\" xlink:href=\"#m1d103f8858\" y=\"34.1951\"/>\n     <use style=\"fill:#1f77b4;stroke:#1f77b4;\" x=\"95.631738\" xlink:href=\"#m1d103f8858\" y=\"35.191769\"/>\n     <use style=\"fill:#1f77b4;stroke:#1f77b4;\" x=\"109.094894\" xlink:href=\"#m1d103f8858\" y=\"37.185107\"/>\n     <use style=\"fill:#1f77b4;stroke:#1f77b4;\" x=\"109.094894\" xlink:href=\"#m1d103f8858\" y=\"37.185107\"/>\n     <use style=\"fill:#1f77b4;stroke:#1f77b4;\" x=\"115.356827\" xlink:href=\"#m1d103f8858\" y=\"41.171784\"/>\n     <use style=\"fill:#1f77b4;stroke:#1f77b4;\" x=\"115.356827\" xlink:href=\"#m1d103f8858\" y=\"41.171784\"/>\n     <use style=\"fill:#1f77b4;stroke:#1f77b4;\" x=\"115.356827\" xlink:href=\"#m1d103f8858\" y=\"41.171784\"/>\n     <use style=\"fill:#1f77b4;stroke:#1f77b4;\" x=\"115.356827\" xlink:href=\"#m1d103f8858\" y=\"41.171784\"/>\n     <use style=\"fill:#1f77b4;stroke:#1f77b4;\" x=\"117.444137\" xlink:href=\"#m1d103f8858\" y=\"43.165123\"/>\n     <use style=\"fill:#1f77b4;stroke:#1f77b4;\" x=\"119.113986\" xlink:href=\"#m1d103f8858\" y=\"44.161792\"/>\n     <use style=\"fill:#1f77b4;stroke:#1f77b4;\" x=\"123.407883\" xlink:href=\"#m1d103f8858\" y=\"46.15513\"/>\n     <use style=\"fill:#1f77b4;stroke:#1f77b4;\" x=\"123.407883\" xlink:href=\"#m1d103f8858\" y=\"46.15513\"/>\n     <use style=\"fill:#1f77b4;stroke:#1f77b4;\" x=\"124.489843\" xlink:href=\"#m1d103f8858\" y=\"47.1518\"/>\n     <use style=\"fill:#1f77b4;stroke:#1f77b4;\" x=\"127.311425\" xlink:href=\"#m1d103f8858\" y=\"49.145138\"/>\n     <use style=\"fill:#1f77b4;stroke:#1f77b4;\" x=\"127.311425\" xlink:href=\"#m1d103f8858\" y=\"49.145138\"/>\n     <use style=\"fill:#1f77b4;stroke:#1f77b4;\" x=\"128.690161\" xlink:href=\"#m1d103f8858\" y=\"50.141807\"/>\n     <use style=\"fill:#1f77b4;stroke:#1f77b4;\" x=\"131.458939\" xlink:href=\"#m1d103f8858\" y=\"52.135146\"/>\n     <use style=\"fill:#1f77b4;stroke:#1f77b4;\" x=\"131.7944\" xlink:href=\"#m1d103f8858\" y=\"53.131815\"/>\n     <use style=\"fill:#1f77b4;stroke:#1f77b4;\" x=\"136.069373\" xlink:href=\"#m1d103f8858\" y=\"54.128484\"/>\n     <use style=\"fill:#1f77b4;stroke:#1f77b4;\" x=\"142.216045\" xlink:href=\"#m1d103f8858\" y=\"55.125153\"/>\n     <use style=\"fill:#1f77b4;stroke:#1f77b4;\" x=\"143.088243\" xlink:href=\"#m1d103f8858\" y=\"55.125153\"/>\n     <use style=\"fill:#1f77b4;stroke:#1f77b4;\" x=\"144.161717\" xlink:href=\"#m1d103f8858\" y=\"58.115161\"/>\n     <use style=\"fill:#1f77b4;stroke:#1f77b4;\" x=\"153.035771\" xlink:href=\"#m1d103f8858\" y=\"61.105169\"/>\n     <use style=\"fill:#1f77b4;stroke:#1f77b4;\" x=\"155.433196\" xlink:href=\"#m1d103f8858\" y=\"64.095176\"/>\n     <use style=\"fill:#1f77b4;stroke:#1f77b4;\" x=\"157.012292\" xlink:href=\"#m1d103f8858\" y=\"67.085184\"/>\n     <use style=\"fill:#1f77b4;stroke:#1f77b4;\" x=\"157.885468\" xlink:href=\"#m1d103f8858\" y=\"70.075191\"/>\n     <use style=\"fill:#1f77b4;stroke:#1f77b4;\" x=\"159.190356\" xlink:href=\"#m1d103f8858\" y=\"72.06853\"/>\n     <use style=\"fill:#1f77b4;stroke:#1f77b4;\" x=\"161.547789\" xlink:href=\"#m1d103f8858\" y=\"76.055207\"/>\n     <use style=\"fill:#1f77b4;stroke:#1f77b4;\" x=\"163.546483\" xlink:href=\"#m1d103f8858\" y=\"78.048545\"/>\n     <use style=\"fill:#1f77b4;stroke:#1f77b4;\" x=\"166.239503\" xlink:href=\"#m1d103f8858\" y=\"89.011907\"/>\n     <use style=\"fill:#1f77b4;stroke:#1f77b4;\" x=\"166.34685\" xlink:href=\"#m1d103f8858\" y=\"91.005245\"/>\n     <use style=\"fill:#1f77b4;stroke:#1f77b4;\" x=\"167.394142\" xlink:href=\"#m1d103f8858\" y=\"99.975268\"/>\n     <use style=\"fill:#1f77b4;stroke:#1f77b4;\" x=\"171.562967\" xlink:href=\"#m1d103f8858\" y=\"101.968606\"/>\n     <use style=\"fill:#1f77b4;stroke:#1f77b4;\" x=\"172.311675\" xlink:href=\"#m1d103f8858\" y=\"108.945291\"/>\n     <use style=\"fill:#1f77b4;stroke:#1f77b4;\" x=\"172.738901\" xlink:href=\"#m1d103f8858\" y=\"116.918644\"/>\n     <use style=\"fill:#1f77b4;stroke:#1f77b4;\" x=\"175.239083\" xlink:href=\"#m1d103f8858\" y=\"125.888667\"/>\n     <use style=\"fill:#1f77b4;stroke:#1f77b4;\" x=\"176.008391\" xlink:href=\"#m1d103f8858\" y=\"125.888667\"/>\n     <use style=\"fill:#1f77b4;stroke:#1f77b4;\" x=\"180.281051\" xlink:href=\"#m1d103f8858\" y=\"134.85869\"/>\n     <use style=\"fill:#1f77b4;stroke:#1f77b4;\" x=\"181.96102\" xlink:href=\"#m1d103f8858\" y=\"136.852029\"/>\n     <use style=\"fill:#1f77b4;stroke:#1f77b4;\" x=\"182.311338\" xlink:href=\"#m1d103f8858\" y=\"140.838706\"/>\n     <use style=\"fill:#1f77b4;stroke:#1f77b4;\" x=\"190.138754\" xlink:href=\"#m1d103f8858\" y=\"143.828713\"/>\n     <use style=\"fill:#1f77b4;stroke:#1f77b4;\" x=\"204.247808\" xlink:href=\"#m1d103f8858\" y=\"146.818721\"/>\n     <use style=\"fill:#1f77b4;stroke:#1f77b4;\" x=\"227.822549\" xlink:href=\"#m1d103f8858\" y=\"159.775421\"/>\n     <use style=\"fill:#1f77b4;stroke:#1f77b4;\" x=\"266.632189\" xlink:href=\"#m1d103f8858\" y=\"192.665505\"/>\n     <use style=\"fill:#1f77b4;stroke:#1f77b4;\" x=\"266.882312\" xlink:href=\"#m1d103f8858\" y=\"201.635528\"/>\n     <use style=\"fill:#1f77b4;stroke:#1f77b4;\" x=\"363.363068\" xlink:href=\"#m1d103f8858\" y=\"218.578904\"/>\n    </g>\n   </g>\n   <g id=\"line2d_16\">\n    <path clip-path=\"url(#p9b9c63cfb8)\" d=\"M 58.999432 207.28332 \nL 94.066255 207.28332 \nL 94.066255 207.28332 \nL 94.863228 207.28332 \nL 94.863228 195.987735 \nL 95.631738 195.987735 \nL 95.631738 201.635528 \nL 109.094894 201.635528 \nL 109.094894 201.635528 \nL 109.094894 201.635528 \nL 109.094894 201.635528 \nL 115.356827 201.635528 \nL 115.356827 201.635528 \nL 115.356827 201.635528 \nL 115.356827 201.635528 \nL 115.356827 201.635528 \nL 115.356827 201.635528 \nL 115.356827 201.635528 \nL 115.356827 201.635528 \nL 117.444137 201.635528 \nL 117.444137 201.635528 \nL 119.113986 201.635528 \nL 119.113986 201.635528 \nL 123.407883 201.635528 \nL 123.407883 207.28332 \nL 123.407883 207.28332 \nL 123.407883 207.28332 \nL 124.489843 207.28332 \nL 124.489843 207.28332 \nL 127.311425 207.28332 \nL 127.311425 207.28332 \nL 127.311425 207.28332 \nL 127.311425 207.28332 \nL 128.690161 207.28332 \nL 128.690161 207.28332 \nL 131.458939 207.28332 \nL 131.458939 207.28332 \nL 131.7944 207.28332 \nL 131.7944 207.28332 \nL 136.069373 207.28332 \nL 136.069373 201.635528 \nL 142.216045 201.635528 \nL 142.216045 207.28332 \nL 143.088243 207.28332 \nL 143.088243 207.28332 \nL 144.161717 207.28332 \nL 144.161717 201.635528 \nL 153.035771 201.635528 \nL 153.035771 201.635528 \nL 155.433196 201.635528 \nL 155.433196 207.28332 \nL 157.012292 207.28332 \nL 157.012292 207.28332 \nL 157.885468 207.28332 \nL 157.885468 207.28332 \nL 159.190356 207.28332 \nL 159.190356 195.987735 \nL 161.547789 195.987735 \nL 161.547789 190.339943 \nL 163.546483 190.339943 \nL 163.546483 184.692151 \nL 166.239503 184.692151 \nL 166.239503 184.692151 \nL 166.34685 184.692151 \nL 166.34685 184.692151 \nL 167.394142 184.692151 \nL 167.394142 173.396567 \nL 171.562967 173.396567 \nL 171.562967 173.396567 \nL 172.311675 173.396567 \nL 172.311675 184.692151 \nL 172.738901 184.692151 \nL 172.738901 190.339943 \nL 175.239083 190.339943 \nL 175.239083 195.987735 \nL 176.008391 195.987735 \nL 176.008391 195.987735 \nL 180.281051 195.987735 \nL 180.281051 201.635528 \nL 181.96102 201.635528 \nL 181.96102 201.635528 \nL 182.311338 201.635528 \nL 182.311338 195.987735 \nL 190.138754 195.987735 \nL 190.138754 201.635528 \nL 204.247808 201.635528 \nL 204.247808 207.28332 \nL 227.822549 207.28332 \nL 227.822549 229.874489 \nL 266.632189 229.874489 \nL 266.632189 207.28332 \nL 266.882312 207.28332 \nL 266.882312 201.635528 \nL 363.363068 201.635528 \nL 363.363068 224.226696 \n\" style=\"fill:none;stroke:#ff7f0e;stroke-linecap:square;stroke-width:1.5;\"/>\n    <defs>\n     <path d=\"M 0 3 \nC 0.795609 3 1.55874 2.683901 2.12132 2.12132 \nC 2.683901 1.55874 3 0.795609 3 0 \nC 3 -0.795609 2.683901 -1.55874 2.12132 -2.12132 \nC 1.55874 -2.683901 0.795609 -3 0 -3 \nC -0.795609 -3 -1.55874 -2.683901 -2.12132 -2.12132 \nC -2.683901 -1.55874 -3 -0.795609 -3 0 \nC -3 0.795609 -2.683901 1.55874 -2.12132 2.12132 \nC -1.55874 2.683901 -0.795609 3 0 3 \nz\n\" id=\"m0e7f5e0897\" style=\"stroke:#ff7f0e;\"/>\n    </defs>\n    <g clip-path=\"url(#p9b9c63cfb8)\">\n     <use style=\"fill:#ff7f0e;stroke:#ff7f0e;\" x=\"58.999432\" xlink:href=\"#m0e7f5e0897\" y=\"207.28332\"/>\n     <use style=\"fill:#ff7f0e;stroke:#ff7f0e;\" x=\"94.066255\" xlink:href=\"#m0e7f5e0897\" y=\"207.28332\"/>\n     <use style=\"fill:#ff7f0e;stroke:#ff7f0e;\" x=\"94.863228\" xlink:href=\"#m0e7f5e0897\" y=\"195.987735\"/>\n     <use style=\"fill:#ff7f0e;stroke:#ff7f0e;\" x=\"95.631738\" xlink:href=\"#m0e7f5e0897\" y=\"201.635528\"/>\n     <use style=\"fill:#ff7f0e;stroke:#ff7f0e;\" x=\"109.094894\" xlink:href=\"#m0e7f5e0897\" y=\"201.635528\"/>\n     <use style=\"fill:#ff7f0e;stroke:#ff7f0e;\" x=\"109.094894\" xlink:href=\"#m0e7f5e0897\" y=\"201.635528\"/>\n     <use style=\"fill:#ff7f0e;stroke:#ff7f0e;\" x=\"115.356827\" xlink:href=\"#m0e7f5e0897\" y=\"201.635528\"/>\n     <use style=\"fill:#ff7f0e;stroke:#ff7f0e;\" x=\"115.356827\" xlink:href=\"#m0e7f5e0897\" y=\"201.635528\"/>\n     <use style=\"fill:#ff7f0e;stroke:#ff7f0e;\" x=\"115.356827\" xlink:href=\"#m0e7f5e0897\" y=\"201.635528\"/>\n     <use style=\"fill:#ff7f0e;stroke:#ff7f0e;\" x=\"115.356827\" xlink:href=\"#m0e7f5e0897\" y=\"201.635528\"/>\n     <use style=\"fill:#ff7f0e;stroke:#ff7f0e;\" x=\"117.444137\" xlink:href=\"#m0e7f5e0897\" y=\"201.635528\"/>\n     <use style=\"fill:#ff7f0e;stroke:#ff7f0e;\" x=\"119.113986\" xlink:href=\"#m0e7f5e0897\" y=\"201.635528\"/>\n     <use style=\"fill:#ff7f0e;stroke:#ff7f0e;\" x=\"123.407883\" xlink:href=\"#m0e7f5e0897\" y=\"207.28332\"/>\n     <use style=\"fill:#ff7f0e;stroke:#ff7f0e;\" x=\"123.407883\" xlink:href=\"#m0e7f5e0897\" y=\"207.28332\"/>\n     <use style=\"fill:#ff7f0e;stroke:#ff7f0e;\" x=\"124.489843\" xlink:href=\"#m0e7f5e0897\" y=\"207.28332\"/>\n     <use style=\"fill:#ff7f0e;stroke:#ff7f0e;\" x=\"127.311425\" xlink:href=\"#m0e7f5e0897\" y=\"207.28332\"/>\n     <use style=\"fill:#ff7f0e;stroke:#ff7f0e;\" x=\"127.311425\" xlink:href=\"#m0e7f5e0897\" y=\"207.28332\"/>\n     <use style=\"fill:#ff7f0e;stroke:#ff7f0e;\" x=\"128.690161\" xlink:href=\"#m0e7f5e0897\" y=\"207.28332\"/>\n     <use style=\"fill:#ff7f0e;stroke:#ff7f0e;\" x=\"131.458939\" xlink:href=\"#m0e7f5e0897\" y=\"207.28332\"/>\n     <use style=\"fill:#ff7f0e;stroke:#ff7f0e;\" x=\"131.7944\" xlink:href=\"#m0e7f5e0897\" y=\"207.28332\"/>\n     <use style=\"fill:#ff7f0e;stroke:#ff7f0e;\" x=\"136.069373\" xlink:href=\"#m0e7f5e0897\" y=\"201.635528\"/>\n     <use style=\"fill:#ff7f0e;stroke:#ff7f0e;\" x=\"142.216045\" xlink:href=\"#m0e7f5e0897\" y=\"207.28332\"/>\n     <use style=\"fill:#ff7f0e;stroke:#ff7f0e;\" x=\"143.088243\" xlink:href=\"#m0e7f5e0897\" y=\"207.28332\"/>\n     <use style=\"fill:#ff7f0e;stroke:#ff7f0e;\" x=\"144.161717\" xlink:href=\"#m0e7f5e0897\" y=\"201.635528\"/>\n     <use style=\"fill:#ff7f0e;stroke:#ff7f0e;\" x=\"153.035771\" xlink:href=\"#m0e7f5e0897\" y=\"201.635528\"/>\n     <use style=\"fill:#ff7f0e;stroke:#ff7f0e;\" x=\"155.433196\" xlink:href=\"#m0e7f5e0897\" y=\"207.28332\"/>\n     <use style=\"fill:#ff7f0e;stroke:#ff7f0e;\" x=\"157.012292\" xlink:href=\"#m0e7f5e0897\" y=\"207.28332\"/>\n     <use style=\"fill:#ff7f0e;stroke:#ff7f0e;\" x=\"157.885468\" xlink:href=\"#m0e7f5e0897\" y=\"207.28332\"/>\n     <use style=\"fill:#ff7f0e;stroke:#ff7f0e;\" x=\"159.190356\" xlink:href=\"#m0e7f5e0897\" y=\"195.987735\"/>\n     <use style=\"fill:#ff7f0e;stroke:#ff7f0e;\" x=\"161.547789\" xlink:href=\"#m0e7f5e0897\" y=\"190.339943\"/>\n     <use style=\"fill:#ff7f0e;stroke:#ff7f0e;\" x=\"163.546483\" xlink:href=\"#m0e7f5e0897\" y=\"184.692151\"/>\n     <use style=\"fill:#ff7f0e;stroke:#ff7f0e;\" x=\"166.239503\" xlink:href=\"#m0e7f5e0897\" y=\"184.692151\"/>\n     <use style=\"fill:#ff7f0e;stroke:#ff7f0e;\" x=\"166.34685\" xlink:href=\"#m0e7f5e0897\" y=\"184.692151\"/>\n     <use style=\"fill:#ff7f0e;stroke:#ff7f0e;\" x=\"167.394142\" xlink:href=\"#m0e7f5e0897\" y=\"173.396567\"/>\n     <use style=\"fill:#ff7f0e;stroke:#ff7f0e;\" x=\"171.562967\" xlink:href=\"#m0e7f5e0897\" y=\"173.396567\"/>\n     <use style=\"fill:#ff7f0e;stroke:#ff7f0e;\" x=\"172.311675\" xlink:href=\"#m0e7f5e0897\" y=\"184.692151\"/>\n     <use style=\"fill:#ff7f0e;stroke:#ff7f0e;\" x=\"172.738901\" xlink:href=\"#m0e7f5e0897\" y=\"190.339943\"/>\n     <use style=\"fill:#ff7f0e;stroke:#ff7f0e;\" x=\"175.239083\" xlink:href=\"#m0e7f5e0897\" y=\"195.987735\"/>\n     <use style=\"fill:#ff7f0e;stroke:#ff7f0e;\" x=\"176.008391\" xlink:href=\"#m0e7f5e0897\" y=\"195.987735\"/>\n     <use style=\"fill:#ff7f0e;stroke:#ff7f0e;\" x=\"180.281051\" xlink:href=\"#m0e7f5e0897\" y=\"201.635528\"/>\n     <use style=\"fill:#ff7f0e;stroke:#ff7f0e;\" x=\"181.96102\" xlink:href=\"#m0e7f5e0897\" y=\"201.635528\"/>\n     <use style=\"fill:#ff7f0e;stroke:#ff7f0e;\" x=\"182.311338\" xlink:href=\"#m0e7f5e0897\" y=\"195.987735\"/>\n     <use style=\"fill:#ff7f0e;stroke:#ff7f0e;\" x=\"190.138754\" xlink:href=\"#m0e7f5e0897\" y=\"201.635528\"/>\n     <use style=\"fill:#ff7f0e;stroke:#ff7f0e;\" x=\"204.247808\" xlink:href=\"#m0e7f5e0897\" y=\"207.28332\"/>\n     <use style=\"fill:#ff7f0e;stroke:#ff7f0e;\" x=\"227.822549\" xlink:href=\"#m0e7f5e0897\" y=\"229.874489\"/>\n     <use style=\"fill:#ff7f0e;stroke:#ff7f0e;\" x=\"266.632189\" xlink:href=\"#m0e7f5e0897\" y=\"207.28332\"/>\n     <use style=\"fill:#ff7f0e;stroke:#ff7f0e;\" x=\"266.882312\" xlink:href=\"#m0e7f5e0897\" y=\"201.635528\"/>\n     <use style=\"fill:#ff7f0e;stroke:#ff7f0e;\" x=\"363.363068\" xlink:href=\"#m0e7f5e0897\" y=\"224.226696\"/>\n    </g>\n   </g>\n   <g id=\"patch_3\">\n    <path d=\"M 43.78125 239.758125 \nL 43.78125 22.318125 \n\" style=\"fill:none;stroke:#000000;stroke-linecap:square;stroke-linejoin:miter;stroke-width:0.8;\"/>\n   </g>\n   <g id=\"patch_4\">\n    <path d=\"M 378.58125 239.758125 \nL 378.58125 22.318125 \n\" style=\"fill:none;stroke:#000000;stroke-linecap:square;stroke-linejoin:miter;stroke-width:0.8;\"/>\n   </g>\n   <g id=\"patch_5\">\n    <path d=\"M 43.78125 239.758125 \nL 378.58125 239.758125 \n\" style=\"fill:none;stroke:#000000;stroke-linecap:square;stroke-linejoin:miter;stroke-width:0.8;\"/>\n   </g>\n   <g id=\"patch_6\">\n    <path d=\"M 43.78125 22.318125 \nL 378.58125 22.318125 \n\" style=\"fill:none;stroke:#000000;stroke-linecap:square;stroke-linejoin:miter;stroke-width:0.8;\"/>\n   </g>\n   <g id=\"text_17\">\n    <!-- Accuracy vs alpha for training and testing sets -->\n    <defs>\n     <path d=\"M 34.1875 63.1875 \nL 20.796875 26.90625 \nL 47.609375 26.90625 \nz\nM 28.609375 72.90625 \nL 39.796875 72.90625 \nL 67.578125 0 \nL 57.328125 0 \nL 50.6875 18.703125 \nL 17.828125 18.703125 \nL 11.1875 0 \nL 0.78125 0 \nz\n\" id=\"DejaVuSans-65\"/>\n     <path id=\"DejaVuSans-32\"/>\n     <path d=\"M 2.984375 54.6875 \nL 12.5 54.6875 \nL 29.59375 8.796875 \nL 46.6875 54.6875 \nL 56.203125 54.6875 \nL 35.6875 0 \nL 23.484375 0 \nz\n\" id=\"DejaVuSans-118\"/>\n     <path d=\"M 44.28125 53.078125 \nL 44.28125 44.578125 \nQ 40.484375 46.53125 36.375 47.5 \nQ 32.28125 48.484375 27.875 48.484375 \nQ 21.1875 48.484375 17.84375 46.4375 \nQ 14.5 44.390625 14.5 40.28125 \nQ 14.5 37.15625 16.890625 35.375 \nQ 19.28125 33.59375 26.515625 31.984375 \nL 29.59375 31.296875 \nQ 39.15625 29.25 43.1875 25.515625 \nQ 47.21875 21.78125 47.21875 15.09375 \nQ 47.21875 7.46875 41.1875 3.015625 \nQ 35.15625 -1.421875 24.609375 -1.421875 \nQ 20.21875 -1.421875 15.453125 -0.5625 \nQ 10.6875 0.296875 5.421875 2 \nL 5.421875 11.28125 \nQ 10.40625 8.6875 15.234375 7.390625 \nQ 20.0625 6.109375 24.8125 6.109375 \nQ 31.15625 6.109375 34.5625 8.28125 \nQ 37.984375 10.453125 37.984375 14.40625 \nQ 37.984375 18.0625 35.515625 20.015625 \nQ 33.0625 21.96875 24.703125 23.78125 \nL 21.578125 24.515625 \nQ 13.234375 26.265625 9.515625 29.90625 \nQ 5.8125 33.546875 5.8125 39.890625 \nQ 5.8125 47.609375 11.28125 51.796875 \nQ 16.75 56 26.8125 56 \nQ 31.78125 56 36.171875 55.265625 \nQ 40.578125 54.546875 44.28125 53.078125 \nz\n\" id=\"DejaVuSans-115\"/>\n     <path d=\"M 37.109375 75.984375 \nL 37.109375 68.5 \nL 28.515625 68.5 \nQ 23.6875 68.5 21.796875 66.546875 \nQ 19.921875 64.59375 19.921875 59.515625 \nL 19.921875 54.6875 \nL 34.71875 54.6875 \nL 34.71875 47.703125 \nL 19.921875 47.703125 \nL 19.921875 0 \nL 10.890625 0 \nL 10.890625 47.703125 \nL 2.296875 47.703125 \nL 2.296875 54.6875 \nL 10.890625 54.6875 \nL 10.890625 58.5 \nQ 10.890625 67.625 15.140625 71.796875 \nQ 19.390625 75.984375 28.609375 75.984375 \nz\n\" id=\"DejaVuSans-102\"/>\n     <path d=\"M 30.609375 48.390625 \nQ 23.390625 48.390625 19.1875 42.75 \nQ 14.984375 37.109375 14.984375 27.296875 \nQ 14.984375 17.484375 19.15625 11.84375 \nQ 23.34375 6.203125 30.609375 6.203125 \nQ 37.796875 6.203125 41.984375 11.859375 \nQ 46.1875 17.53125 46.1875 27.296875 \nQ 46.1875 37.015625 41.984375 42.703125 \nQ 37.796875 48.390625 30.609375 48.390625 \nz\nM 30.609375 56 \nQ 42.328125 56 49.015625 48.375 \nQ 55.71875 40.765625 55.71875 27.296875 \nQ 55.71875 13.875 49.015625 6.21875 \nQ 42.328125 -1.421875 30.609375 -1.421875 \nQ 18.84375 -1.421875 12.171875 6.21875 \nQ 5.515625 13.875 5.515625 27.296875 \nQ 5.515625 40.765625 12.171875 48.375 \nQ 18.84375 56 30.609375 56 \nz\n\" id=\"DejaVuSans-111\"/>\n     <path d=\"M 18.3125 70.21875 \nL 18.3125 54.6875 \nL 36.8125 54.6875 \nL 36.8125 47.703125 \nL 18.3125 47.703125 \nL 18.3125 18.015625 \nQ 18.3125 11.328125 20.140625 9.421875 \nQ 21.96875 7.515625 27.59375 7.515625 \nL 36.8125 7.515625 \nL 36.8125 0 \nL 27.59375 0 \nQ 17.1875 0 13.234375 3.875 \nQ 9.28125 7.765625 9.28125 18.015625 \nL 9.28125 47.703125 \nL 2.6875 47.703125 \nL 2.6875 54.6875 \nL 9.28125 54.6875 \nL 9.28125 70.21875 \nz\n\" id=\"DejaVuSans-116\"/>\n     <path d=\"M 9.421875 54.6875 \nL 18.40625 54.6875 \nL 18.40625 0 \nL 9.421875 0 \nz\nM 9.421875 75.984375 \nL 18.40625 75.984375 \nL 18.40625 64.59375 \nL 9.421875 64.59375 \nz\n\" id=\"DejaVuSans-105\"/>\n     <path d=\"M 54.890625 33.015625 \nL 54.890625 0 \nL 45.90625 0 \nL 45.90625 32.71875 \nQ 45.90625 40.484375 42.875 44.328125 \nQ 39.84375 48.1875 33.796875 48.1875 \nQ 26.515625 48.1875 22.3125 43.546875 \nQ 18.109375 38.921875 18.109375 30.90625 \nL 18.109375 0 \nL 9.078125 0 \nL 9.078125 54.6875 \nL 18.109375 54.6875 \nL 18.109375 46.1875 \nQ 21.34375 51.125 25.703125 53.5625 \nQ 30.078125 56 35.796875 56 \nQ 45.21875 56 50.046875 50.171875 \nQ 54.890625 44.34375 54.890625 33.015625 \nz\n\" id=\"DejaVuSans-110\"/>\n     <path d=\"M 45.40625 27.984375 \nQ 45.40625 37.75 41.375 43.109375 \nQ 37.359375 48.484375 30.078125 48.484375 \nQ 22.859375 48.484375 18.828125 43.109375 \nQ 14.796875 37.75 14.796875 27.984375 \nQ 14.796875 18.265625 18.828125 12.890625 \nQ 22.859375 7.515625 30.078125 7.515625 \nQ 37.359375 7.515625 41.375 12.890625 \nQ 45.40625 18.265625 45.40625 27.984375 \nz\nM 54.390625 6.78125 \nQ 54.390625 -7.171875 48.1875 -13.984375 \nQ 42 -20.796875 29.203125 -20.796875 \nQ 24.46875 -20.796875 20.265625 -20.09375 \nQ 16.0625 -19.390625 12.109375 -17.921875 \nL 12.109375 -9.1875 \nQ 16.0625 -11.328125 19.921875 -12.34375 \nQ 23.78125 -13.375 27.78125 -13.375 \nQ 36.625 -13.375 41.015625 -8.765625 \nQ 45.40625 -4.15625 45.40625 5.171875 \nL 45.40625 9.625 \nQ 42.625 4.78125 38.28125 2.390625 \nQ 33.9375 0 27.875 0 \nQ 17.828125 0 11.671875 7.65625 \nQ 5.515625 15.328125 5.515625 27.984375 \nQ 5.515625 40.671875 11.671875 48.328125 \nQ 17.828125 56 27.875 56 \nQ 33.9375 56 38.28125 53.609375 \nQ 42.625 51.21875 45.40625 46.390625 \nL 45.40625 54.6875 \nL 54.390625 54.6875 \nz\n\" id=\"DejaVuSans-103\"/>\n     <path d=\"M 45.40625 46.390625 \nL 45.40625 75.984375 \nL 54.390625 75.984375 \nL 54.390625 0 \nL 45.40625 0 \nL 45.40625 8.203125 \nQ 42.578125 3.328125 38.25 0.953125 \nQ 33.9375 -1.421875 27.875 -1.421875 \nQ 17.96875 -1.421875 11.734375 6.484375 \nQ 5.515625 14.40625 5.515625 27.296875 \nQ 5.515625 40.1875 11.734375 48.09375 \nQ 17.96875 56 27.875 56 \nQ 33.9375 56 38.25 53.625 \nQ 42.578125 51.265625 45.40625 46.390625 \nz\nM 14.796875 27.296875 \nQ 14.796875 17.390625 18.875 11.75 \nQ 22.953125 6.109375 30.078125 6.109375 \nQ 37.203125 6.109375 41.296875 11.75 \nQ 45.40625 17.390625 45.40625 27.296875 \nQ 45.40625 37.203125 41.296875 42.84375 \nQ 37.203125 48.484375 30.078125 48.484375 \nQ 22.953125 48.484375 18.875 42.84375 \nQ 14.796875 37.203125 14.796875 27.296875 \nz\n\" id=\"DejaVuSans-100\"/>\n     <path d=\"M 56.203125 29.59375 \nL 56.203125 25.203125 \nL 14.890625 25.203125 \nQ 15.484375 15.921875 20.484375 11.0625 \nQ 25.484375 6.203125 34.421875 6.203125 \nQ 39.59375 6.203125 44.453125 7.46875 \nQ 49.3125 8.734375 54.109375 11.28125 \nL 54.109375 2.78125 \nQ 49.265625 0.734375 44.1875 -0.34375 \nQ 39.109375 -1.421875 33.890625 -1.421875 \nQ 20.796875 -1.421875 13.15625 6.1875 \nQ 5.515625 13.8125 5.515625 26.8125 \nQ 5.515625 40.234375 12.765625 48.109375 \nQ 20.015625 56 32.328125 56 \nQ 43.359375 56 49.78125 48.890625 \nQ 56.203125 41.796875 56.203125 29.59375 \nz\nM 47.21875 32.234375 \nQ 47.125 39.59375 43.09375 43.984375 \nQ 39.0625 48.390625 32.421875 48.390625 \nQ 24.90625 48.390625 20.390625 44.140625 \nQ 15.875 39.890625 15.1875 32.171875 \nz\n\" id=\"DejaVuSans-101\"/>\n    </defs>\n    <g transform=\"translate(71.14875 16.318125)scale(0.12 -0.12)\">\n     <use xlink:href=\"#DejaVuSans-65\"/>\n     <use x=\"68.392578\" xlink:href=\"#DejaVuSans-99\"/>\n     <use x=\"123.373047\" xlink:href=\"#DejaVuSans-99\"/>\n     <use x=\"178.353516\" xlink:href=\"#DejaVuSans-117\"/>\n     <use x=\"241.732422\" xlink:href=\"#DejaVuSans-114\"/>\n     <use x=\"282.845703\" xlink:href=\"#DejaVuSans-97\"/>\n     <use x=\"344.125\" xlink:href=\"#DejaVuSans-99\"/>\n     <use x=\"399.105469\" xlink:href=\"#DejaVuSans-121\"/>\n     <use x=\"458.285156\" xlink:href=\"#DejaVuSans-32\"/>\n     <use x=\"490.072266\" xlink:href=\"#DejaVuSans-118\"/>\n     <use x=\"549.251953\" xlink:href=\"#DejaVuSans-115\"/>\n     <use x=\"601.351562\" xlink:href=\"#DejaVuSans-32\"/>\n     <use x=\"633.138672\" xlink:href=\"#DejaVuSans-97\"/>\n     <use x=\"694.417969\" xlink:href=\"#DejaVuSans-108\"/>\n     <use x=\"722.201172\" xlink:href=\"#DejaVuSans-112\"/>\n     <use x=\"785.677734\" xlink:href=\"#DejaVuSans-104\"/>\n     <use x=\"849.056641\" xlink:href=\"#DejaVuSans-97\"/>\n     <use x=\"910.335938\" xlink:href=\"#DejaVuSans-32\"/>\n     <use x=\"942.123047\" xlink:href=\"#DejaVuSans-102\"/>\n     <use x=\"977.328125\" xlink:href=\"#DejaVuSans-111\"/>\n     <use x=\"1038.509766\" xlink:href=\"#DejaVuSans-114\"/>\n     <use x=\"1079.623047\" xlink:href=\"#DejaVuSans-32\"/>\n     <use x=\"1111.410156\" xlink:href=\"#DejaVuSans-116\"/>\n     <use x=\"1150.619141\" xlink:href=\"#DejaVuSans-114\"/>\n     <use x=\"1191.732422\" xlink:href=\"#DejaVuSans-97\"/>\n     <use x=\"1253.011719\" xlink:href=\"#DejaVuSans-105\"/>\n     <use x=\"1280.794922\" xlink:href=\"#DejaVuSans-110\"/>\n     <use x=\"1344.173828\" xlink:href=\"#DejaVuSans-105\"/>\n     <use x=\"1371.957031\" xlink:href=\"#DejaVuSans-110\"/>\n     <use x=\"1435.335938\" xlink:href=\"#DejaVuSans-103\"/>\n     <use x=\"1498.8125\" xlink:href=\"#DejaVuSans-32\"/>\n     <use x=\"1530.599609\" xlink:href=\"#DejaVuSans-97\"/>\n     <use x=\"1591.878906\" xlink:href=\"#DejaVuSans-110\"/>\n     <use x=\"1655.257812\" xlink:href=\"#DejaVuSans-100\"/>\n     <use x=\"1718.734375\" xlink:href=\"#DejaVuSans-32\"/>\n     <use x=\"1750.521484\" xlink:href=\"#DejaVuSans-116\"/>\n     <use x=\"1789.730469\" xlink:href=\"#DejaVuSans-101\"/>\n     <use x=\"1851.253906\" xlink:href=\"#DejaVuSans-115\"/>\n     <use x=\"1903.353516\" xlink:href=\"#DejaVuSans-116\"/>\n     <use x=\"1942.5625\" xlink:href=\"#DejaVuSans-105\"/>\n     <use x=\"1970.345703\" xlink:href=\"#DejaVuSans-110\"/>\n     <use x=\"2033.724609\" xlink:href=\"#DejaVuSans-103\"/>\n     <use x=\"2097.201172\" xlink:href=\"#DejaVuSans-32\"/>\n     <use x=\"2128.988281\" xlink:href=\"#DejaVuSans-115\"/>\n     <use x=\"2181.087891\" xlink:href=\"#DejaVuSans-101\"/>\n     <use x=\"2242.611328\" xlink:href=\"#DejaVuSans-116\"/>\n     <use x=\"2281.820312\" xlink:href=\"#DejaVuSans-115\"/>\n    </g>\n   </g>\n   <g id=\"legend_1\">\n    <g id=\"patch_7\">\n     <path d=\"M 316.30625 59.674375 \nL 371.58125 59.674375 \nQ 373.58125 59.674375 373.58125 57.674375 \nL 373.58125 29.318125 \nQ 373.58125 27.318125 371.58125 27.318125 \nL 316.30625 27.318125 \nQ 314.30625 27.318125 314.30625 29.318125 \nL 314.30625 57.674375 \nQ 314.30625 59.674375 316.30625 59.674375 \nz\n\" style=\"fill:#ffffff;opacity:0.8;stroke:#cccccc;stroke-linejoin:miter;\"/>\n    </g>\n    <g id=\"line2d_17\">\n     <path d=\"M 318.30625 35.416562 \nL 338.30625 35.416562 \n\" style=\"fill:none;stroke:#1f77b4;stroke-linecap:square;stroke-width:1.5;\"/>\n    </g>\n    <g id=\"line2d_18\">\n     <g>\n      <use style=\"fill:#1f77b4;stroke:#1f77b4;\" x=\"328.30625\" xlink:href=\"#m1d103f8858\" y=\"35.416562\"/>\n     </g>\n    </g>\n    <g id=\"text_18\">\n     <!-- train -->\n     <g transform=\"translate(346.30625 38.916562)scale(0.1 -0.1)\">\n      <use xlink:href=\"#DejaVuSans-116\"/>\n      <use x=\"39.208984\" xlink:href=\"#DejaVuSans-114\"/>\n      <use x=\"80.322266\" xlink:href=\"#DejaVuSans-97\"/>\n      <use x=\"141.601562\" xlink:href=\"#DejaVuSans-105\"/>\n      <use x=\"169.384766\" xlink:href=\"#DejaVuSans-110\"/>\n     </g>\n    </g>\n    <g id=\"line2d_19\">\n     <path d=\"M 318.30625 50.094687 \nL 338.30625 50.094687 \n\" style=\"fill:none;stroke:#ff7f0e;stroke-linecap:square;stroke-width:1.5;\"/>\n    </g>\n    <g id=\"line2d_20\">\n     <g>\n      <use style=\"fill:#ff7f0e;stroke:#ff7f0e;\" x=\"328.30625\" xlink:href=\"#m0e7f5e0897\" y=\"50.094687\"/>\n     </g>\n    </g>\n    <g id=\"text_19\">\n     <!-- test -->\n     <g transform=\"translate(346.30625 53.594687)scale(0.1 -0.1)\">\n      <use xlink:href=\"#DejaVuSans-116\"/>\n      <use x=\"39.208984\" xlink:href=\"#DejaVuSans-101\"/>\n      <use x=\"100.732422\" xlink:href=\"#DejaVuSans-115\"/>\n      <use x=\"152.832031\" xlink:href=\"#DejaVuSans-116\"/>\n     </g>\n    </g>\n   </g>\n  </g>\n </g>\n <defs>\n  <clipPath id=\"p9b9c63cfb8\">\n   <rect height=\"217.44\" width=\"334.8\" x=\"43.78125\" y=\"22.318125\"/>\n  </clipPath>\n </defs>\n</svg>\n",
      "text/plain": "<Figure size 432x288 with 1 Axes>"
     },
     "metadata": {
      "needs_background": "light"
     },
     "output_type": "display_data"
    }
   ],
   "source": [
    "train_scores = [clf.score(train_features_procesed, train_labels) for clf in clfs]\n",
    "test_scores = [clf.score(validation_features_procesed, validation_labels) for clf in clfs]\n",
    "\n",
    "fig, ax = plt.subplots()\n",
    "ax.set_xlabel(\"alpha\")\n",
    "ax.set_ylabel(\"accuracy\")\n",
    "ax.set_title(\"Accuracy vs alpha for training and testing sets\")\n",
    "ax.plot(ccp_alphas, train_scores, marker='o', label=\"train\",\n",
    "        drawstyle=\"steps-post\")\n",
    "ax.plot(ccp_alphas, test_scores, marker='o', label=\"test\",\n",
    "        drawstyle=\"steps-post\")\n",
    "ax.legend()\n",
    "plt.show()"
   ]
  },
  {
   "cell_type": "code",
   "execution_count": 11,
   "metadata": {},
   "outputs": [],
   "source": [
    "def evaluateClassifier(clf):\n",
    "    clf.fit(train_features_procesed, train_labels)\n",
    "    results = clf.predict(validation_features_procesed)\n",
    "    return f1_score(validation_labels, results)"
   ]
  },
  {
   "cell_type": "code",
   "execution_count": 12,
   "metadata": {},
   "outputs": [
    {
     "name": "stdout",
     "output_type": "stream",
     "text": "0.5507246376811593\n"
    }
   ],
   "source": [
    "from sklearn.metrics import f1_score\n",
    "\n",
    "clf = DecisionTreeClassifier(random_state=0, ccp_alpha=0.01)\n",
    "decision_tree_f1 = evaluateClassifier(clf)\n",
    "print(decision_tree_f1)"
   ]
  },
  {
   "cell_type": "code",
   "execution_count": 13,
   "metadata": {},
   "outputs": [
    {
     "name": "stdout",
     "output_type": "stream",
     "text": "0.4931506849315069\n"
    }
   ],
   "source": [
    "### Logistic Regression\n",
    "from sklearn.linear_model import LogisticRegression\n",
    "\n",
    "clf = LogisticRegression(random_state=0)\n",
    "logistic_regression_f1 = evaluateClassifier(clf)\n",
    "print(logistic_regression_f1)"
   ]
  },
  {
   "cell_type": "code",
   "execution_count": 14,
   "metadata": {},
   "outputs": [
    {
     "name": "stdout",
     "output_type": "stream",
     "text": "SVC(C=1.0, break_ties=False, cache_size=200, class_weight=None, coef0=0.0,\n    decision_function_shape='ovr', degree=3, gamma=1, kernel='rbf', max_iter=-1,\n    probability=False, random_state=None, shrinking=True, tol=0.001,\n    verbose=False)\n0.5373134328358209\n"
    }
   ],
   "source": [
    "### Support vector machines\n",
    "from sklearn.model_selection import GridSearchCV\n",
    "from sklearn.svm import SVC\n",
    "params = [\n",
    "    {'kernel':['linear', 'rbf', 'sigmoid']},\n",
    "    {'kernel': ['rbf'], 'gamma':[0.001, 0.01, 0.1, 0.5, 1, 10, 100]}\n",
    "]\n",
    "clf = SVC()\n",
    "grid_search = GridSearchCV(clf, params, cv=3, scoring=\"f1\", return_train_score=True)\n",
    "grid_search.fit(train_features_procesed, train_labels)\n",
    "print(grid_search.best_estimator_)\n",
    "\n",
    "clf = SVC(kernel='rbf', gamma=1)\n",
    "svm_f1 = evaluateClassifier(clf)\n",
    "print(svm_f1)"
   ]
  },
  {
   "cell_type": "code",
   "execution_count": 15,
   "metadata": {},
   "outputs": [
    {
     "name": "stdout",
     "output_type": "stream",
     "text": "KNeighborsClassifier(algorithm='auto', leaf_size=30, metric='minkowski',\n                     metric_params=None, n_jobs=None, n_neighbors=4, p=1,\n                     weights='distance')\n0.3225806451612903\n"
    }
   ],
   "source": [
    "### KNN\n",
    "from sklearn.neighbors import KNeighborsClassifier\n",
    "params = [\n",
    "    {'n_neighbors':[3,4,5,7,9], 'weights': ['uniform', 'distance'], 'algorithm':['auto'], 'p':[1, 2]}\n",
    "    ]\n",
    "clf = KNeighborsClassifier()\n",
    "grid_search = GridSearchCV(clf, params, cv=3, scoring=\"f1\", return_train_score=True)\n",
    "grid_search.fit(train_features_procesed, train_labels)\n",
    "print(grid_search.best_estimator_)\n",
    "\n",
    "\n",
    "\n",
    "clf = KNeighborsClassifier(algorithm='auto', leaf_size=30, metric='minkowski', n_neighbors=3, p=1, weights='uniform')\n",
    "knn_f1 = evaluateClassifier(clf)\n",
    "print(knn_f1)"
   ]
  },
  {
   "cell_type": "code",
   "execution_count": 16,
   "metadata": {},
   "outputs": [
    {
     "name": "stdout",
     "output_type": "stream",
     "text": "0.6265060240963856\n"
    }
   ],
   "source": [
    "### Naive Bayes\n",
    "from sklearn.naive_bayes import GaussianNB\n",
    "clf = GaussianNB()\n",
    "naive_bayes_f1 = evaluateClassifier(clf)\n",
    "print(naive_bayes_f1)"
   ]
  },
  {
   "cell_type": "code",
   "execution_count": 17,
   "metadata": {},
   "outputs": [
    {
     "name": "stdout",
     "output_type": "stream",
     "text": "Perceptron(alpha=0.0001, class_weight=None, early_stopping=False, eta0=1.0,\n           fit_intercept=True, max_iter=1000, n_iter_no_change=5, n_jobs=None,\n           penalty='l2', random_state=0, shuffle=True, tol=0.001,\n           validation_fraction=0.1, verbose=0, warm_start=False)\n0.53125\n"
    }
   ],
   "source": [
    "### Perceptron\n",
    "from sklearn.linear_model import Perceptron\n",
    "\n",
    "params = [\n",
    "    {'penalty':[None,'l1','l2','elasticnet']}\n",
    "    ]\n",
    "clf = Perceptron()\n",
    "grid_search = GridSearchCV(clf, params, cv=3, scoring=\"f1\", return_train_score=True)\n",
    "grid_search.fit(train_features_procesed, train_labels)\n",
    "print(grid_search.best_estimator_)\n",
    "\n",
    "clf = Perceptron(penalty='l2')\n",
    "perceptron_f1 = evaluateClassifier(clf)\n",
    "print(perceptron_f1)"
   ]
  },
  {
   "cell_type": "code",
   "execution_count": 18,
   "metadata": {},
   "outputs": [],
   "source": [
    "### MLP\n",
    "from sklearn.neural_network import MLPClassifier\n",
    "\n",
    "params = [\n",
    "        {'hidden_layer_sizes':[(10, ),(50, ),(100, ),(150, ),(200, )]},\n",
    "        {'activation':['identity', 'logistic', 'tanh', 'relu']},\n",
    "        {'solver': ['lbfgs', 'adam']},\n",
    "        {'alpha':[0.0001, 0.01]},\n",
    "        {'learning_rate': ['constant','invscaling','adaptive']},\n",
    "        {'random_state': [0]},\n",
    "        {'early_stopping': [True]},\n",
    "\n",
    "    ]\n",
    "# clf = MLPClassifier()\n",
    "# grid_search = GridSearchCV(clf, params, cv=3, scoring=\"f1\", return_train_score=True)\n",
    "# grid_search.fit(train_features_procesed, train_labels);\n",
    "# print(grid_search.best_estimator_)"
   ]
  },
  {
   "cell_type": "code",
   "execution_count": 20,
   "metadata": {},
   "outputs": [
    {
     "name": "stdout",
     "output_type": "stream",
     "text": "0.6129032258064516\n"
    }
   ],
   "source": [
    "clf = MLPClassifier(max_iter=500, activation='relu', alpha=0.0001, batch_size='auto', early_stopping=False,\n",
    "              hidden_layer_sizes=(100,), learning_rate='constant',\n",
    "              learning_rate_init=0.001, random_state=0,  solver='lbfgs')\n",
    "mlp_f1 = evaluateClassifier(clf)\n",
    "print(mlp_f1)"
   ]
  },
  {
   "cell_type": "code",
   "execution_count": null,
   "metadata": {},
   "outputs": [],
   "source": []
  },
  {
   "cell_type": "code",
   "execution_count": null,
   "metadata": {},
   "outputs": [],
   "source": []
  },
  {
   "cell_type": "code",
   "execution_count": null,
   "metadata": {},
   "outputs": [],
   "source": []
  },
  {
   "cell_type": "code",
   "execution_count": null,
   "metadata": {},
   "outputs": [],
   "source": []
  },
  {
   "cell_type": "code",
   "execution_count": null,
   "metadata": {},
   "outputs": [],
   "source": []
  },
  {
   "cell_type": "code",
   "execution_count": null,
   "metadata": {},
   "outputs": [],
   "source": []
  },
  {
   "cell_type": "code",
   "execution_count": null,
   "metadata": {},
   "outputs": [],
   "source": []
  },
  {
   "cell_type": "code",
   "execution_count": null,
   "metadata": {},
   "outputs": [],
   "source": []
  },
  {
   "cell_type": "code",
   "execution_count": null,
   "metadata": {},
   "outputs": [],
   "source": []
  }
 ],
 "metadata": {
  "colab": {
   "name": "SocialNetworkProject.ipynb",
   "provenance": [
    {
     "file_id": "1N-KIclcJYEoURhZVwDt0DGVgXet2KmJu",
     "timestamp": 1570870794922
    }
   ]
  },
  "kernelspec": {
   "display_name": "Python3 (venv)",
   "language": "python",
   "name": "venv"
  },
  "language_info": {
   "codemirror_mode": {
    "name": "ipython",
    "version": 3
   },
   "file_extension": ".py",
   "mimetype": "text/x-python",
   "name": "python",
   "nbconvert_exporter": "python",
   "pygments_lexer": "ipython3",
   "version": "3.7.4"
  }
 },
 "nbformat": 4,
 "nbformat_minor": 1
}