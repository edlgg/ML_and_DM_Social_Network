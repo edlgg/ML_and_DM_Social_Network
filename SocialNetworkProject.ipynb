{
 "cells": [
  {
   "cell_type": "code",
   "execution_count": 273,
   "metadata": {},
   "outputs": [],
   "source": [
    "import pandas as pd \n",
    "data = pd.read_csv('CE802_Ass_2019_Data.csv').sample(frac=1)\n",
    "test_features = pd.read_csv('CE802_Ass_2019_Test.csv').drop(\"Class\", axis=1)"
   ]
  },
  {
   "cell_type": "code",
   "execution_count": 274,
   "metadata": {},
   "outputs": [],
   "source": [
    "split = int(len(data) * 0.15)\n",
    "validation = data[0:split]\n",
    "train = data[split:]"
   ]
  },
  {
   "cell_type": "code",
   "execution_count": 275,
   "metadata": {},
   "outputs": [],
   "source": [
    "train_labels = train[\"Class\"]\n",
    "train_features = train.drop(\"Class\", axis=1)\n",
    "validation_labels = validation[\"Class\"]\n",
    "validation_features = validation.drop(\"Class\", axis=1)"
   ]
  },
  {
   "cell_type": "code",
   "execution_count": 276,
   "metadata": {},
   "outputs": [],
   "source": [
    "from sklearn.impute import SimpleImputer, KNNImputer\n",
    "from sklearn.preprocessing import MinMaxScaler, StandardScaler\n",
    "\n",
    "def imputeF20(X, method='none'):\n",
    "    if method == 'none':\n",
    "        return pd.DataFrame(X)\n",
    "    if method == 'drop':\n",
    "        X = X.drop(\"F20\",axis=1).values\n",
    "        return pd.DataFrame(X)\n",
    "    if method == 'constant':\n",
    "        imp = SimpleImputer(strategy='constant')\n",
    "    if method == 'mean':\n",
    "        imp = SimpleImputer(strategy='mean')\n",
    "    if method == 'knn':\n",
    "        imp = KNNImputer(n_neighbors=5)\n",
    "\n",
    "    imp.fit(X)\n",
    "    return pd.DataFrame(imp.transform(X))\n",
    "\n",
    "def scale(X, method='none'):\n",
    "    if method == 'none':\n",
    "        return pd.DataFrame(X)\n",
    "    if method == 'norm':\n",
    "        scaler = MinMaxScaler()\n",
    "    if method == 'std':\n",
    "        scaler = StandardScaler()\n",
    "    \n",
    "    scaler.fit(X)\n",
    "    return pd.DataFrame(scaler.transform(X))"
   ]
  },
  {
   "cell_type": "code",
   "execution_count": 319,
   "metadata": {},
   "outputs": [],
   "source": [
    "imputation_method = 'knn'\n",
    "scaling_method = 'norm'\n",
    "\n",
    "train_features_procesed = imputeF20(train_features, imputation_method)\n",
    "train_features_procesed = scale(train_features_procesed, scaling_method )\n",
    "\n",
    "validation_features_procesed = imputeF20(validation_features, imputation_method)\n",
    "validation_features_procesed = scale(validation_features_procesed, scaling_method )"
   ]
  },
  {
   "cell_type": "code",
   "execution_count": 411,
   "metadata": {},
   "outputs": [
    {
     "data": {
      "text/plain": "GridSearchCV(cv=3, error_score=nan,\n             estimator=DecisionTreeClassifier(ccp_alpha=0.0, class_weight=None,\n                                              criterion='gini', max_depth=None,\n                                              max_features=None,\n                                              max_leaf_nodes=None,\n                                              min_impurity_decrease=0.0,\n                                              min_impurity_split=None,\n                                              min_samples_leaf=1,\n                                              min_samples_split=2,\n                                              min_weight_fraction_leaf=0.0,\n                                              presort='deprecated',\n                                              random_state=None,\n                                              splitter='best'),\n             iid='deprecated', n_jobs=None,\n             param_grid=[{'max_depth': [5, 20, 30, 50, 100, 200]}],\n             pre_dispatch='2*n_jobs', refit=True, return_train_score=True,\n             scoring='f1', verbose=0)"
     },
     "execution_count": 411,
     "metadata": {},
     "output_type": "execute_result"
    }
   ],
   "source": [
    "from sklearn.tree import DecisionTreeClassifier\n",
    "from sklearn.model_selection import GridSearchCV\n",
    "param_grid = [\n",
    "  {'max_depth': [5,20,30,50,100,200]},\n",
    " ]\n",
    "tree = DecisionTreeClassifier()\n",
    "# tree.fit(train_features_procesed, train_labels);\n",
    "\n",
    "grid_search = GridSearchCV(tree, param_grid, cv=3, scoring=\"f1\", return_train_score=True)\n",
    "\n",
    "grid_search.fit(train_features_procesed, train_labels)"
   ]
  },
  {
   "cell_type": "code",
   "execution_count": 410,
   "metadata": {},
   "outputs": [
    {
     "data": {
      "text/plain": "{'max_depth': 100}"
     },
     "execution_count": 410,
     "metadata": {},
     "output_type": "execute_result"
    }
   ],
   "source": []
  },
  {
   "cell_type": "code",
   "execution_count": 393,
   "metadata": {},
   "outputs": [],
   "source": [
    "# preds = tree.predict(validation_features_procesed)"
   ]
  },
  {
   "cell_type": "code",
   "execution_count": 394,
   "metadata": {},
   "outputs": [
    {
     "data": {
      "text/plain": "array([0.52348993, 0.512     , 0.23255814])"
     },
     "execution_count": 394,
     "metadata": {},
     "output_type": "execute_result"
    }
   ],
   "source": [
    "from sklearn.model_selection import cross_val_score\n",
    "cross_val_score(tree, train_features_procesed, train_labels, cv=3, scoring='f1')"
   ]
  },
  {
   "cell_type": "code",
   "execution_count": 396,
   "metadata": {},
   "outputs": [
    {
     "data": {
      "text/plain": "array([ True, False, False,  True,  True,  True,  True,  True,  True,\n       False,  True,  True, False, False,  True, False, False, False,\n       False, False,  True,  True, False,  True, False,  True,  True,\n        True,  True,  True,  True,  True,  True,  True, False,  True,\n        True,  True, False, False,  True, False, False,  True,  True,\n       False,  True, False,  True, False,  True,  True,  True,  True,\n        True, False,  True,  True, False,  True, False,  True, False,\n        True,  True, False, False, False,  True,  True,  True,  True,\n        True, False,  True,  True,  True, False,  True, False,  True,\n       False, False,  True, False, False, False,  True, False,  True,\n        True,  True, False, False, False, False,  True,  True,  True,\n       False, False, False,  True,  True,  True,  True, False,  True,\n        True, False,  True,  True, False, False, False,  True,  True,\n       False,  True,  True, False, False,  True, False, False,  True,\n        True, False,  True, False, False, False, False,  True,  True,\n        True, False,  True, False, False,  True,  True, False, False,\n       False,  True,  True,  True,  True,  True, False, False, False,\n       False,  True,  True, False,  True, False, False,  True,  True,\n        True,  True, False,  True, False, False, False, False, False,\n       False,  True,  True, False,  True,  True,  True, False,  True,\n        True, False,  True, False, False, False, False, False, False,\n       False,  True,  True,  True, False, False,  True,  True, False,\n       False,  True, False,  True,  True,  True, False, False, False,\n        True, False,  True, False,  True, False, False,  True,  True,\n       False, False,  True,  True, False,  True, False, False, False,\n       False, False,  True, False, False, False, False, False,  True,\n       False, False,  True, False,  True,  True, False,  True, False,\n       False,  True, False, False, False,  True, False, False, False,\n       False,  True,  True,  True,  True, False,  True, False,  True,\n       False, False,  True, False,  True, False,  True,  True, False,\n       False,  True, False, False, False,  True,  True, False, False,\n       False,  True, False, False, False, False, False, False,  True,\n       False, False, False, False,  True, False,  True, False,  True,\n       False, False, False, False, False,  True, False,  True, False,\n        True, False, False, False, False, False, False, False, False,\n       False,  True, False,  True, False, False, False, False, False,\n       False, False, False, False, False, False, False, False, False,\n       False, False, False, False, False,  True, False, False, False,\n       False, False, False, False, False, False, False,  True, False,\n       False, False, False,  True,  True,  True, False, False, False,\n       False, False,  True, False, False, False, False, False, False,\n       False, False, False, False, False, False,  True, False, False,\n       False, False, False, False, False, False, False, False, False,\n       False,  True, False, False,  True,  True, False,  True, False,\n       False, False, False, False, False, False, False, False,  True,\n       False, False,  True, False, False, False, False, False, False,\n       False, False, False, False, False, False, False, False, False,\n       False, False])"
     },
     "execution_count": 396,
     "metadata": {},
     "output_type": "execute_result"
    }
   ],
   "source": [
    "from sklearn.model_selection import cross_val_predict\n",
    "cross_val_predict(tree, train_features_procesed, train_labels, cv=3)"
   ]
  },
  {
   "cell_type": "code",
   "execution_count": null,
   "metadata": {},
   "outputs": [],
   "source": [
    "# Implementar el grid search que se borro\n",
    "# Implemtar Pruning\n",
    "# Hacer otros clfs, minimo 2\n",
    "# Comparar"
   ]
  }
 ],
 "metadata": {
  "colab": {
   "name": "SocialNetworkProject.ipynb",
   "provenance": [
    {
     "file_id": "1N-KIclcJYEoURhZVwDt0DGVgXet2KmJu",
     "timestamp": 1570870794922
    }
   ]
  },
  "kernelspec": {
   "display_name": "Python3 (venv)",
   "language": "python",
   "name": "venv"
  },
  "language_info": {
   "codemirror_mode": {
    "name": "ipython",
    "version": 3
   },
   "file_extension": ".py",
   "mimetype": "text/x-python",
   "name": "python",
   "nbconvert_exporter": "python",
   "pygments_lexer": "ipython3",
   "version": "3.7.4"
  }
 },
 "nbformat": 4,
 "nbformat_minor": 1
}