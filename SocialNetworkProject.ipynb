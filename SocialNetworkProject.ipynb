{
 "cells": [
  {
   "cell_type": "code",
   "execution_count": 273,
   "metadata": {},
   "outputs": [],
   "source": [
    "import pandas as pd \n",
    "data = pd.read_csv('CE802_Ass_2019_Data.csv').sample(frac=1)\n",
    "test_features = pd.read_csv('CE802_Ass_2019_Test.csv').drop(\"Class\", axis=1)"
   ]
  },
  {
   "cell_type": "code",
   "execution_count": 274,
   "metadata": {},
   "outputs": [],
   "source": [
    "split = int(len(data) * 0.15)\n",
    "validation = data[0:split]\n",
    "train = data[split:]"
   ]
  },
  {
   "cell_type": "code",
   "execution_count": 275,
   "metadata": {},
   "outputs": [],
   "source": [
    "train_labels = train[\"Class\"]\n",
    "train_features = train.drop(\"Class\", axis=1)\n",
    "validation_labels = validation[\"Class\"]\n",
    "validation_features = validation.drop(\"Class\", axis=1)"
   ]
  },
  {
   "cell_type": "code",
   "execution_count": 276,
   "metadata": {},
   "outputs": [],
   "source": [
    "from sklearn.impute import SimpleImputer, KNNImputer\n",
    "from sklearn.preprocessing import MinMaxScaler, StandardScaler\n",
    "\n",
    "def imputeF20(X, method='none'):\n",
    "    if method == 'none':\n",
    "        return pd.DataFrame(X)\n",
    "    if method == 'drop':\n",
    "        X = X.drop(\"F20\",axis=1).values\n",
    "        return pd.DataFrame(X)\n",
    "    if method == 'constant':\n",
    "        imp = SimpleImputer(strategy='constant')\n",
    "    if method == 'mean':\n",
    "        imp = SimpleImputer(strategy='mean')\n",
    "    if method == 'knn':\n",
    "        imp = KNNImputer(n_neighbors=5)\n",
    "\n",
    "    imp.fit(X)\n",
    "    return pd.DataFrame(imp.transform(X))\n",
    "\n",
    "def scale(X, method='none'):\n",
    "    if method == 'none':\n",
    "        return pd.DataFrame(X)\n",
    "    if method == 'norm':\n",
    "        scaler = MinMaxScaler()\n",
    "    if method == 'std':\n",
    "        scaler = StandardScaler()\n",
    "    \n",
    "    scaler.fit(X)\n",
    "    return pd.DataFrame(scaler.transform(X))"
   ]
  },
  {
   "cell_type": "code",
   "execution_count": 319,
   "metadata": {},
   "outputs": [],
   "source": [
    "imputation_method = 'knn'\n",
    "scaling_method = 'norm'\n",
    "\n",
    "train_features_procesed = imputeF20(train_features, imputation_method)\n",
    "train_features_procesed = scale(train_features_procesed, scaling_method )\n",
    "\n",
    "validation_features_procesed = imputeF20(validation_features, imputation_method)\n",
    "validation_features_procesed = scale(validation_features_procesed, scaling_method )"
   ]
  },
  {
   "cell_type": "code",
   "execution_count": 425,
   "metadata": {},
   "outputs": [
    {
     "name": "stdout",
     "output_type": "stream",
     "text": "0.27542961026304197 {'max_depth': 1}\n0.3567076198655146 {'max_depth': 2}\n0.41484131716689854 {'max_depth': 3}\n0.43191020403444313 {'max_depth': 4}\n0.5328699063246339 {'max_depth': 5}\n0.5594578869226757 {'max_depth': 6}\n0.5988715360948761 {'max_depth': 7}\n0.5937203127440442 {'max_depth': 8}\n0.5732223021829274 {'max_depth': 20}\n0.5902428471771537 {'max_depth': 30}\n0.5909470163962637 {'max_depth': 50}\n0.5782243848313618 {'max_depth': 100}\n0.5539234887060974 {'max_depth': 200}\n"
    }
   ],
   "source": [
    "from sklearn.tree import DecisionTreeClassifier\n",
    "from sklearn.model_selection import GridSearchCV\n",
    "param_grid = [\n",
    "  {'max_depth': [1,2,3,4,5,6,7,8,20,30,50,100,200]},\n",
    " ]\n",
    "tree = DecisionTreeClassifier()\n",
    "\n",
    "grid_search = GridSearchCV(tree, param_grid, cv=3, scoring=\"f1\", return_train_score=True)\n",
    "\n",
    "grid_search.fit(train_features_procesed, train_labels)\n",
    "\n",
    "cvres = grid_search.cv_results_\n",
    "for mean_score, params in zip(cvres[\"mean_test_score\"],cvres[\"params\"]):\n",
    "    print(mean_score,params)"
   ]
  },
  {
   "cell_type": "code",
   "execution_count": null,
   "metadata": {},
   "outputs": [],
   "source": [
    "# Implementar el grid search que se borro\n",
    "# Implemtar Pruning\n",
    "# Hacer otros clfs, minimo 2\n",
    "# Comparar"
   ]
  },
  {
   "cell_type": "code",
   "execution_count": 428,
   "metadata": {},
   "outputs": [
    {
     "data": {
      "text/plain": "DecisionTreeClassifier(ccp_alpha=0.0, class_weight=None, criterion='gini',\n                       max_depth=None, max_features=None, max_leaf_nodes=None,\n                       min_impurity_decrease=0.0, min_impurity_split=None,\n                       min_samples_leaf=1, min_samples_split=2,\n                       min_weight_fraction_leaf=0.0, presort='deprecated',\n                       random_state=None, splitter='best')"
     },
     "execution_count": 428,
     "metadata": {},
     "output_type": "execute_result"
    }
   ],
   "source": [
    "tree = DecisionTreeClassifier()\n",
    "tree.fit(train_features_procesed, train_labels)"
   ]
  },
  {
   "cell_type": "code",
   "execution_count": 430,
   "metadata": {},
   "outputs": [
    {
     "ename": "AttributeError",
     "evalue": "__abstractmethods__",
     "output_type": "error",
     "traceback": [
      "\u001b[0;31m---------------------------------------------------------------------------\u001b[0m",
      "\u001b[0;31mAttributeError\u001b[0m                            Traceback (most recent call last)",
      "\u001b[0;32m<ipython-input-430-b3db67bfe227>\u001b[0m in \u001b[0;36m<module>\u001b[0;34m\u001b[0m\n\u001b[0;32m----> 1\u001b[0;31m tree_methods = [method_name for method_name in dir(tree)\n\u001b[0m\u001b[1;32m      2\u001b[0m                   if callable(getattr(object, method_name))]\n",
      "\u001b[0;32m<ipython-input-430-b3db67bfe227>\u001b[0m in \u001b[0;36m<listcomp>\u001b[0;34m(.0)\u001b[0m\n\u001b[1;32m      1\u001b[0m tree_methods = [method_name for method_name in dir(tree)\n\u001b[0;32m----> 2\u001b[0;31m                   if callable(getattr(object, method_name))]\n\u001b[0m",
      "\u001b[0;31mAttributeError\u001b[0m: __abstractmethods__"
     ]
    }
   ],
   "source": [
    "object_methods = [method_name for method_name in dir(object)\n",
    "                  if callable(getattr(object, method_name))]"
   ]
  },
  {
   "cell_type": "code",
   "execution_count": null,
   "metadata": {},
   "outputs": [],
   "source": []
  }
 ],
 "metadata": {
  "colab": {
   "name": "SocialNetworkProject.ipynb",
   "provenance": [
    {
     "file_id": "1N-KIclcJYEoURhZVwDt0DGVgXet2KmJu",
     "timestamp": 1570870794922
    }
   ]
  },
  "kernelspec": {
   "display_name": "Python3 (venv)",
   "language": "python",
   "name": "venv"
  },
  "language_info": {
   "codemirror_mode": {
    "name": "ipython",
    "version": 3
   },
   "file_extension": ".py",
   "mimetype": "text/x-python",
   "name": "python",
   "nbconvert_exporter": "python",
   "pygments_lexer": "ipython3",
   "version": "3.7.4"
  }
 },
 "nbformat": 4,
 "nbformat_minor": 1
}