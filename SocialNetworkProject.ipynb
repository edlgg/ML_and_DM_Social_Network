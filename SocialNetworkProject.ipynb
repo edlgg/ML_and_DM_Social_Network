{
 "cells": [
  {
   "cell_type": "code",
   "execution_count": 69,
   "metadata": {},
   "outputs": [],
   "source": [
    "import pandas as pd \n",
    "data = pd.read_csv('CE802_Ass_2019_Data.csv').sample(frac=1, random_state=42)\n",
    "test_features = pd.read_csv('CE802_Ass_2019_Test.csv').drop(\"Class\", axis=1)"
   ]
  },
  {
   "cell_type": "code",
   "execution_count": 70,
   "metadata": {},
   "outputs": [],
   "source": [
    "cor_mat = data.corr()\n",
    "cor_mat[\"Class\"].sort_values(ascending=False);"
   ]
  },
  {
   "cell_type": "code",
   "execution_count": 71,
   "metadata": {},
   "outputs": [],
   "source": [
    "split = int(len(data) * 0.13)\n",
    "validation = data[0:split]\n",
    "train = data[split:]"
   ]
  },
  {
   "cell_type": "code",
   "execution_count": 72,
   "metadata": {},
   "outputs": [],
   "source": [
    "train_labels = train[\"Class\"]\n",
    "train_features = train.drop(\"Class\", axis=1)\n",
    "validation_labels = validation[\"Class\"]\n",
    "validation_features = validation.drop(\"Class\", axis=1)"
   ]
  },
  {
   "cell_type": "code",
   "execution_count": 73,
   "metadata": {},
   "outputs": [],
   "source": [
    "from sklearn.impute import SimpleImputer, KNNImputer\n",
    "from sklearn.preprocessing import MinMaxScaler, StandardScaler\n",
    "\n",
    "def featureSelection(X, level='low'):\n",
    "    type(X)\n",
    "    if level == 'low':\n",
    "        return X\n",
    "    if level == 'mid':\n",
    "        return X.drop(['F18', 'F8', 'F11', 'F17'], axis=1)\n",
    "    if level == 'high':\n",
    "        return X.drop(['F3', 'F5', 'F18', 'F8', 'F11', 'F17', 'F6', 'F2'], axis=1)\n",
    "\n",
    "def imputeF20(X, method='none'):\n",
    "    if method == 'none':\n",
    "        return pd.DataFrame(X)\n",
    "    if method == 'drop':\n",
    "        X = X.drop(\"F20\",axis=1).values\n",
    "        return pd.DataFrame(X)\n",
    "    if method == 'constant':\n",
    "        imp = SimpleImputer(strategy='constant')\n",
    "    if method == 'mean':\n",
    "        imp = SimpleImputer(strategy='mean')\n",
    "    if method == 'knn':\n",
    "        imp = KNNImputer(n_neighbors=5)\n",
    "\n",
    "    imp.fit(X)\n",
    "    return pd.DataFrame(imp.transform(X))\n",
    "\n",
    "def scale(X, method='none'):\n",
    "    if method == 'none':\n",
    "        return pd.DataFrame(X)\n",
    "    if method == 'norm':\n",
    "        scaler = MinMaxScaler()\n",
    "    if method == 'std':\n",
    "        scaler = StandardScaler()\n",
    "    \n",
    "    scaler.fit(X)\n",
    "    return pd.DataFrame(scaler.transform(X))"
   ]
  },
  {
   "cell_type": "code",
   "execution_count": 74,
   "metadata": {},
   "outputs": [],
   "source": [
    "selection_level = 'mid'\n",
    "imputation_method = 'knn'\n",
    "scaling_method = 'norm'\n",
    "\n",
    "train_features_procesed = featureSelection(train_features, level=selection_level)\n",
    "train_features_procesed = imputeF20(train_features_procesed, imputation_method)\n",
    "train_features_procesed = scale(train_features_procesed, scaling_method )\n",
    "\n",
    "validation_features_procesed = featureSelection(validation_features, selection_level)\n",
    "validation_features_procesed = imputeF20(validation_features_procesed, imputation_method)\n",
    "validation_features_procesed = scale(validation_features_procesed, scaling_method )"
   ]
  },
  {
   "cell_type": "code",
   "execution_count": 75,
   "metadata": {},
   "outputs": [],
   "source": [
    "#### Prunned Decision tree\n",
    "import matplotlib.pyplot as plt\n",
    "from sklearn.model_selection import train_test_split\n",
    "from sklearn.tree import DecisionTreeClassifier"
   ]
  },
  {
   "cell_type": "code",
   "execution_count": 76,
   "metadata": {},
   "outputs": [],
   "source": [
    "clf = DecisionTreeClassifier(random_state=42)\n",
    "path = clf.cost_complexity_pruning_path(train_features_procesed, train_labels)\n",
    "ccp_alphas, impurities = path.ccp_alphas, path.impurities"
   ]
  },
  {
   "cell_type": "code",
   "execution_count": 77,
   "metadata": {},
   "outputs": [],
   "source": [
    "clfs = []\n",
    "for ccp_alpha in ccp_alphas:\n",
    "    clf = DecisionTreeClassifier(random_state=42, ccp_alpha=ccp_alpha)\n",
    "    clf.fit(train_features_procesed, train_labels)\n",
    "    clfs.append(clf)"
   ]
  },
  {
   "cell_type": "code",
   "execution_count": 78,
   "metadata": {},
   "outputs": [
    {
     "data": {
      "image/png": "[encoded data removed]",
      "image/svg+xml": "<?xml version=\"1.0\" encoding=\"utf-8\" standalone=\"no\"?>\n<!DOCTYPE svg PUBLIC \"-//W3C//DTD SVG 1.1//EN\"\n  \"http://www.w3.org/Graphics/SVG/1.1/DTD/svg11.dtd\">\n<!-- Created with matplotlib (https://matplotlib.org/) -->\n<svg height=\"277.314375pt\" version=\"1.1\" viewBox=\"0 0 401.48502 277.314375\" width=\"401.48502pt\" xmlns=\"http://www.w3.org/2000/svg\" xmlns:xlink=\"http://www.w3.org/1999/xlink\">\n <defs>\n  <style type=\"text/css\">\n*{stroke-linecap:butt;stroke-linejoin:round;}\n  </style>\n </defs>\n <g id=\"figure_1\">\n  <g id=\"patch_1\">\n   <path d=\"M 0 277.314375 \nL 401.48502 277.314375 \nL 401.48502 0 \nL 0 0 \nz\n\" style=\"fill:none;\"/>\n  </g>\n  <g id=\"axes_1\">\n   <g id=\"patch_2\">\n    <path d=\"M 43.78125 239.758125 \nL 378.58125 239.758125 \nL 378.58125 22.318125 \nL 43.78125 22.318125 \nz\n\" style=\"fill:#ffffff;\"/>\n   </g>\n   <g id=\"matplotlib.axis_1\">\n    <g id=\"xtick_1\">\n     <g id=\"line2d_1\">\n      <defs>\n       <path d=\"M 0 0 \nL 0 3.5 \n\" id=\"m598a755041\" style=\"stroke:#000000;stroke-width:0.8;\"/>\n      </defs>\n      <g>\n       <use style=\"stroke:#000000;stroke-width:0.8;\" x=\"58.999432\" xlink:href=\"#m598a755041\" y=\"239.758125\"/>\n      </g>\n     </g>\n     <g id=\"text_1\">\n      <!-- 0.0000 -->\n      <defs>\n       <path d=\"M 31.78125 66.40625 \nQ 24.171875 66.40625 20.328125 58.90625 \nQ 16.5 51.421875 16.5 36.375 \nQ 16.5 21.390625 20.328125 13.890625 \nQ 24.171875 6.390625 31.78125 6.390625 \nQ 39.453125 6.390625 43.28125 13.890625 \nQ 47.125 21.390625 47.125 36.375 \nQ 47.125 51.421875 43.28125 58.90625 \nQ 39.453125 66.40625 31.78125 66.40625 \nz\nM 31.78125 74.21875 \nQ 44.046875 74.21875 50.515625 64.515625 \nQ 56.984375 54.828125 56.984375 36.375 \nQ 56.984375 17.96875 50.515625 8.265625 \nQ 44.046875 -1.421875 31.78125 -1.421875 \nQ 19.53125 -1.421875 13.0625 8.265625 \nQ 6.59375 17.96875 6.59375 36.375 \nQ 6.59375 54.828125 13.0625 64.515625 \nQ 19.53125 74.21875 31.78125 74.21875 \nz\n\" id=\"DejaVuSans-48\"/>\n       <path d=\"M 10.6875 12.40625 \nL 21 12.40625 \nL 21 0 \nL 10.6875 0 \nz\n\" id=\"DejaVuSans-46\"/>\n      </defs>\n      <g transform=\"translate(41.504119 254.356562)scale(0.1 -0.1)\">\n       <use xlink:href=\"#DejaVuSans-48\"/>\n       <use x=\"63.623047\" xlink:href=\"#DejaVuSans-46\"/>\n       <use x=\"95.410156\" xlink:href=\"#DejaVuSans-48\"/>\n       <use x=\"159.033203\" xlink:href=\"#DejaVuSans-48\"/>\n       <use x=\"222.65625\" xlink:href=\"#DejaVuSans-48\"/>\n       <use x=\"286.279297\" xlink:href=\"#DejaVuSans-48\"/>\n      </g>\n     </g>\n    </g>\n    <g id=\"xtick_2\">\n     <g id=\"line2d_2\">\n      <g>\n       <use style=\"stroke:#000000;stroke-width:0.8;\" x=\"98.723216\" xlink:href=\"#m598a755041\" y=\"239.758125\"/>\n      </g>\n     </g>\n     <g id=\"text_2\">\n      <!-- 0.0025 -->\n      <defs>\n       <path d=\"M 19.1875 8.296875 \nL 53.609375 8.296875 \nL 53.609375 0 \nL 7.328125 0 \nL 7.328125 8.296875 \nQ 12.9375 14.109375 22.625 23.890625 \nQ 32.328125 33.6875 34.8125 36.53125 \nQ 39.546875 41.84375 41.421875 45.53125 \nQ 43.3125 49.21875 43.3125 52.78125 \nQ 43.3125 58.59375 39.234375 62.25 \nQ 35.15625 65.921875 28.609375 65.921875 \nQ 23.96875 65.921875 18.8125 64.3125 \nQ 13.671875 62.703125 7.8125 59.421875 \nL 7.8125 69.390625 \nQ 13.765625 71.78125 18.9375 73 \nQ 24.125 74.21875 28.421875 74.21875 \nQ 39.75 74.21875 46.484375 68.546875 \nQ 53.21875 62.890625 53.21875 53.421875 \nQ 53.21875 48.921875 51.53125 44.890625 \nQ 49.859375 40.875 45.40625 35.40625 \nQ 44.1875 33.984375 37.640625 27.21875 \nQ 31.109375 20.453125 19.1875 8.296875 \nz\n\" id=\"DejaVuSans-50\"/>\n       <path d=\"M 10.796875 72.90625 \nL 49.515625 72.90625 \nL 49.515625 64.59375 \nL 19.828125 64.59375 \nL 19.828125 46.734375 \nQ 21.96875 47.46875 24.109375 47.828125 \nQ 26.265625 48.1875 28.421875 48.1875 \nQ 40.625 48.1875 47.75 41.5 \nQ 54.890625 34.8125 54.890625 23.390625 \nQ 54.890625 11.625 47.5625 5.09375 \nQ 40.234375 -1.421875 26.90625 -1.421875 \nQ 22.3125 -1.421875 17.546875 -0.640625 \nQ 12.796875 0.140625 7.71875 1.703125 \nL 7.71875 11.625 \nQ 12.109375 9.234375 16.796875 8.0625 \nQ 21.484375 6.890625 26.703125 6.890625 \nQ 35.15625 6.890625 40.078125 11.328125 \nQ 45.015625 15.765625 45.015625 23.390625 \nQ 45.015625 31 40.078125 35.4375 \nQ 35.15625 39.890625 26.703125 39.890625 \nQ 22.75 39.890625 18.8125 39.015625 \nQ 14.890625 38.140625 10.796875 36.28125 \nz\n\" id=\"DejaVuSans-53\"/>\n      </defs>\n      <g transform=\"translate(81.227904 254.356562)scale(0.1 -0.1)\">\n       <use xlink:href=\"#DejaVuSans-48\"/>\n       <use x=\"63.623047\" xlink:href=\"#DejaVuSans-46\"/>\n       <use x=\"95.410156\" xlink:href=\"#DejaVuSans-48\"/>\n       <use x=\"159.033203\" xlink:href=\"#DejaVuSans-48\"/>\n       <use x=\"222.65625\" xlink:href=\"#DejaVuSans-50\"/>\n       <use x=\"286.279297\" xlink:href=\"#DejaVuSans-53\"/>\n      </g>\n     </g>\n    </g>\n    <g id=\"xtick_3\">\n     <g id=\"line2d_3\">\n      <g>\n       <use style=\"stroke:#000000;stroke-width:0.8;\" x=\"138.447001\" xlink:href=\"#m598a755041\" y=\"239.758125\"/>\n      </g>\n     </g>\n     <g id=\"text_3\">\n      <!-- 0.0050 -->\n      <g transform=\"translate(120.951688 254.356562)scale(0.1 -0.1)\">\n       <use xlink:href=\"#DejaVuSans-48\"/>\n       <use x=\"63.623047\" xlink:href=\"#DejaVuSans-46\"/>\n       <use x=\"95.410156\" xlink:href=\"#DejaVuSans-48\"/>\n       <use x=\"159.033203\" xlink:href=\"#DejaVuSans-48\"/>\n       <use x=\"222.65625\" xlink:href=\"#DejaVuSans-53\"/>\n       <use x=\"286.279297\" xlink:href=\"#DejaVuSans-48\"/>\n      </g>\n     </g>\n    </g>\n    <g id=\"xtick_4\">\n     <g id=\"line2d_4\">\n      <g>\n       <use style=\"stroke:#000000;stroke-width:0.8;\" x=\"178.170785\" xlink:href=\"#m598a755041\" y=\"239.758125\"/>\n      </g>\n     </g>\n     <g id=\"text_4\">\n      <!-- 0.0075 -->\n      <defs>\n       <path d=\"M 8.203125 72.90625 \nL 55.078125 72.90625 \nL 55.078125 68.703125 \nL 28.609375 0 \nL 18.3125 0 \nL 43.21875 64.59375 \nL 8.203125 64.59375 \nz\n\" id=\"DejaVuSans-55\"/>\n      </defs>\n      <g transform=\"translate(160.675473 254.356562)scale(0.1 -0.1)\">\n       <use xlink:href=\"#DejaVuSans-48\"/>\n       <use x=\"63.623047\" xlink:href=\"#DejaVuSans-46\"/>\n       <use x=\"95.410156\" xlink:href=\"#DejaVuSans-48\"/>\n       <use x=\"159.033203\" xlink:href=\"#DejaVuSans-48\"/>\n       <use x=\"222.65625\" xlink:href=\"#DejaVuSans-55\"/>\n       <use x=\"286.279297\" xlink:href=\"#DejaVuSans-53\"/>\n      </g>\n     </g>\n    </g>\n    <g id=\"xtick_5\">\n     <g id=\"line2d_5\">\n      <g>\n       <use style=\"stroke:#000000;stroke-width:0.8;\" x=\"217.894569\" xlink:href=\"#m598a755041\" y=\"239.758125\"/>\n      </g>\n     </g>\n     <g id=\"text_5\">\n      <!-- 0.0100 -->\n      <defs>\n       <path d=\"M 12.40625 8.296875 \nL 28.515625 8.296875 \nL 28.515625 63.921875 \nL 10.984375 60.40625 \nL 10.984375 69.390625 \nL 28.421875 72.90625 \nL 38.28125 72.90625 \nL 38.28125 8.296875 \nL 54.390625 8.296875 \nL 54.390625 0 \nL 12.40625 0 \nz\n\" id=\"DejaVuSans-49\"/>\n      </defs>\n      <g transform=\"translate(200.399257 254.356562)scale(0.1 -0.1)\">\n       <use xlink:href=\"#DejaVuSans-48\"/>\n       <use x=\"63.623047\" xlink:href=\"#DejaVuSans-46\"/>\n       <use x=\"95.410156\" xlink:href=\"#DejaVuSans-48\"/>\n       <use x=\"159.033203\" xlink:href=\"#DejaVuSans-49\"/>\n       <use x=\"222.65625\" xlink:href=\"#DejaVuSans-48\"/>\n       <use x=\"286.279297\" xlink:href=\"#DejaVuSans-48\"/>\n      </g>\n     </g>\n    </g>\n    <g id=\"xtick_6\">\n     <g id=\"line2d_6\">\n      <g>\n       <use style=\"stroke:#000000;stroke-width:0.8;\" x=\"257.618354\" xlink:href=\"#m598a755041\" y=\"239.758125\"/>\n      </g>\n     </g>\n     <g id=\"text_6\">\n      <!-- 0.0125 -->\n      <g transform=\"translate(240.123041 254.356562)scale(0.1 -0.1)\">\n       <use xlink:href=\"#DejaVuSans-48\"/>\n       <use x=\"63.623047\" xlink:href=\"#DejaVuSans-46\"/>\n       <use x=\"95.410156\" xlink:href=\"#DejaVuSans-48\"/>\n       <use x=\"159.033203\" xlink:href=\"#DejaVuSans-49\"/>\n       <use x=\"222.65625\" xlink:href=\"#DejaVuSans-50\"/>\n       <use x=\"286.279297\" xlink:href=\"#DejaVuSans-53\"/>\n      </g>\n     </g>\n    </g>\n    <g id=\"xtick_7\">\n     <g id=\"line2d_7\">\n      <g>\n       <use style=\"stroke:#000000;stroke-width:0.8;\" x=\"297.342138\" xlink:href=\"#m598a755041\" y=\"239.758125\"/>\n      </g>\n     </g>\n     <g id=\"text_7\">\n      <!-- 0.0150 -->\n      <g transform=\"translate(279.846826 254.356562)scale(0.1 -0.1)\">\n       <use xlink:href=\"#DejaVuSans-48\"/>\n       <use x=\"63.623047\" xlink:href=\"#DejaVuSans-46\"/>\n       <use x=\"95.410156\" xlink:href=\"#DejaVuSans-48\"/>\n       <use x=\"159.033203\" xlink:href=\"#DejaVuSans-49\"/>\n       <use x=\"222.65625\" xlink:href=\"#DejaVuSans-53\"/>\n       <use x=\"286.279297\" xlink:href=\"#DejaVuSans-48\"/>\n      </g>\n     </g>\n    </g>\n    <g id=\"xtick_8\">\n     <g id=\"line2d_8\">\n      <g>\n       <use style=\"stroke:#000000;stroke-width:0.8;\" x=\"337.065923\" xlink:href=\"#m598a755041\" y=\"239.758125\"/>\n      </g>\n     </g>\n     <g id=\"text_8\">\n      <!-- 0.0175 -->\n      <g transform=\"translate(319.57061 254.356562)scale(0.1 -0.1)\">\n       <use xlink:href=\"#DejaVuSans-48\"/>\n       <use x=\"63.623047\" xlink:href=\"#DejaVuSans-46\"/>\n       <use x=\"95.410156\" xlink:href=\"#DejaVuSans-48\"/>\n       <use x=\"159.033203\" xlink:href=\"#DejaVuSans-49\"/>\n       <use x=\"222.65625\" xlink:href=\"#DejaVuSans-55\"/>\n       <use x=\"286.279297\" xlink:href=\"#DejaVuSans-53\"/>\n      </g>\n     </g>\n    </g>\n    <g id=\"xtick_9\">\n     <g id=\"line2d_9\">\n      <g>\n       <use style=\"stroke:#000000;stroke-width:0.8;\" x=\"376.789707\" xlink:href=\"#m598a755041\" y=\"239.758125\"/>\n      </g>\n     </g>\n     <g id=\"text_9\">\n      <!-- 0.0200 -->\n      <g transform=\"translate(359.294395 254.356562)scale(0.1 -0.1)\">\n       <use xlink:href=\"#DejaVuSans-48\"/>\n       <use x=\"63.623047\" xlink:href=\"#DejaVuSans-46\"/>\n       <use x=\"95.410156\" xlink:href=\"#DejaVuSans-48\"/>\n       <use x=\"159.033203\" xlink:href=\"#DejaVuSans-50\"/>\n       <use x=\"222.65625\" xlink:href=\"#DejaVuSans-48\"/>\n       <use x=\"286.279297\" xlink:href=\"#DejaVuSans-48\"/>\n      </g>\n     </g>\n    </g>\n    <g id=\"text_10\">\n     <!-- alpha -->\n     <defs>\n      <path d=\"M 34.28125 27.484375 \nQ 23.390625 27.484375 19.1875 25 \nQ 14.984375 22.515625 14.984375 16.5 \nQ 14.984375 11.71875 18.140625 8.90625 \nQ 21.296875 6.109375 26.703125 6.109375 \nQ 34.1875 6.109375 38.703125 11.40625 \nQ 43.21875 16.703125 43.21875 25.484375 \nL 43.21875 27.484375 \nz\nM 52.203125 31.203125 \nL 52.203125 0 \nL 43.21875 0 \nL 43.21875 8.296875 \nQ 40.140625 3.328125 35.546875 0.953125 \nQ 30.953125 -1.421875 24.3125 -1.421875 \nQ 15.921875 -1.421875 10.953125 3.296875 \nQ 6 8.015625 6 15.921875 \nQ 6 25.140625 12.171875 29.828125 \nQ 18.359375 34.515625 30.609375 34.515625 \nL 43.21875 34.515625 \nL 43.21875 35.40625 \nQ 43.21875 41.609375 39.140625 45 \nQ 35.0625 48.390625 27.6875 48.390625 \nQ 23 48.390625 18.546875 47.265625 \nQ 14.109375 46.140625 10.015625 43.890625 \nL 10.015625 52.203125 \nQ 14.9375 54.109375 19.578125 55.046875 \nQ 24.21875 56 28.609375 56 \nQ 40.484375 56 46.34375 49.84375 \nQ 52.203125 43.703125 52.203125 31.203125 \nz\n\" id=\"DejaVuSans-97\"/>\n      <path d=\"M 9.421875 75.984375 \nL 18.40625 75.984375 \nL 18.40625 0 \nL 9.421875 0 \nz\n\" id=\"DejaVuSans-108\"/>\n      <path d=\"M 18.109375 8.203125 \nL 18.109375 -20.796875 \nL 9.078125 -20.796875 \nL 9.078125 54.6875 \nL 18.109375 54.6875 \nL 18.109375 46.390625 \nQ 20.953125 51.265625 25.265625 53.625 \nQ 29.59375 56 35.59375 56 \nQ 45.5625 56 51.78125 48.09375 \nQ 58.015625 40.1875 58.015625 27.296875 \nQ 58.015625 14.40625 51.78125 6.484375 \nQ 45.5625 -1.421875 35.59375 -1.421875 \nQ 29.59375 -1.421875 25.265625 0.953125 \nQ 20.953125 3.328125 18.109375 8.203125 \nz\nM 48.6875 27.296875 \nQ 48.6875 37.203125 44.609375 42.84375 \nQ 40.53125 48.484375 33.40625 48.484375 \nQ 26.265625 48.484375 22.1875 42.84375 \nQ 18.109375 37.203125 18.109375 27.296875 \nQ 18.109375 17.390625 22.1875 11.75 \nQ 26.265625 6.109375 33.40625 6.109375 \nQ 40.53125 6.109375 44.609375 11.75 \nQ 48.6875 17.390625 48.6875 27.296875 \nz\n\" id=\"DejaVuSans-112\"/>\n      <path d=\"M 54.890625 33.015625 \nL 54.890625 0 \nL 45.90625 0 \nL 45.90625 32.71875 \nQ 45.90625 40.484375 42.875 44.328125 \nQ 39.84375 48.1875 33.796875 48.1875 \nQ 26.515625 48.1875 22.3125 43.546875 \nQ 18.109375 38.921875 18.109375 30.90625 \nL 18.109375 0 \nL 9.078125 0 \nL 9.078125 75.984375 \nL 18.109375 75.984375 \nL 18.109375 46.1875 \nQ 21.34375 51.125 25.703125 53.5625 \nQ 30.078125 56 35.796875 56 \nQ 45.21875 56 50.046875 50.171875 \nQ 54.890625 44.34375 54.890625 33.015625 \nz\n\" id=\"DejaVuSans-104\"/>\n     </defs>\n     <g transform=\"translate(197.321094 268.034687)scale(0.1 -0.1)\">\n      <use xlink:href=\"#DejaVuSans-97\"/>\n      <use x=\"61.279297\" xlink:href=\"#DejaVuSans-108\"/>\n      <use x=\"89.0625\" xlink:href=\"#DejaVuSans-112\"/>\n      <use x=\"152.539062\" xlink:href=\"#DejaVuSans-104\"/>\n      <use x=\"215.917969\" xlink:href=\"#DejaVuSans-97\"/>\n     </g>\n    </g>\n   </g>\n   <g id=\"matplotlib.axis_2\">\n    <g id=\"ytick_1\">\n     <g id=\"line2d_10\">\n      <defs>\n       <path d=\"M 0 0 \nL -3.5 0 \n\" id=\"m8c10224d93\" style=\"stroke:#000000;stroke-width:0.8;\"/>\n      </defs>\n      <g>\n       <use style=\"stroke:#000000;stroke-width:0.8;\" x=\"43.78125\" xlink:href=\"#m8c10224d93\" y=\"239.439298\"/>\n      </g>\n     </g>\n     <g id=\"text_11\">\n      <!-- 0.5 -->\n      <g transform=\"translate(20.878125 243.238517)scale(0.1 -0.1)\">\n       <use xlink:href=\"#DejaVuSans-48\"/>\n       <use x=\"63.623047\" xlink:href=\"#DejaVuSans-46\"/>\n       <use x=\"95.410156\" xlink:href=\"#DejaVuSans-53\"/>\n      </g>\n     </g>\n    </g>\n    <g id=\"ytick_2\">\n     <g id=\"line2d_11\">\n      <g>\n       <use style=\"stroke:#000000;stroke-width:0.8;\" x=\"43.78125\" xlink:href=\"#m8c10224d93\" y=\"197.991791\"/>\n      </g>\n     </g>\n     <g id=\"text_12\">\n      <!-- 0.6 -->\n      <defs>\n       <path d=\"M 33.015625 40.375 \nQ 26.375 40.375 22.484375 35.828125 \nQ 18.609375 31.296875 18.609375 23.390625 \nQ 18.609375 15.53125 22.484375 10.953125 \nQ 26.375 6.390625 33.015625 6.390625 \nQ 39.65625 6.390625 43.53125 10.953125 \nQ 47.40625 15.53125 47.40625 23.390625 \nQ 47.40625 31.296875 43.53125 35.828125 \nQ 39.65625 40.375 33.015625 40.375 \nz\nM 52.59375 71.296875 \nL 52.59375 62.3125 \nQ 48.875 64.0625 45.09375 64.984375 \nQ 41.3125 65.921875 37.59375 65.921875 \nQ 27.828125 65.921875 22.671875 59.328125 \nQ 17.53125 52.734375 16.796875 39.40625 \nQ 19.671875 43.65625 24.015625 45.921875 \nQ 28.375 48.1875 33.59375 48.1875 \nQ 44.578125 48.1875 50.953125 41.515625 \nQ 57.328125 34.859375 57.328125 23.390625 \nQ 57.328125 12.15625 50.6875 5.359375 \nQ 44.046875 -1.421875 33.015625 -1.421875 \nQ 20.359375 -1.421875 13.671875 8.265625 \nQ 6.984375 17.96875 6.984375 36.375 \nQ 6.984375 53.65625 15.1875 63.9375 \nQ 23.390625 74.21875 37.203125 74.21875 \nQ 40.921875 74.21875 44.703125 73.484375 \nQ 48.484375 72.75 52.59375 71.296875 \nz\n\" id=\"DejaVuSans-54\"/>\n      </defs>\n      <g transform=\"translate(20.878125 201.791009)scale(0.1 -0.1)\">\n       <use xlink:href=\"#DejaVuSans-48\"/>\n       <use x=\"63.623047\" xlink:href=\"#DejaVuSans-46\"/>\n       <use x=\"95.410156\" xlink:href=\"#DejaVuSans-54\"/>\n      </g>\n     </g>\n    </g>\n    <g id=\"ytick_3\">\n     <g id=\"line2d_12\">\n      <g>\n       <use style=\"stroke:#000000;stroke-width:0.8;\" x=\"43.78125\" xlink:href=\"#m8c10224d93\" y=\"156.544283\"/>\n      </g>\n     </g>\n     <g id=\"text_13\">\n      <!-- 0.7 -->\n      <g transform=\"translate(20.878125 160.343502)scale(0.1 -0.1)\">\n       <use xlink:href=\"#DejaVuSans-48\"/>\n       <use x=\"63.623047\" xlink:href=\"#DejaVuSans-46\"/>\n       <use x=\"95.410156\" xlink:href=\"#DejaVuSans-55\"/>\n      </g>\n     </g>\n    </g>\n    <g id=\"ytick_4\">\n     <g id=\"line2d_13\">\n      <g>\n       <use style=\"stroke:#000000;stroke-width:0.8;\" x=\"43.78125\" xlink:href=\"#m8c10224d93\" y=\"115.096776\"/>\n      </g>\n     </g>\n     <g id=\"text_14\">\n      <!-- 0.8 -->\n      <defs>\n       <path d=\"M 31.78125 34.625 \nQ 24.75 34.625 20.71875 30.859375 \nQ 16.703125 27.09375 16.703125 20.515625 \nQ 16.703125 13.921875 20.71875 10.15625 \nQ 24.75 6.390625 31.78125 6.390625 \nQ 38.8125 6.390625 42.859375 10.171875 \nQ 46.921875 13.96875 46.921875 20.515625 \nQ 46.921875 27.09375 42.890625 30.859375 \nQ 38.875 34.625 31.78125 34.625 \nz\nM 21.921875 38.8125 \nQ 15.578125 40.375 12.03125 44.71875 \nQ 8.5 49.078125 8.5 55.328125 \nQ 8.5 64.0625 14.71875 69.140625 \nQ 20.953125 74.21875 31.78125 74.21875 \nQ 42.671875 74.21875 48.875 69.140625 \nQ 55.078125 64.0625 55.078125 55.328125 \nQ 55.078125 49.078125 51.53125 44.71875 \nQ 48 40.375 41.703125 38.8125 \nQ 48.828125 37.15625 52.796875 32.3125 \nQ 56.78125 27.484375 56.78125 20.515625 \nQ 56.78125 9.90625 50.3125 4.234375 \nQ 43.84375 -1.421875 31.78125 -1.421875 \nQ 19.734375 -1.421875 13.25 4.234375 \nQ 6.78125 9.90625 6.78125 20.515625 \nQ 6.78125 27.484375 10.78125 32.3125 \nQ 14.796875 37.15625 21.921875 38.8125 \nz\nM 18.3125 54.390625 \nQ 18.3125 48.734375 21.84375 45.5625 \nQ 25.390625 42.390625 31.78125 42.390625 \nQ 38.140625 42.390625 41.71875 45.5625 \nQ 45.3125 48.734375 45.3125 54.390625 \nQ 45.3125 60.0625 41.71875 63.234375 \nQ 38.140625 66.40625 31.78125 66.40625 \nQ 25.390625 66.40625 21.84375 63.234375 \nQ 18.3125 60.0625 18.3125 54.390625 \nz\n\" id=\"DejaVuSans-56\"/>\n      </defs>\n      <g transform=\"translate(20.878125 118.895995)scale(0.1 -0.1)\">\n       <use xlink:href=\"#DejaVuSans-48\"/>\n       <use x=\"63.623047\" xlink:href=\"#DejaVuSans-46\"/>\n       <use x=\"95.410156\" xlink:href=\"#DejaVuSans-56\"/>\n      </g>\n     </g>\n    </g>\n    <g id=\"ytick_5\">\n     <g id=\"line2d_14\">\n      <g>\n       <use style=\"stroke:#000000;stroke-width:0.8;\" x=\"43.78125\" xlink:href=\"#m8c10224d93\" y=\"73.649269\"/>\n      </g>\n     </g>\n     <g id=\"text_15\">\n      <!-- 0.9 -->\n      <defs>\n       <path d=\"M 10.984375 1.515625 \nL 10.984375 10.5 \nQ 14.703125 8.734375 18.5 7.8125 \nQ 22.3125 6.890625 25.984375 6.890625 \nQ 35.75 6.890625 40.890625 13.453125 \nQ 46.046875 20.015625 46.78125 33.40625 \nQ 43.953125 29.203125 39.59375 26.953125 \nQ 35.25 24.703125 29.984375 24.703125 \nQ 19.046875 24.703125 12.671875 31.3125 \nQ 6.296875 37.9375 6.296875 49.421875 \nQ 6.296875 60.640625 12.9375 67.421875 \nQ 19.578125 74.21875 30.609375 74.21875 \nQ 43.265625 74.21875 49.921875 64.515625 \nQ 56.59375 54.828125 56.59375 36.375 \nQ 56.59375 19.140625 48.40625 8.859375 \nQ 40.234375 -1.421875 26.421875 -1.421875 \nQ 22.703125 -1.421875 18.890625 -0.6875 \nQ 15.09375 0.046875 10.984375 1.515625 \nz\nM 30.609375 32.421875 \nQ 37.25 32.421875 41.125 36.953125 \nQ 45.015625 41.5 45.015625 49.421875 \nQ 45.015625 57.28125 41.125 61.84375 \nQ 37.25 66.40625 30.609375 66.40625 \nQ 23.96875 66.40625 20.09375 61.84375 \nQ 16.21875 57.28125 16.21875 49.421875 \nQ 16.21875 41.5 20.09375 36.953125 \nQ 23.96875 32.421875 30.609375 32.421875 \nz\n\" id=\"DejaVuSans-57\"/>\n      </defs>\n      <g transform=\"translate(20.878125 77.448487)scale(0.1 -0.1)\">\n       <use xlink:href=\"#DejaVuSans-48\"/>\n       <use x=\"63.623047\" xlink:href=\"#DejaVuSans-46\"/>\n       <use x=\"95.410156\" xlink:href=\"#DejaVuSans-57\"/>\n      </g>\n     </g>\n    </g>\n    <g id=\"ytick_6\">\n     <g id=\"line2d_15\">\n      <g>\n       <use style=\"stroke:#000000;stroke-width:0.8;\" x=\"43.78125\" xlink:href=\"#m8c10224d93\" y=\"32.201761\"/>\n      </g>\n     </g>\n     <g id=\"text_16\">\n      <!-- 1.0 -->\n      <g transform=\"translate(20.878125 36.00098)scale(0.1 -0.1)\">\n       <use xlink:href=\"#DejaVuSans-49\"/>\n       <use x=\"63.623047\" xlink:href=\"#DejaVuSans-46\"/>\n       <use x=\"95.410156\" xlink:href=\"#DejaVuSans-48\"/>\n      </g>\n     </g>\n    </g>\n    <g id=\"text_17\">\n     <!-- accuracy -->\n     <defs>\n      <path d=\"M 48.78125 52.59375 \nL 48.78125 44.1875 \nQ 44.96875 46.296875 41.140625 47.34375 \nQ 37.3125 48.390625 33.40625 48.390625 \nQ 24.65625 48.390625 19.8125 42.84375 \nQ 14.984375 37.3125 14.984375 27.296875 \nQ 14.984375 17.28125 19.8125 11.734375 \nQ 24.65625 6.203125 33.40625 6.203125 \nQ 37.3125 6.203125 41.140625 7.25 \nQ 44.96875 8.296875 48.78125 10.40625 \nL 48.78125 2.09375 \nQ 45.015625 0.34375 40.984375 -0.53125 \nQ 36.96875 -1.421875 32.421875 -1.421875 \nQ 20.0625 -1.421875 12.78125 6.34375 \nQ 5.515625 14.109375 5.515625 27.296875 \nQ 5.515625 40.671875 12.859375 48.328125 \nQ 20.21875 56 33.015625 56 \nQ 37.15625 56 41.109375 55.140625 \nQ 45.0625 54.296875 48.78125 52.59375 \nz\n\" id=\"DejaVuSans-99\"/>\n      <path d=\"M 8.5 21.578125 \nL 8.5 54.6875 \nL 17.484375 54.6875 \nL 17.484375 21.921875 \nQ 17.484375 14.15625 20.5 10.265625 \nQ 23.53125 6.390625 29.59375 6.390625 \nQ 36.859375 6.390625 41.078125 11.03125 \nQ 45.3125 15.671875 45.3125 23.6875 \nL 45.3125 54.6875 \nL 54.296875 54.6875 \nL 54.296875 0 \nL 45.3125 0 \nL 45.3125 8.40625 \nQ 42.046875 3.421875 37.71875 1 \nQ 33.40625 -1.421875 27.6875 -1.421875 \nQ 18.265625 -1.421875 13.375 4.4375 \nQ 8.5 10.296875 8.5 21.578125 \nz\nM 31.109375 56 \nz\n\" id=\"DejaVuSans-117\"/>\n      <path d=\"M 41.109375 46.296875 \nQ 39.59375 47.171875 37.8125 47.578125 \nQ 36.03125 48 33.890625 48 \nQ 26.265625 48 22.1875 43.046875 \nQ 18.109375 38.09375 18.109375 28.8125 \nL 18.109375 0 \nL 9.078125 0 \nL 9.078125 54.6875 \nL 18.109375 54.6875 \nL 18.109375 46.1875 \nQ 20.953125 51.171875 25.484375 53.578125 \nQ 30.03125 56 36.53125 56 \nQ 37.453125 56 38.578125 55.875 \nQ 39.703125 55.765625 41.0625 55.515625 \nz\n\" id=\"DejaVuSans-114\"/>\n      <path d=\"M 32.171875 -5.078125 \nQ 28.375 -14.84375 24.75 -17.8125 \nQ 21.140625 -20.796875 15.09375 -20.796875 \nL 7.90625 -20.796875 \nL 7.90625 -13.28125 \nL 13.1875 -13.28125 \nQ 16.890625 -13.28125 18.9375 -11.515625 \nQ 21 -9.765625 23.484375 -3.21875 \nL 25.09375 0.875 \nL 2.984375 54.6875 \nL 12.5 54.6875 \nL 29.59375 11.921875 \nL 46.6875 54.6875 \nL 56.203125 54.6875 \nz\n\" id=\"DejaVuSans-121\"/>\n     </defs>\n     <g transform=\"translate(14.798438 153.5975)rotate(-90)scale(0.1 -0.1)\">\n      <use xlink:href=\"#DejaVuSans-97\"/>\n      <use x=\"61.279297\" xlink:href=\"#DejaVuSans-99\"/>\n      <use x=\"116.259766\" xlink:href=\"#DejaVuSans-99\"/>\n      <use x=\"171.240234\" xlink:href=\"#DejaVuSans-117\"/>\n      <use x=\"234.619141\" xlink:href=\"#DejaVuSans-114\"/>\n      <use x=\"275.732422\" xlink:href=\"#DejaVuSans-97\"/>\n      <use x=\"337.011719\" xlink:href=\"#DejaVuSans-99\"/>\n      <use x=\"391.992188\" xlink:href=\"#DejaVuSans-121\"/>\n     </g>\n    </g>\n   </g>\n   <g id=\"line2d_16\">\n    <path clip-path=\"url(#peb612cf9a8)\" d=\"M 58.999432 32.201761 \nL 90.308819 32.201761 \nL 90.308819 33.154578 \nL 90.961097 33.154578 \nL 90.961097 34.107394 \nL 92.717233 34.107394 \nL 92.717233 35.06021 \nL 93.378366 35.06021 \nL 93.378366 36.965843 \nL 93.378366 36.965843 \nL 93.378366 36.965843 \nL 93.787639 36.965843 \nL 93.787639 37.918659 \nL 94.005066 37.918659 \nL 94.005066 38.871475 \nL 105.963512 38.871475 \nL 105.963512 39.824291 \nL 107.702922 39.824291 \nL 107.702922 42.68274 \nL 107.702922 42.68274 \nL 107.702922 42.68274 \nL 107.702922 42.68274 \nL 107.702922 42.68274 \nL 113.790859 42.68274 \nL 113.790859 44.588373 \nL 113.790859 44.588373 \nL 113.790859 44.588373 \nL 116.801377 44.588373 \nL 116.801377 45.541189 \nL 116.900795 45.541189 \nL 116.900795 47.446822 \nL 118.771897 47.446822 \nL 118.771897 49.352454 \nL 120.117537 49.352454 \nL 120.117537 50.30527 \nL 121.618205 50.30527 \nL 121.618205 51.258087 \nL 122.250718 51.258087 \nL 122.250718 52.210903 \nL 122.922763 52.210903 \nL 122.922763 53.163719 \nL 122.933832 53.163719 \nL 122.933832 54.116535 \nL 124.749144 54.116535 \nL 124.749144 56.022168 \nL 124.749144 56.022168 \nL 124.749144 56.022168 \nL 125.702038 56.022168 \nL 125.702038 57.9278 \nL 126.435034 57.9278 \nL 126.435034 58.880617 \nL 126.836436 58.880617 \nL 126.836436 60.786249 \nL 127.996043 60.786249 \nL 127.996043 61.739065 \nL 129.348918 61.739065 \nL 129.348918 63.644698 \nL 136.995601 63.644698 \nL 136.995601 66.503147 \nL 138.142604 66.503147 \nL 138.142604 67.455963 \nL 141.186572 67.455963 \nL 141.186572 71.267228 \nL 141.186572 71.267228 \nL 141.186572 71.267228 \nL 141.311179 71.267228 \nL 141.311179 72.220044 \nL 142.793702 72.220044 \nL 142.793702 79.842574 \nL 145.456034 79.842574 \nL 145.456034 81.748207 \nL 148.65813 81.748207 \nL 148.65813 84.606656 \nL 150.622873 84.606656 \nL 150.622873 87.465104 \nL 150.724339 87.465104 \nL 150.724339 93.182002 \nL 150.818328 93.182002 \nL 150.818328 96.993267 \nL 158.868585 96.993267 \nL 158.868585 97.946083 \nL 160.441845 97.946083 \nL 160.441845 100.804532 \nL 161.276762 100.804532 \nL 161.276762 105.568613 \nL 166.896395 105.568613 \nL 166.896395 107.474246 \nL 167.907058 107.474246 \nL 167.907058 111.285511 \nL 171.997409 111.285511 \nL 171.997409 115.096776 \nL 175.750122 115.096776 \nL 175.750122 117.955225 \nL 177.744731 117.955225 \nL 177.744731 120.813674 \nL 179.529712 120.813674 \nL 179.529712 128.436204 \nL 183.582121 128.436204 \nL 183.582121 136.058734 \nL 187.931705 136.058734 \nL 187.931705 153.209426 \nL 205.208247 153.209426 \nL 205.208247 167.50167 \nL 207.658342 167.50167 \nL 207.658342 174.171384 \nL 244.710915 174.171384 \nL 244.710915 174.171384 \nL 250.048038 174.171384 \nL 250.048038 174.171384 \nL 268.582956 174.171384 \nL 268.582956 199.897423 \nL 363.363068 199.897423 \nL 363.363068 216.0953 \n\" style=\"fill:none;stroke:#1f77b4;stroke-linecap:square;stroke-width:1.5;\"/>\n    <defs>\n     <path d=\"M 0 3 \nC 0.795609 3 1.55874 2.683901 2.12132 2.12132 \nC 2.683901 1.55874 3 0.795609 3 0 \nC 3 -0.795609 2.683901 -1.55874 2.12132 -2.12132 \nC 1.55874 -2.683901 0.795609 -3 0 -3 \nC -0.795609 -3 -1.55874 -2.683901 -2.12132 -2.12132 \nC -2.683901 -1.55874 -3 -0.795609 -3 0 \nC -3 0.795609 -2.683901 1.55874 -2.12132 2.12132 \nC -1.55874 2.683901 -0.795609 3 0 3 \nz\n\" id=\"mb8d899c6a2\" style=\"stroke:#1f77b4;\"/>\n    </defs>\n    <g clip-path=\"url(#peb612cf9a8)\">\n     <use style=\"fill:#1f77b4;stroke:#1f77b4;\" x=\"58.999432\" xlink:href=\"#mb8d899c6a2\" y=\"32.201761\"/>\n     <use style=\"fill:#1f77b4;stroke:#1f77b4;\" x=\"90.308819\" xlink:href=\"#mb8d899c6a2\" y=\"33.154578\"/>\n     <use style=\"fill:#1f77b4;stroke:#1f77b4;\" x=\"90.961097\" xlink:href=\"#mb8d899c6a2\" y=\"34.107394\"/>\n     <use style=\"fill:#1f77b4;stroke:#1f77b4;\" x=\"92.717233\" xlink:href=\"#mb8d899c6a2\" y=\"35.06021\"/>\n     <use style=\"fill:#1f77b4;stroke:#1f77b4;\" x=\"93.378366\" xlink:href=\"#mb8d899c6a2\" y=\"36.965843\"/>\n     <use style=\"fill:#1f77b4;stroke:#1f77b4;\" x=\"93.378366\" xlink:href=\"#mb8d899c6a2\" y=\"36.965843\"/>\n     <use style=\"fill:#1f77b4;stroke:#1f77b4;\" x=\"93.787639\" xlink:href=\"#mb8d899c6a2\" y=\"37.918659\"/>\n     <use style=\"fill:#1f77b4;stroke:#1f77b4;\" x=\"94.005066\" xlink:href=\"#mb8d899c6a2\" y=\"38.871475\"/>\n     <use style=\"fill:#1f77b4;stroke:#1f77b4;\" x=\"105.963512\" xlink:href=\"#mb8d899c6a2\" y=\"39.824291\"/>\n     <use style=\"fill:#1f77b4;stroke:#1f77b4;\" x=\"107.702922\" xlink:href=\"#mb8d899c6a2\" y=\"42.68274\"/>\n     <use style=\"fill:#1f77b4;stroke:#1f77b4;\" x=\"107.702922\" xlink:href=\"#mb8d899c6a2\" y=\"42.68274\"/>\n     <use style=\"fill:#1f77b4;stroke:#1f77b4;\" x=\"107.702922\" xlink:href=\"#mb8d899c6a2\" y=\"42.68274\"/>\n     <use style=\"fill:#1f77b4;stroke:#1f77b4;\" x=\"113.790859\" xlink:href=\"#mb8d899c6a2\" y=\"44.588373\"/>\n     <use style=\"fill:#1f77b4;stroke:#1f77b4;\" x=\"113.790859\" xlink:href=\"#mb8d899c6a2\" y=\"44.588373\"/>\n     <use style=\"fill:#1f77b4;stroke:#1f77b4;\" x=\"116.801377\" xlink:href=\"#mb8d899c6a2\" y=\"45.541189\"/>\n     <use style=\"fill:#1f77b4;stroke:#1f77b4;\" x=\"116.900795\" xlink:href=\"#mb8d899c6a2\" y=\"47.446822\"/>\n     <use style=\"fill:#1f77b4;stroke:#1f77b4;\" x=\"118.771897\" xlink:href=\"#mb8d899c6a2\" y=\"49.352454\"/>\n     <use style=\"fill:#1f77b4;stroke:#1f77b4;\" x=\"120.117537\" xlink:href=\"#mb8d899c6a2\" y=\"50.30527\"/>\n     <use style=\"fill:#1f77b4;stroke:#1f77b4;\" x=\"121.618205\" xlink:href=\"#mb8d899c6a2\" y=\"51.258087\"/>\n     <use style=\"fill:#1f77b4;stroke:#1f77b4;\" x=\"122.250718\" xlink:href=\"#mb8d899c6a2\" y=\"52.210903\"/>\n     <use style=\"fill:#1f77b4;stroke:#1f77b4;\" x=\"122.922763\" xlink:href=\"#mb8d899c6a2\" y=\"53.163719\"/>\n     <use style=\"fill:#1f77b4;stroke:#1f77b4;\" x=\"122.933832\" xlink:href=\"#mb8d899c6a2\" y=\"54.116535\"/>\n     <use style=\"fill:#1f77b4;stroke:#1f77b4;\" x=\"124.749144\" xlink:href=\"#mb8d899c6a2\" y=\"56.022168\"/>\n     <use style=\"fill:#1f77b4;stroke:#1f77b4;\" x=\"124.749144\" xlink:href=\"#mb8d899c6a2\" y=\"56.022168\"/>\n     <use style=\"fill:#1f77b4;stroke:#1f77b4;\" x=\"125.702038\" xlink:href=\"#mb8d899c6a2\" y=\"57.9278\"/>\n     <use style=\"fill:#1f77b4;stroke:#1f77b4;\" x=\"126.435034\" xlink:href=\"#mb8d899c6a2\" y=\"58.880617\"/>\n     <use style=\"fill:#1f77b4;stroke:#1f77b4;\" x=\"126.836436\" xlink:href=\"#mb8d899c6a2\" y=\"60.786249\"/>\n     <use style=\"fill:#1f77b4;stroke:#1f77b4;\" x=\"127.996043\" xlink:href=\"#mb8d899c6a2\" y=\"61.739065\"/>\n     <use style=\"fill:#1f77b4;stroke:#1f77b4;\" x=\"129.348918\" xlink:href=\"#mb8d899c6a2\" y=\"63.644698\"/>\n     <use style=\"fill:#1f77b4;stroke:#1f77b4;\" x=\"136.995601\" xlink:href=\"#mb8d899c6a2\" y=\"66.503147\"/>\n     <use style=\"fill:#1f77b4;stroke:#1f77b4;\" x=\"138.142604\" xlink:href=\"#mb8d899c6a2\" y=\"67.455963\"/>\n     <use style=\"fill:#1f77b4;stroke:#1f77b4;\" x=\"141.186572\" xlink:href=\"#mb8d899c6a2\" y=\"71.267228\"/>\n     <use style=\"fill:#1f77b4;stroke:#1f77b4;\" x=\"141.186572\" xlink:href=\"#mb8d899c6a2\" y=\"71.267228\"/>\n     <use style=\"fill:#1f77b4;stroke:#1f77b4;\" x=\"141.311179\" xlink:href=\"#mb8d899c6a2\" y=\"72.220044\"/>\n     <use style=\"fill:#1f77b4;stroke:#1f77b4;\" x=\"142.793702\" xlink:href=\"#mb8d899c6a2\" y=\"79.842574\"/>\n     <use style=\"fill:#1f77b4;stroke:#1f77b4;\" x=\"145.456034\" xlink:href=\"#mb8d899c6a2\" y=\"81.748207\"/>\n     <use style=\"fill:#1f77b4;stroke:#1f77b4;\" x=\"148.65813\" xlink:href=\"#mb8d899c6a2\" y=\"84.606656\"/>\n     <use style=\"fill:#1f77b4;stroke:#1f77b4;\" x=\"150.622873\" xlink:href=\"#mb8d899c6a2\" y=\"87.465104\"/>\n     <use style=\"fill:#1f77b4;stroke:#1f77b4;\" x=\"150.724339\" xlink:href=\"#mb8d899c6a2\" y=\"93.182002\"/>\n     <use style=\"fill:#1f77b4;stroke:#1f77b4;\" x=\"150.818328\" xlink:href=\"#mb8d899c6a2\" y=\"96.993267\"/>\n     <use style=\"fill:#1f77b4;stroke:#1f77b4;\" x=\"158.868585\" xlink:href=\"#mb8d899c6a2\" y=\"97.946083\"/>\n     <use style=\"fill:#1f77b4;stroke:#1f77b4;\" x=\"160.441845\" xlink:href=\"#mb8d899c6a2\" y=\"100.804532\"/>\n     <use style=\"fill:#1f77b4;stroke:#1f77b4;\" x=\"161.276762\" xlink:href=\"#mb8d899c6a2\" y=\"105.568613\"/>\n     <use style=\"fill:#1f77b4;stroke:#1f77b4;\" x=\"166.896395\" xlink:href=\"#mb8d899c6a2\" y=\"107.474246\"/>\n     <use style=\"fill:#1f77b4;stroke:#1f77b4;\" x=\"167.907058\" xlink:href=\"#mb8d899c6a2\" y=\"111.285511\"/>\n     <use style=\"fill:#1f77b4;stroke:#1f77b4;\" x=\"171.997409\" xlink:href=\"#mb8d899c6a2\" y=\"115.096776\"/>\n     <use style=\"fill:#1f77b4;stroke:#1f77b4;\" x=\"175.750122\" xlink:href=\"#mb8d899c6a2\" y=\"117.955225\"/>\n     <use style=\"fill:#1f77b4;stroke:#1f77b4;\" x=\"177.744731\" xlink:href=\"#mb8d899c6a2\" y=\"120.813674\"/>\n     <use style=\"fill:#1f77b4;stroke:#1f77b4;\" x=\"179.529712\" xlink:href=\"#mb8d899c6a2\" y=\"128.436204\"/>\n     <use style=\"fill:#1f77b4;stroke:#1f77b4;\" x=\"183.582121\" xlink:href=\"#mb8d899c6a2\" y=\"136.058734\"/>\n     <use style=\"fill:#1f77b4;stroke:#1f77b4;\" x=\"187.931705\" xlink:href=\"#mb8d899c6a2\" y=\"153.209426\"/>\n     <use style=\"fill:#1f77b4;stroke:#1f77b4;\" x=\"205.208247\" xlink:href=\"#mb8d899c6a2\" y=\"167.50167\"/>\n     <use style=\"fill:#1f77b4;stroke:#1f77b4;\" x=\"207.658342\" xlink:href=\"#mb8d899c6a2\" y=\"174.171384\"/>\n     <use style=\"fill:#1f77b4;stroke:#1f77b4;\" x=\"244.710915\" xlink:href=\"#mb8d899c6a2\" y=\"174.171384\"/>\n     <use style=\"fill:#1f77b4;stroke:#1f77b4;\" x=\"250.048038\" xlink:href=\"#mb8d899c6a2\" y=\"174.171384\"/>\n     <use style=\"fill:#1f77b4;stroke:#1f77b4;\" x=\"268.582956\" xlink:href=\"#mb8d899c6a2\" y=\"199.897423\"/>\n     <use style=\"fill:#1f77b4;stroke:#1f77b4;\" x=\"363.363068\" xlink:href=\"#mb8d899c6a2\" y=\"216.0953\"/>\n    </g>\n   </g>\n   <g id=\"line2d_17\">\n    <path clip-path=\"url(#peb612cf9a8)\" d=\"M 58.999432 229.874489 \nL 90.308819 229.874489 \nL 90.308819 229.874489 \nL 90.961097 229.874489 \nL 90.961097 229.874489 \nL 92.717233 229.874489 \nL 92.717233 229.874489 \nL 93.378366 229.874489 \nL 93.378366 229.874489 \nL 93.378366 229.874489 \nL 93.378366 229.874489 \nL 93.787639 229.874489 \nL 93.787639 229.874489 \nL 94.005066 229.874489 \nL 94.005066 229.874489 \nL 105.963512 229.874489 \nL 105.963512 229.874489 \nL 107.702922 229.874489 \nL 107.702922 223.497949 \nL 107.702922 223.497949 \nL 107.702922 223.497949 \nL 107.702922 223.497949 \nL 107.702922 223.497949 \nL 113.790859 223.497949 \nL 113.790859 223.497949 \nL 113.790859 223.497949 \nL 113.790859 223.497949 \nL 116.801377 223.497949 \nL 116.801377 217.121409 \nL 116.900795 217.121409 \nL 116.900795 217.121409 \nL 118.771897 217.121409 \nL 118.771897 217.121409 \nL 120.117537 217.121409 \nL 120.117537 210.74487 \nL 121.618205 210.74487 \nL 121.618205 210.74487 \nL 122.250718 210.74487 \nL 122.250718 204.36833 \nL 122.922763 204.36833 \nL 122.922763 204.36833 \nL 122.933832 204.36833 \nL 122.933832 210.74487 \nL 124.749144 210.74487 \nL 124.749144 217.121409 \nL 124.749144 217.121409 \nL 124.749144 217.121409 \nL 125.702038 217.121409 \nL 125.702038 217.121409 \nL 126.435034 217.121409 \nL 126.435034 217.121409 \nL 126.836436 217.121409 \nL 126.836436 217.121409 \nL 127.996043 217.121409 \nL 127.996043 217.121409 \nL 129.348918 217.121409 \nL 129.348918 217.121409 \nL 136.995601 217.121409 \nL 136.995601 217.121409 \nL 138.142604 217.121409 \nL 138.142604 217.121409 \nL 141.186572 217.121409 \nL 141.186572 223.497949 \nL 141.186572 223.497949 \nL 141.186572 223.497949 \nL 141.311179 223.497949 \nL 141.311179 223.497949 \nL 142.793702 223.497949 \nL 142.793702 223.497949 \nL 145.456034 223.497949 \nL 145.456034 210.74487 \nL 148.65813 210.74487 \nL 148.65813 223.497949 \nL 150.622873 223.497949 \nL 150.622873 223.497949 \nL 150.724339 223.497949 \nL 150.724339 223.497949 \nL 150.818328 223.497949 \nL 150.818328 223.497949 \nL 158.868585 223.497949 \nL 158.868585 204.36833 \nL 160.441845 204.36833 \nL 160.441845 204.36833 \nL 161.276762 204.36833 \nL 161.276762 204.36833 \nL 166.896395 204.36833 \nL 166.896395 204.36833 \nL 167.907058 204.36833 \nL 167.907058 210.74487 \nL 171.997409 210.74487 \nL 171.997409 210.74487 \nL 175.750122 210.74487 \nL 175.750122 217.121409 \nL 177.744731 217.121409 \nL 177.744731 210.74487 \nL 179.529712 210.74487 \nL 179.529712 210.74487 \nL 183.582121 210.74487 \nL 183.582121 197.991791 \nL 187.931705 197.991791 \nL 187.931705 204.36833 \nL 205.208247 204.36833 \nL 205.208247 197.991791 \nL 207.658342 197.991791 \nL 207.658342 204.36833 \nL 244.710915 204.36833 \nL 244.710915 204.36833 \nL 250.048038 204.36833 \nL 250.048038 204.36833 \nL 268.582956 204.36833 \nL 268.582956 185.238712 \nL 363.363068 185.238712 \nL 363.363068 210.74487 \n\" style=\"fill:none;stroke:#ff7f0e;stroke-linecap:square;stroke-width:1.5;\"/>\n    <defs>\n     <path d=\"M 0 3 \nC 0.795609 3 1.55874 2.683901 2.12132 2.12132 \nC 2.683901 1.55874 3 0.795609 3 0 \nC 3 -0.795609 2.683901 -1.55874 2.12132 -2.12132 \nC 1.55874 -2.683901 0.795609 -3 0 -3 \nC -0.795609 -3 -1.55874 -2.683901 -2.12132 -2.12132 \nC -2.683901 -1.55874 -3 -0.795609 -3 0 \nC -3 0.795609 -2.683901 1.55874 -2.12132 2.12132 \nC -1.55874 2.683901 -0.795609 3 0 3 \nz\n\" id=\"m2581ccdeee\" style=\"stroke:#ff7f0e;\"/>\n    </defs>\n    <g clip-path=\"url(#peb612cf9a8)\">\n     <use style=\"fill:#ff7f0e;stroke:#ff7f0e;\" x=\"58.999432\" xlink:href=\"#m2581ccdeee\" y=\"229.874489\"/>\n     <use style=\"fill:#ff7f0e;stroke:#ff7f0e;\" x=\"90.308819\" xlink:href=\"#m2581ccdeee\" y=\"229.874489\"/>\n     <use style=\"fill:#ff7f0e;stroke:#ff7f0e;\" x=\"90.961097\" xlink:href=\"#m2581ccdeee\" y=\"229.874489\"/>\n     <use style=\"fill:#ff7f0e;stroke:#ff7f0e;\" x=\"92.717233\" xlink:href=\"#m2581ccdeee\" y=\"229.874489\"/>\n     <use style=\"fill:#ff7f0e;stroke:#ff7f0e;\" x=\"93.378366\" xlink:href=\"#m2581ccdeee\" y=\"229.874489\"/>\n     <use style=\"fill:#ff7f0e;stroke:#ff7f0e;\" x=\"93.378366\" xlink:href=\"#m2581ccdeee\" y=\"229.874489\"/>\n     <use style=\"fill:#ff7f0e;stroke:#ff7f0e;\" x=\"93.787639\" xlink:href=\"#m2581ccdeee\" y=\"229.874489\"/>\n     <use style=\"fill:#ff7f0e;stroke:#ff7f0e;\" x=\"94.005066\" xlink:href=\"#m2581ccdeee\" y=\"229.874489\"/>\n     <use style=\"fill:#ff7f0e;stroke:#ff7f0e;\" x=\"105.963512\" xlink:href=\"#m2581ccdeee\" y=\"229.874489\"/>\n     <use style=\"fill:#ff7f0e;stroke:#ff7f0e;\" x=\"107.702922\" xlink:href=\"#m2581ccdeee\" y=\"223.497949\"/>\n     <use style=\"fill:#ff7f0e;stroke:#ff7f0e;\" x=\"107.702922\" xlink:href=\"#m2581ccdeee\" y=\"223.497949\"/>\n     <use style=\"fill:#ff7f0e;stroke:#ff7f0e;\" x=\"107.702922\" xlink:href=\"#m2581ccdeee\" y=\"223.497949\"/>\n     <use style=\"fill:#ff7f0e;stroke:#ff7f0e;\" x=\"113.790859\" xlink:href=\"#m2581ccdeee\" y=\"223.497949\"/>\n     <use style=\"fill:#ff7f0e;stroke:#ff7f0e;\" x=\"113.790859\" xlink:href=\"#m2581ccdeee\" y=\"223.497949\"/>\n     <use style=\"fill:#ff7f0e;stroke:#ff7f0e;\" x=\"116.801377\" xlink:href=\"#m2581ccdeee\" y=\"217.121409\"/>\n     <use style=\"fill:#ff7f0e;stroke:#ff7f0e;\" x=\"116.900795\" xlink:href=\"#m2581ccdeee\" y=\"217.121409\"/>\n     <use style=\"fill:#ff7f0e;stroke:#ff7f0e;\" x=\"118.771897\" xlink:href=\"#m2581ccdeee\" y=\"217.121409\"/>\n     <use style=\"fill:#ff7f0e;stroke:#ff7f0e;\" x=\"120.117537\" xlink:href=\"#m2581ccdeee\" y=\"210.74487\"/>\n     <use style=\"fill:#ff7f0e;stroke:#ff7f0e;\" x=\"121.618205\" xlink:href=\"#m2581ccdeee\" y=\"210.74487\"/>\n     <use style=\"fill:#ff7f0e;stroke:#ff7f0e;\" x=\"122.250718\" xlink:href=\"#m2581ccdeee\" y=\"204.36833\"/>\n     <use style=\"fill:#ff7f0e;stroke:#ff7f0e;\" x=\"122.922763\" xlink:href=\"#m2581ccdeee\" y=\"204.36833\"/>\n     <use style=\"fill:#ff7f0e;stroke:#ff7f0e;\" x=\"122.933832\" xlink:href=\"#m2581ccdeee\" y=\"210.74487\"/>\n     <use style=\"fill:#ff7f0e;stroke:#ff7f0e;\" x=\"124.749144\" xlink:href=\"#m2581ccdeee\" y=\"217.121409\"/>\n     <use style=\"fill:#ff7f0e;stroke:#ff7f0e;\" x=\"124.749144\" xlink:href=\"#m2581ccdeee\" y=\"217.121409\"/>\n     <use style=\"fill:#ff7f0e;stroke:#ff7f0e;\" x=\"125.702038\" xlink:href=\"#m2581ccdeee\" y=\"217.121409\"/>\n     <use style=\"fill:#ff7f0e;stroke:#ff7f0e;\" x=\"126.435034\" xlink:href=\"#m2581ccdeee\" y=\"217.121409\"/>\n     <use style=\"fill:#ff7f0e;stroke:#ff7f0e;\" x=\"126.836436\" xlink:href=\"#m2581ccdeee\" y=\"217.121409\"/>\n     <use style=\"fill:#ff7f0e;stroke:#ff7f0e;\" x=\"127.996043\" xlink:href=\"#m2581ccdeee\" y=\"217.121409\"/>\n     <use style=\"fill:#ff7f0e;stroke:#ff7f0e;\" x=\"129.348918\" xlink:href=\"#m2581ccdeee\" y=\"217.121409\"/>\n     <use style=\"fill:#ff7f0e;stroke:#ff7f0e;\" x=\"136.995601\" xlink:href=\"#m2581ccdeee\" y=\"217.121409\"/>\n     <use style=\"fill:#ff7f0e;stroke:#ff7f0e;\" x=\"138.142604\" xlink:href=\"#m2581ccdeee\" y=\"217.121409\"/>\n     <use style=\"fill:#ff7f0e;stroke:#ff7f0e;\" x=\"141.186572\" xlink:href=\"#m2581ccdeee\" y=\"223.497949\"/>\n     <use style=\"fill:#ff7f0e;stroke:#ff7f0e;\" x=\"141.186572\" xlink:href=\"#m2581ccdeee\" y=\"223.497949\"/>\n     <use style=\"fill:#ff7f0e;stroke:#ff7f0e;\" x=\"141.311179\" xlink:href=\"#m2581ccdeee\" y=\"223.497949\"/>\n     <use style=\"fill:#ff7f0e;stroke:#ff7f0e;\" x=\"142.793702\" xlink:href=\"#m2581ccdeee\" y=\"223.497949\"/>\n     <use style=\"fill:#ff7f0e;stroke:#ff7f0e;\" x=\"145.456034\" xlink:href=\"#m2581ccdeee\" y=\"210.74487\"/>\n     <use style=\"fill:#ff7f0e;stroke:#ff7f0e;\" x=\"148.65813\" xlink:href=\"#m2581ccdeee\" y=\"223.497949\"/>\n     <use style=\"fill:#ff7f0e;stroke:#ff7f0e;\" x=\"150.622873\" xlink:href=\"#m2581ccdeee\" y=\"223.497949\"/>\n     <use style=\"fill:#ff7f0e;stroke:#ff7f0e;\" x=\"150.724339\" xlink:href=\"#m2581ccdeee\" y=\"223.497949\"/>\n     <use style=\"fill:#ff7f0e;stroke:#ff7f0e;\" x=\"150.818328\" xlink:href=\"#m2581ccdeee\" y=\"223.497949\"/>\n     <use style=\"fill:#ff7f0e;stroke:#ff7f0e;\" x=\"158.868585\" xlink:href=\"#m2581ccdeee\" y=\"204.36833\"/>\n     <use style=\"fill:#ff7f0e;stroke:#ff7f0e;\" x=\"160.441845\" xlink:href=\"#m2581ccdeee\" y=\"204.36833\"/>\n     <use style=\"fill:#ff7f0e;stroke:#ff7f0e;\" x=\"161.276762\" xlink:href=\"#m2581ccdeee\" y=\"204.36833\"/>\n     <use style=\"fill:#ff7f0e;stroke:#ff7f0e;\" x=\"166.896395\" xlink:href=\"#m2581ccdeee\" y=\"204.36833\"/>\n     <use style=\"fill:#ff7f0e;stroke:#ff7f0e;\" x=\"167.907058\" xlink:href=\"#m2581ccdeee\" y=\"210.74487\"/>\n     <use style=\"fill:#ff7f0e;stroke:#ff7f0e;\" x=\"171.997409\" xlink:href=\"#m2581ccdeee\" y=\"210.74487\"/>\n     <use style=\"fill:#ff7f0e;stroke:#ff7f0e;\" x=\"175.750122\" xlink:href=\"#m2581ccdeee\" y=\"217.121409\"/>\n     <use style=\"fill:#ff7f0e;stroke:#ff7f0e;\" x=\"177.744731\" xlink:href=\"#m2581ccdeee\" y=\"210.74487\"/>\n     <use style=\"fill:#ff7f0e;stroke:#ff7f0e;\" x=\"179.529712\" xlink:href=\"#m2581ccdeee\" y=\"210.74487\"/>\n     <use style=\"fill:#ff7f0e;stroke:#ff7f0e;\" x=\"183.582121\" xlink:href=\"#m2581ccdeee\" y=\"197.991791\"/>\n     <use style=\"fill:#ff7f0e;stroke:#ff7f0e;\" x=\"187.931705\" xlink:href=\"#m2581ccdeee\" y=\"204.36833\"/>\n     <use style=\"fill:#ff7f0e;stroke:#ff7f0e;\" x=\"205.208247\" xlink:href=\"#m2581ccdeee\" y=\"197.991791\"/>\n     <use style=\"fill:#ff7f0e;stroke:#ff7f0e;\" x=\"207.658342\" xlink:href=\"#m2581ccdeee\" y=\"204.36833\"/>\n     <use style=\"fill:#ff7f0e;stroke:#ff7f0e;\" x=\"244.710915\" xlink:href=\"#m2581ccdeee\" y=\"204.36833\"/>\n     <use style=\"fill:#ff7f0e;stroke:#ff7f0e;\" x=\"250.048038\" xlink:href=\"#m2581ccdeee\" y=\"204.36833\"/>\n     <use style=\"fill:#ff7f0e;stroke:#ff7f0e;\" x=\"268.582956\" xlink:href=\"#m2581ccdeee\" y=\"185.238712\"/>\n     <use style=\"fill:#ff7f0e;stroke:#ff7f0e;\" x=\"363.363068\" xlink:href=\"#m2581ccdeee\" y=\"210.74487\"/>\n    </g>\n   </g>\n   <g id=\"patch_3\">\n    <path d=\"M 43.78125 239.758125 \nL 43.78125 22.318125 \n\" style=\"fill:none;stroke:#000000;stroke-linecap:square;stroke-linejoin:miter;stroke-width:0.8;\"/>\n   </g>\n   <g id=\"patch_4\">\n    <path d=\"M 378.58125 239.758125 \nL 378.58125 22.318125 \n\" style=\"fill:none;stroke:#000000;stroke-linecap:square;stroke-linejoin:miter;stroke-width:0.8;\"/>\n   </g>\n   <g id=\"patch_5\">\n    <path d=\"M 43.78125 239.758125 \nL 378.58125 239.758125 \n\" style=\"fill:none;stroke:#000000;stroke-linecap:square;stroke-linejoin:miter;stroke-width:0.8;\"/>\n   </g>\n   <g id=\"patch_6\">\n    <path d=\"M 43.78125 22.318125 \nL 378.58125 22.318125 \n\" style=\"fill:none;stroke:#000000;stroke-linecap:square;stroke-linejoin:miter;stroke-width:0.8;\"/>\n   </g>\n   <g id=\"text_18\">\n    <!-- Accuracy vs alpha for training and testing sets -->\n    <defs>\n     <path d=\"M 34.1875 63.1875 \nL 20.796875 26.90625 \nL 47.609375 26.90625 \nz\nM 28.609375 72.90625 \nL 39.796875 72.90625 \nL 67.578125 0 \nL 57.328125 0 \nL 50.6875 18.703125 \nL 17.828125 18.703125 \nL 11.1875 0 \nL 0.78125 0 \nz\n\" id=\"DejaVuSans-65\"/>\n     <path id=\"DejaVuSans-32\"/>\n     <path d=\"M 2.984375 54.6875 \nL 12.5 54.6875 \nL 29.59375 8.796875 \nL 46.6875 54.6875 \nL 56.203125 54.6875 \nL 35.6875 0 \nL 23.484375 0 \nz\n\" id=\"DejaVuSans-118\"/>\n     <path d=\"M 44.28125 53.078125 \nL 44.28125 44.578125 \nQ 40.484375 46.53125 36.375 47.5 \nQ 32.28125 48.484375 27.875 48.484375 \nQ 21.1875 48.484375 17.84375 46.4375 \nQ 14.5 44.390625 14.5 40.28125 \nQ 14.5 37.15625 16.890625 35.375 \nQ 19.28125 33.59375 26.515625 31.984375 \nL 29.59375 31.296875 \nQ 39.15625 29.25 43.1875 25.515625 \nQ 47.21875 21.78125 47.21875 15.09375 \nQ 47.21875 7.46875 41.1875 3.015625 \nQ 35.15625 -1.421875 24.609375 -1.421875 \nQ 20.21875 -1.421875 15.453125 -0.5625 \nQ 10.6875 0.296875 5.421875 2 \nL 5.421875 11.28125 \nQ 10.40625 8.6875 15.234375 7.390625 \nQ 20.0625 6.109375 24.8125 6.109375 \nQ 31.15625 6.109375 34.5625 8.28125 \nQ 37.984375 10.453125 37.984375 14.40625 \nQ 37.984375 18.0625 35.515625 20.015625 \nQ 33.0625 21.96875 24.703125 23.78125 \nL 21.578125 24.515625 \nQ 13.234375 26.265625 9.515625 29.90625 \nQ 5.8125 33.546875 5.8125 39.890625 \nQ 5.8125 47.609375 11.28125 51.796875 \nQ 16.75 56 26.8125 56 \nQ 31.78125 56 36.171875 55.265625 \nQ 40.578125 54.546875 44.28125 53.078125 \nz\n\" id=\"DejaVuSans-115\"/>\n     <path d=\"M 37.109375 75.984375 \nL 37.109375 68.5 \nL 28.515625 68.5 \nQ 23.6875 68.5 21.796875 66.546875 \nQ 19.921875 64.59375 19.921875 59.515625 \nL 19.921875 54.6875 \nL 34.71875 54.6875 \nL 34.71875 47.703125 \nL 19.921875 47.703125 \nL 19.921875 0 \nL 10.890625 0 \nL 10.890625 47.703125 \nL 2.296875 47.703125 \nL 2.296875 54.6875 \nL 10.890625 54.6875 \nL 10.890625 58.5 \nQ 10.890625 67.625 15.140625 71.796875 \nQ 19.390625 75.984375 28.609375 75.984375 \nz\n\" id=\"DejaVuSans-102\"/>\n     <path d=\"M 30.609375 48.390625 \nQ 23.390625 48.390625 19.1875 42.75 \nQ 14.984375 37.109375 14.984375 27.296875 \nQ 14.984375 17.484375 19.15625 11.84375 \nQ 23.34375 6.203125 30.609375 6.203125 \nQ 37.796875 6.203125 41.984375 11.859375 \nQ 46.1875 17.53125 46.1875 27.296875 \nQ 46.1875 37.015625 41.984375 42.703125 \nQ 37.796875 48.390625 30.609375 48.390625 \nz\nM 30.609375 56 \nQ 42.328125 56 49.015625 48.375 \nQ 55.71875 40.765625 55.71875 27.296875 \nQ 55.71875 13.875 49.015625 6.21875 \nQ 42.328125 -1.421875 30.609375 -1.421875 \nQ 18.84375 -1.421875 12.171875 6.21875 \nQ 5.515625 13.875 5.515625 27.296875 \nQ 5.515625 40.765625 12.171875 48.375 \nQ 18.84375 56 30.609375 56 \nz\n\" id=\"DejaVuSans-111\"/>\n     <path d=\"M 18.3125 70.21875 \nL 18.3125 54.6875 \nL 36.8125 54.6875 \nL 36.8125 47.703125 \nL 18.3125 47.703125 \nL 18.3125 18.015625 \nQ 18.3125 11.328125 20.140625 9.421875 \nQ 21.96875 7.515625 27.59375 7.515625 \nL 36.8125 7.515625 \nL 36.8125 0 \nL 27.59375 0 \nQ 17.1875 0 13.234375 3.875 \nQ 9.28125 7.765625 9.28125 18.015625 \nL 9.28125 47.703125 \nL 2.6875 47.703125 \nL 2.6875 54.6875 \nL 9.28125 54.6875 \nL 9.28125 70.21875 \nz\n\" id=\"DejaVuSans-116\"/>\n     <path d=\"M 9.421875 54.6875 \nL 18.40625 54.6875 \nL 18.40625 0 \nL 9.421875 0 \nz\nM 9.421875 75.984375 \nL 18.40625 75.984375 \nL 18.40625 64.59375 \nL 9.421875 64.59375 \nz\n\" id=\"DejaVuSans-105\"/>\n     <path d=\"M 54.890625 33.015625 \nL 54.890625 0 \nL 45.90625 0 \nL 45.90625 32.71875 \nQ 45.90625 40.484375 42.875 44.328125 \nQ 39.84375 48.1875 33.796875 48.1875 \nQ 26.515625 48.1875 22.3125 43.546875 \nQ 18.109375 38.921875 18.109375 30.90625 \nL 18.109375 0 \nL 9.078125 0 \nL 9.078125 54.6875 \nL 18.109375 54.6875 \nL 18.109375 46.1875 \nQ 21.34375 51.125 25.703125 53.5625 \nQ 30.078125 56 35.796875 56 \nQ 45.21875 56 50.046875 50.171875 \nQ 54.890625 44.34375 54.890625 33.015625 \nz\n\" id=\"DejaVuSans-110\"/>\n     <path d=\"M 45.40625 27.984375 \nQ 45.40625 37.75 41.375 43.109375 \nQ 37.359375 48.484375 30.078125 48.484375 \nQ 22.859375 48.484375 18.828125 43.109375 \nQ 14.796875 37.75 14.796875 27.984375 \nQ 14.796875 18.265625 18.828125 12.890625 \nQ 22.859375 7.515625 30.078125 7.515625 \nQ 37.359375 7.515625 41.375 12.890625 \nQ 45.40625 18.265625 45.40625 27.984375 \nz\nM 54.390625 6.78125 \nQ 54.390625 -7.171875 48.1875 -13.984375 \nQ 42 -20.796875 29.203125 -20.796875 \nQ 24.46875 -20.796875 20.265625 -20.09375 \nQ 16.0625 -19.390625 12.109375 -17.921875 \nL 12.109375 -9.1875 \nQ 16.0625 -11.328125 19.921875 -12.34375 \nQ 23.78125 -13.375 27.78125 -13.375 \nQ 36.625 -13.375 41.015625 -8.765625 \nQ 45.40625 -4.15625 45.40625 5.171875 \nL 45.40625 9.625 \nQ 42.625 4.78125 38.28125 2.390625 \nQ 33.9375 0 27.875 0 \nQ 17.828125 0 11.671875 7.65625 \nQ 5.515625 15.328125 5.515625 27.984375 \nQ 5.515625 40.671875 11.671875 48.328125 \nQ 17.828125 56 27.875 56 \nQ 33.9375 56 38.28125 53.609375 \nQ 42.625 51.21875 45.40625 46.390625 \nL 45.40625 54.6875 \nL 54.390625 54.6875 \nz\n\" id=\"DejaVuSans-103\"/>\n     <path d=\"M 45.40625 46.390625 \nL 45.40625 75.984375 \nL 54.390625 75.984375 \nL 54.390625 0 \nL 45.40625 0 \nL 45.40625 8.203125 \nQ 42.578125 3.328125 38.25 0.953125 \nQ 33.9375 -1.421875 27.875 -1.421875 \nQ 17.96875 -1.421875 11.734375 6.484375 \nQ 5.515625 14.40625 5.515625 27.296875 \nQ 5.515625 40.1875 11.734375 48.09375 \nQ 17.96875 56 27.875 56 \nQ 33.9375 56 38.25 53.625 \nQ 42.578125 51.265625 45.40625 46.390625 \nz\nM 14.796875 27.296875 \nQ 14.796875 17.390625 18.875 11.75 \nQ 22.953125 6.109375 30.078125 6.109375 \nQ 37.203125 6.109375 41.296875 11.75 \nQ 45.40625 17.390625 45.40625 27.296875 \nQ 45.40625 37.203125 41.296875 42.84375 \nQ 37.203125 48.484375 30.078125 48.484375 \nQ 22.953125 48.484375 18.875 42.84375 \nQ 14.796875 37.203125 14.796875 27.296875 \nz\n\" id=\"DejaVuSans-100\"/>\n     <path d=\"M 56.203125 29.59375 \nL 56.203125 25.203125 \nL 14.890625 25.203125 \nQ 15.484375 15.921875 20.484375 11.0625 \nQ 25.484375 6.203125 34.421875 6.203125 \nQ 39.59375 6.203125 44.453125 7.46875 \nQ 49.3125 8.734375 54.109375 11.28125 \nL 54.109375 2.78125 \nQ 49.265625 0.734375 44.1875 -0.34375 \nQ 39.109375 -1.421875 33.890625 -1.421875 \nQ 20.796875 -1.421875 13.15625 6.1875 \nQ 5.515625 13.8125 5.515625 26.8125 \nQ 5.515625 40.234375 12.765625 48.109375 \nQ 20.015625 56 32.328125 56 \nQ 43.359375 56 49.78125 48.890625 \nQ 56.203125 41.796875 56.203125 29.59375 \nz\nM 47.21875 32.234375 \nQ 47.125 39.59375 43.09375 43.984375 \nQ 39.0625 48.390625 32.421875 48.390625 \nQ 24.90625 48.390625 20.390625 44.140625 \nQ 15.875 39.890625 15.1875 32.171875 \nz\n\" id=\"DejaVuSans-101\"/>\n    </defs>\n    <g transform=\"translate(71.14875 16.318125)scale(0.12 -0.12)\">\n     <use xlink:href=\"#DejaVuSans-65\"/>\n     <use x=\"68.392578\" xlink:href=\"#DejaVuSans-99\"/>\n     <use x=\"123.373047\" xlink:href=\"#DejaVuSans-99\"/>\n     <use x=\"178.353516\" xlink:href=\"#DejaVuSans-117\"/>\n     <use x=\"241.732422\" xlink:href=\"#DejaVuSans-114\"/>\n     <use x=\"282.845703\" xlink:href=\"#DejaVuSans-97\"/>\n     <use x=\"344.125\" xlink:href=\"#DejaVuSans-99\"/>\n     <use x=\"399.105469\" xlink:href=\"#DejaVuSans-121\"/>\n     <use x=\"458.285156\" xlink:href=\"#DejaVuSans-32\"/>\n     <use x=\"490.072266\" xlink:href=\"#DejaVuSans-118\"/>\n     <use x=\"549.251953\" xlink:href=\"#DejaVuSans-115\"/>\n     <use x=\"601.351562\" xlink:href=\"#DejaVuSans-32\"/>\n     <use x=\"633.138672\" xlink:href=\"#DejaVuSans-97\"/>\n     <use x=\"694.417969\" xlink:href=\"#DejaVuSans-108\"/>\n     <use x=\"722.201172\" xlink:href=\"#DejaVuSans-112\"/>\n     <use x=\"785.677734\" xlink:href=\"#DejaVuSans-104\"/>\n     <use x=\"849.056641\" xlink:href=\"#DejaVuSans-97\"/>\n     <use x=\"910.335938\" xlink:href=\"#DejaVuSans-32\"/>\n     <use x=\"942.123047\" xlink:href=\"#DejaVuSans-102\"/>\n     <use x=\"977.328125\" xlink:href=\"#DejaVuSans-111\"/>\n     <use x=\"1038.509766\" xlink:href=\"#DejaVuSans-114\"/>\n     <use x=\"1079.623047\" xlink:href=\"#DejaVuSans-32\"/>\n     <use x=\"1111.410156\" xlink:href=\"#DejaVuSans-116\"/>\n     <use x=\"1150.619141\" xlink:href=\"#DejaVuSans-114\"/>\n     <use x=\"1191.732422\" xlink:href=\"#DejaVuSans-97\"/>\n     <use x=\"1253.011719\" xlink:href=\"#DejaVuSans-105\"/>\n     <use x=\"1280.794922\" xlink:href=\"#DejaVuSans-110\"/>\n     <use x=\"1344.173828\" xlink:href=\"#DejaVuSans-105\"/>\n     <use x=\"1371.957031\" xlink:href=\"#DejaVuSans-110\"/>\n     <use x=\"1435.335938\" xlink:href=\"#DejaVuSans-103\"/>\n     <use x=\"1498.8125\" xlink:href=\"#DejaVuSans-32\"/>\n     <use x=\"1530.599609\" xlink:href=\"#DejaVuSans-97\"/>\n     <use x=\"1591.878906\" xlink:href=\"#DejaVuSans-110\"/>\n     <use x=\"1655.257812\" xlink:href=\"#DejaVuSans-100\"/>\n     <use x=\"1718.734375\" xlink:href=\"#DejaVuSans-32\"/>\n     <use x=\"1750.521484\" xlink:href=\"#DejaVuSans-116\"/>\n     <use x=\"1789.730469\" xlink:href=\"#DejaVuSans-101\"/>\n     <use x=\"1851.253906\" xlink:href=\"#DejaVuSans-115\"/>\n     <use x=\"1903.353516\" xlink:href=\"#DejaVuSans-116\"/>\n     <use x=\"1942.5625\" xlink:href=\"#DejaVuSans-105\"/>\n     <use x=\"1970.345703\" xlink:href=\"#DejaVuSans-110\"/>\n     <use x=\"2033.724609\" xlink:href=\"#DejaVuSans-103\"/>\n     <use x=\"2097.201172\" xlink:href=\"#DejaVuSans-32\"/>\n     <use x=\"2128.988281\" xlink:href=\"#DejaVuSans-115\"/>\n     <use x=\"2181.087891\" xlink:href=\"#DejaVuSans-101\"/>\n     <use x=\"2242.611328\" xlink:href=\"#DejaVuSans-116\"/>\n     <use x=\"2281.820312\" xlink:href=\"#DejaVuSans-115\"/>\n    </g>\n   </g>\n   <g id=\"legend_1\">\n    <g id=\"patch_7\">\n     <path d=\"M 316.30625 59.674375 \nL 371.58125 59.674375 \nQ 373.58125 59.674375 373.58125 57.674375 \nL 373.58125 29.318125 \nQ 373.58125 27.318125 371.58125 27.318125 \nL 316.30625 27.318125 \nQ 314.30625 27.318125 314.30625 29.318125 \nL 314.30625 57.674375 \nQ 314.30625 59.674375 316.30625 59.674375 \nz\n\" style=\"fill:#ffffff;opacity:0.8;stroke:#cccccc;stroke-linejoin:miter;\"/>\n    </g>\n    <g id=\"line2d_18\">\n     <path d=\"M 318.30625 35.416562 \nL 338.30625 35.416562 \n\" style=\"fill:none;stroke:#1f77b4;stroke-linecap:square;stroke-width:1.5;\"/>\n    </g>\n    <g id=\"line2d_19\">\n     <g>\n      <use style=\"fill:#1f77b4;stroke:#1f77b4;\" x=\"328.30625\" xlink:href=\"#mb8d899c6a2\" y=\"35.416562\"/>\n     </g>\n    </g>\n    <g id=\"text_19\">\n     <!-- train -->\n     <g transform=\"translate(346.30625 38.916562)scale(0.1 -0.1)\">\n      <use xlink:href=\"#DejaVuSans-116\"/>\n      <use x=\"39.208984\" xlink:href=\"#DejaVuSans-114\"/>\n      <use x=\"80.322266\" xlink:href=\"#DejaVuSans-97\"/>\n      <use x=\"141.601562\" xlink:href=\"#DejaVuSans-105\"/>\n      <use x=\"169.384766\" xlink:href=\"#DejaVuSans-110\"/>\n     </g>\n    </g>\n    <g id=\"line2d_20\">\n     <path d=\"M 318.30625 50.094687 \nL 338.30625 50.094687 \n\" style=\"fill:none;stroke:#ff7f0e;stroke-linecap:square;stroke-width:1.5;\"/>\n    </g>\n    <g id=\"line2d_21\">\n     <g>\n      <use style=\"fill:#ff7f0e;stroke:#ff7f0e;\" x=\"328.30625\" xlink:href=\"#m2581ccdeee\" y=\"50.094687\"/>\n     </g>\n    </g>\n    <g id=\"text_20\">\n     <!-- test -->\n     <g transform=\"translate(346.30625 53.594687)scale(0.1 -0.1)\">\n      <use xlink:href=\"#DejaVuSans-116\"/>\n      <use x=\"39.208984\" xlink:href=\"#DejaVuSans-101\"/>\n      <use x=\"100.732422\" xlink:href=\"#DejaVuSans-115\"/>\n      <use x=\"152.832031\" xlink:href=\"#DejaVuSans-116\"/>\n     </g>\n    </g>\n   </g>\n  </g>\n </g>\n <defs>\n  <clipPath id=\"peb612cf9a8\">\n   <rect height=\"217.44\" width=\"334.8\" x=\"43.78125\" y=\"22.318125\"/>\n  </clipPath>\n </defs>\n</svg>\n",
      "text/plain": "<Figure size 432x288 with 1 Axes>"
     },
     "metadata": {
      "needs_background": "light"
     },
     "output_type": "display_data"
    }
   ],
   "source": [
    "train_scores = [clf.score(train_features_procesed, train_labels) for clf in clfs]\n",
    "test_scores = [clf.score(validation_features_procesed, validation_labels) for clf in clfs]\n",
    "\n",
    "fig, ax = plt.subplots()\n",
    "ax.set_xlabel(\"alpha\")\n",
    "ax.set_ylabel(\"accuracy\")\n",
    "ax.set_title(\"Accuracy vs alpha for training and testing sets\")\n",
    "ax.plot(ccp_alphas, train_scores, marker='o', label=\"train\",\n",
    "        drawstyle=\"steps-post\")\n",
    "ax.plot(ccp_alphas, test_scores, marker='o', label=\"test\",\n",
    "        drawstyle=\"steps-post\")\n",
    "ax.legend()\n",
    "plt.show()"
   ]
  },
  {
   "cell_type": "code",
   "execution_count": 79,
   "metadata": {},
   "outputs": [],
   "source": [
    "def evaluateClassifier(clf):\n",
    "    clf.fit(train_features_procesed, train_labels);\n",
    "    results = clf.predict(validation_features_procesed)\n",
    "    return f1_score(validation_labels, results)"
   ]
  },
  {
   "cell_type": "code",
   "execution_count": 80,
   "metadata": {},
   "outputs": [
    {
     "name": "stdout",
     "output_type": "stream",
     "text": "0.49056603773584906\n"
    }
   ],
   "source": [
    "from sklearn.metrics import f1_score\n",
    "\n",
    "clf_decision_tree = DecisionTreeClassifier(random_state=42, ccp_alpha=0.01)\n",
    "decision_tree_f1 = evaluateClassifier(clf_decision_tree)\n",
    "print(decision_tree_f1)"
   ]
  },
  {
   "cell_type": "code",
   "execution_count": 81,
   "metadata": {},
   "outputs": [
    {
     "name": "stdout",
     "output_type": "stream",
     "text": "0.4727272727272727\n"
    }
   ],
   "source": [
    "### Logistic Regression\n",
    "from sklearn.linear_model import LogisticRegression\n",
    "\n",
    "clf_logistic_reg = LogisticRegression(random_state=42)\n",
    "logistic_reg_f1 = evaluateClassifier(clf_logistic_reg)\n",
    "print(logistic_reg_f1)"
   ]
  },
  {
   "cell_type": "code",
   "execution_count": 82,
   "metadata": {},
   "outputs": [
    {
     "name": "stdout",
     "output_type": "stream",
     "text": "SVC(C=1.0, break_ties=False, cache_size=200, class_weight=None, coef0=0.0,\n    decision_function_shape='ovr', degree=3, gamma='scale', kernel='linear',\n    max_iter=-1, probability=False, random_state=None, shrinking=True,\n    tol=0.001, verbose=False)\n0.5185185185185186\n"
    }
   ],
   "source": [
    "### Support vector machines\n",
    "from sklearn.model_selection import GridSearchCV\n",
    "from sklearn.svm import SVC\n",
    "params = [\n",
    "    {'kernel':['linear', 'rbf', 'sigmoid']},\n",
    "    {'kernel': ['rbf'], 'gamma':[0.001, 0.01, 0.1, 0.5, 1, 10, 100]}\n",
    "]\n",
    "clf = SVC()\n",
    "grid_search = GridSearchCV(clf, params, cv=3, scoring=\"f1\", return_train_score=True)\n",
    "grid_search.fit(train_features_procesed, train_labels)\n",
    "print(grid_search.best_estimator_)\n",
    "\n",
    "clf_svc = SVC(kernel='rbf', gamma=1)\n",
    "svm_f1 = evaluateClassifier(clf_svc)\n",
    "print(svm_f1)"
   ]
  },
  {
   "cell_type": "code",
   "execution_count": 83,
   "metadata": {},
   "outputs": [
    {
     "name": "stdout",
     "output_type": "stream",
     "text": "KNeighborsClassifier(algorithm='auto', leaf_size=30, metric='minkowski',\n                     metric_params=None, n_jobs=None, n_neighbors=3, p=2,\n                     weights='uniform')\n0.5161290322580646\n"
    }
   ],
   "source": [
    "### KNN\n",
    "from sklearn.neighbors import KNeighborsClassifier\n",
    "params = [\n",
    "    {'n_neighbors':[3,4,5,7,9], 'weights': ['uniform', 'distance'], 'algorithm':['auto'], 'p':[1, 2]}\n",
    "    ]\n",
    "clf = KNeighborsClassifier()\n",
    "grid_search = GridSearchCV(clf, params, cv=3, scoring=\"f1\", return_train_score=True)\n",
    "grid_search.fit(train_features_procesed, train_labels)\n",
    "print(grid_search.best_estimator_)\n",
    "\n",
    "\n",
    "\n",
    "clf_knn = KNeighborsClassifier(algorithm='auto', leaf_size=30, metric='minkowski', n_neighbors=3, p=2, weights='uniform')\n",
    "knn_f1 = evaluateClassifier(clf_knn)\n",
    "print(knn_f1)"
   ]
  },
  {
   "cell_type": "code",
   "execution_count": 84,
   "metadata": {},
   "outputs": [
    {
     "name": "stdout",
     "output_type": "stream",
     "text": "0.49180327868852464\n"
    }
   ],
   "source": [
    "### Naive Bayes\n",
    "from sklearn.naive_bayes import GaussianNB\n",
    "clf_naive_bayes = GaussianNB()\n",
    "naive_bayes_f1 = evaluateClassifier(clf_naive_bayes)\n",
    "print(naive_bayes_f1)"
   ]
  },
  {
   "cell_type": "code",
   "execution_count": 85,
   "metadata": {},
   "outputs": [
    {
     "name": "stdout",
     "output_type": "stream",
     "text": "Perceptron(alpha=0.0001, class_weight=None, early_stopping=False, eta0=1.0,\n           fit_intercept=True, max_iter=1000, n_iter_no_change=5, n_jobs=None,\n           penalty='l2', random_state=0, shuffle=True, tol=0.001,\n           validation_fraction=0.1, verbose=0, warm_start=False)\n0.5681818181818182\n"
    }
   ],
   "source": [
    "### Perceptron\n",
    "from sklearn.linear_model import Perceptron\n",
    "\n",
    "params = [\n",
    "        {'penalty':[None,'l1', 'l2', 'elasticnet']}\n",
    "    ]\n",
    "clf = Perceptron()\n",
    "grid_search = GridSearchCV(clf, params, cv=3, scoring=\"f1\", return_train_score=True)\n",
    "grid_search.fit(train_features_procesed, train_labels)\n",
    "print(grid_search.best_estimator_)\n",
    "\n",
    "clf_perceptron = Perceptron(penalty='l2')\n",
    "perceptron_f1 = evaluateClassifier(clf_perceptron)\n",
    "print(perceptron_f1)"
   ]
  },
  {
   "cell_type": "code",
   "execution_count": 86,
   "metadata": {},
   "outputs": [
    {
     "name": "stdout",
     "output_type": "stream",
     "text": "0.6666666666666665\n/Users/edlgg/GoogleDrive/Essex/Machine Learning and Data Mining/Project/ML_and_DM_Social_Network/venv/lib/python3.7/site-packages/sklearn/neural_network/_multilayer_perceptron.py:470: ConvergenceWarning: lbfgs failed to converge (status=1):\nSTOP: TOTAL NO. of ITERATIONS REACHED LIMIT.\n\nIncrease the number of iterations (max_iter) or scale the data as shown in:\n    https://scikit-learn.org/stable/modules/preprocessing.html.\n  self.n_iter_ = _check_optimize_result(\"lbfgs\", opt_res, self.max_iter)\n"
    }
   ],
   "source": [
    "### MLP\n",
    "from sklearn.neural_network import MLPClassifier\n",
    "\n",
    "params = [{\n",
    "            'hidden_layer_sizes':[(10, ),(30,),(50, ),(100, )],\n",
    "            'activation':['identity', 'logistic', 'tanh', 'relu'],\n",
    "            'solver': ['lbfgs', 'adam'],\n",
    "            'alpha':[0.0001, 0.001, 0.01],\n",
    "            'learning_rate': ['constant','invscaling','adaptive'],\n",
    "            'random_state': [0],\n",
    "            'early_stopping': [True],\n",
    "            'max_iter': [300]\n",
    "        }]\n",
    "# clf = MLPClassifier()\n",
    "# grid_search = GridSearchCV(clf, params, cv=3, scoring=\"f1\", return_train_score=True)\n",
    "# grid_search.fit(train_features_procesed, train_labels);\n",
    "# print(grid_search.best_estimator_)\n",
    "\n",
    "clf_mlp = MLPClassifier(activation='relu', alpha=0.001, batch_size='auto', beta_1=0.9,\n",
    "              beta_2=0.999, early_stopping=True, epsilon=1e-08,\n",
    "              hidden_layer_sizes=(30,), learning_rate='constant',\n",
    "              learning_rate_init=0.001, max_fun=15000, max_iter=300,\n",
    "              momentum=0.9, n_iter_no_change=10, nesterovs_momentum=True,\n",
    "              power_t=0.5, random_state=0, shuffle=True, solver='lbfgs',\n",
    "              tol=0.0001, validation_fraction=0.1, verbose=False,\n",
    "              warm_start=False)\n",
    "mlp_f1 = evaluateClassifier(clf_mlp)\n",
    "print(mlp_f1)"
   ]
  },
  {
   "cell_type": "code",
   "execution_count": 87,
   "metadata": {},
   "outputs": [
    {
     "name": "stdout",
     "output_type": "stream",
     "text": "0.5384615384615384\n"
    }
   ],
   "source": [
    "### Random Forest\n",
    "from sklearn.ensemble import RandomForestClassifier\n",
    "params = [{\n",
    "    'n_estimators': [50,100,200],\n",
    "    'criterion': ['gini', 'entropy'],\n",
    "    'max_depth': [3,5,7,9],\n",
    "    'min_samples_split': [2,4,6,8],\n",
    "    'min_samples_leaf': [1,2,3,4],\n",
    "    'ccp_alpha': [0.001, 0.005, 0.01, 0.012]\n",
    "}]\n",
    "# clf = RandomForestClassifier()\n",
    "# grid_search = GridSearchCV(clf, params, cv=3, scoring=\"f1\", return_train_score=True)\n",
    "# grid_search.fit(train_features_procesed, train_labels);\n",
    "# print(grid_search.best_estimator_)\n",
    "\n",
    "clf_random_forest = RandomForestClassifier(bootstrap=True, ccp_alpha=0.005, class_weight=None,\n",
    "                       criterion='gini', max_depth=None, max_features='auto',\n",
    "                       max_leaf_nodes=None, max_samples=None,\n",
    "                       min_impurity_decrease=0.0, min_impurity_split=None,\n",
    "                       min_samples_leaf=3, min_samples_split=2,\n",
    "                       min_weight_fraction_leaf=0.0, n_estimators=100,\n",
    "                       n_jobs=None, oob_score=False, random_state=None,\n",
    "                       verbose=0, warm_start=False)\n",
    "random_forest_f1 = evaluateClassifier(clf_random_forest)\n",
    "print(random_forest_f1)"
   ]
  },
  {
   "cell_type": "code",
   "execution_count": 88,
   "metadata": {},
   "outputs": [
    {
     "name": "stdout",
     "output_type": "stream",
     "text": "0.5762711864406779\n"
    }
   ],
   "source": [
    "from sklearn.ensemble import GradientBoostingClassifier\n",
    "\n",
    "params = [{\n",
    "    'loss': ['deviance', 'exponential'],\n",
    "    'learning_rate': [0.01, 0.05, 0.1],\n",
    "    'n_estimators': [50, 100, 125, 150],\n",
    "    'min_samples_split': [2,3,5,6],\n",
    "    'min_samples_leaf': [1, 2, 3, 4],\n",
    "    'ccp_alpha': [0.001, 0.005, 0.01, 0.012]\n",
    "}]\n",
    "\n",
    "# clf = GradientBoostingClassifier()\n",
    "# grid_search = GridSearchCV(clf, params, cv=3, scoring=\"f1\", return_train_score=True, n_jobs=5)\n",
    "# grid_search.fit(train_features_procesed, train_labels);\n",
    "# print(grid_search.best_estimator_)\n",
    "\n",
    "clf_gradient_boosting = GradientBoostingClassifier(ccp_alpha=0.001, criterion='friedman_mse', init=None,\n",
    "                           learning_rate=0.1, loss='exponential', max_depth=3,\n",
    "                           max_features=None, max_leaf_nodes=None,\n",
    "                           min_impurity_decrease=0.0, min_impurity_split=None,\n",
    "                           min_samples_leaf=3, min_samples_split=2,\n",
    "                           min_weight_fraction_leaf=0.0, n_estimators=125,\n",
    "                           n_iter_no_change=None, presort='deprecated',\n",
    "                           random_state=42, subsample=1.0, tol=0.0001,\n",
    "                           validation_fraction=0.1, verbose=0,\n",
    "                           warm_start=False)\n",
    "gradient_boosting_f1 = evaluateClassifier(clf_gradient_boosting)\n",
    "print(gradient_boosting_f1)"
   ]
  },
  {
   "cell_type": "code",
   "execution_count": 96,
   "metadata": {},
   "outputs": [
    {
     "name": "stderr",
     "output_type": "stream",
     "text": "/Users/edlgg/GoogleDrive/Essex/Machine Learning and Data Mining/Project/ML_and_DM_Social_Network/venv/lib/python3.7/site-packages/sklearn/neural_network/_multilayer_perceptron.py:470: ConvergenceWarning: lbfgs failed to converge (status=1):\nSTOP: TOTAL NO. of ITERATIONS REACHED LIMIT.\n\nIncrease the number of iterations (max_iter) or scale the data as shown in:\n    https://scikit-learn.org/stable/modules/preprocessing.html.\n  self.n_iter_ = _check_optimize_result(\"lbfgs\", opt_res, self.max_iter)\n/Users/edlgg/GoogleDrive/Essex/Machine Learning and Data Mining/Project/ML_and_DM_Social_Network/venv/lib/python3.7/site-packages/sklearn/neural_network/_multilayer_perceptron.py:470: ConvergenceWarning: lbfgs failed to converge (status=1):\nSTOP: TOTAL NO. of ITERATIONS REACHED LIMIT.\n\nIncrease the number of iterations (max_iter) or scale the data as shown in:\n    https://scikit-learn.org/stable/modules/preprocessing.html.\n  self.n_iter_ = _check_optimize_result(\"lbfgs\", opt_res, self.max_iter)\n/Users/edlgg/GoogleDrive/Essex/Machine Learning and Data Mining/Project/ML_and_DM_Social_Network/venv/lib/python3.7/site-packages/sklearn/neural_network/_multilayer_perceptron.py:470: ConvergenceWarning: lbfgs failed to converge (status=1):\nSTOP: TOTAL NO. of ITERATIONS REACHED LIMIT.\n\nIncrease the number of iterations (max_iter) or scale the data as shown in:\n    https://scikit-learn.org/stable/modules/preprocessing.html.\n  self.n_iter_ = _check_optimize_result(\"lbfgs\", opt_res, self.max_iter)\n/Users/edlgg/GoogleDrive/Essex/Machine Learning and Data Mining/Project/ML_and_DM_Social_Network/venv/lib/python3.7/site-packages/sklearn/neural_network/_multilayer_perceptron.py:470: ConvergenceWarning: lbfgs failed to converge (status=1):\nSTOP: TOTAL NO. of ITERATIONS REACHED LIMIT.\n\nIncrease the number of iterations (max_iter) or scale the data as shown in:\n    https://scikit-learn.org/stable/modules/preprocessing.html.\n  self.n_iter_ = _check_optimize_result(\"lbfgs\", opt_res, self.max_iter)\n/Users/edlgg/GoogleDrive/Essex/Machine Learning and Data Mining/Project/ML_and_DM_Social_Network/venv/lib/python3.7/site-packages/sklearn/neural_network/_multilayer_perceptron.py:470: ConvergenceWarning: lbfgs failed to converge (status=1):\nSTOP: TOTAL NO. of ITERATIONS REACHED LIMIT.\n\nIncrease the number of iterations (max_iter) or scale the data as shown in:\n    https://scikit-learn.org/stable/modules/preprocessing.html.\n  self.n_iter_ = _check_optimize_result(\"lbfgs\", opt_res, self.max_iter)\n/Users/edlgg/GoogleDrive/Essex/Machine Learning and Data Mining/Project/ML_and_DM_Social_Network/venv/lib/python3.7/site-packages/sklearn/neural_network/_multilayer_perceptron.py:470: ConvergenceWarning: lbfgs failed to converge (status=1):\nSTOP: TOTAL NO. of ITERATIONS REACHED LIMIT.\n\nIncrease the number of iterations (max_iter) or scale the data as shown in:\n    https://scikit-learn.org/stable/modules/preprocessing.html.\n  self.n_iter_ = _check_optimize_result(\"lbfgs\", opt_res, self.max_iter)\n0.6666666666666667\n"
    }
   ],
   "source": [
    "from sklearn.ensemble import StackingClassifier\n",
    "estimators = [\n",
    "    ('clf_decision_tree', clf_decision_tree),\n",
    "    ('clf_logistic_reg', clf_logistic_reg),\n",
    "    ('clf_svc', clf_svc),\n",
    "    ('clf_naive_bayes', clf_naive_bayes),\n",
    "    ('clf_perceptron', clf_perceptron),\n",
    "    ('clf_mlp', clf_mlp),\n",
    "    ('clf_random_forest', clf_random_forest),\n",
    "    ('clf_gradient_boosting', clf_gradient_boosting),\n",
    "]\n",
    "clf_stacking = StackingClassifier(estimators=estimators, final_estimator=LogisticRegression())\n",
    "stacking_f1 = evaluateClassifier(clf_stacking)\n",
    "print(stacking_f1)"
   ]
  },
  {
   "cell_type": "code",
   "execution_count": 90,
   "metadata": {},
   "outputs": [
    {
     "name": "stderr",
     "output_type": "stream",
     "text": "/Users/edlgg/GoogleDrive/Essex/Machine Learning and Data Mining/Project/ML_and_DM_Social_Network/venv/lib/python3.7/site-packages/sklearn/neural_network/_multilayer_perceptron.py:470: ConvergenceWarning: lbfgs failed to converge (status=1):\nSTOP: TOTAL NO. of ITERATIONS REACHED LIMIT.\n\nIncrease the number of iterations (max_iter) or scale the data as shown in:\n    https://scikit-learn.org/stable/modules/preprocessing.html.\n  self.n_iter_ = _check_optimize_result(\"lbfgs\", opt_res, self.max_iter)\n/Users/edlgg/GoogleDrive/Essex/Machine Learning and Data Mining/Project/ML_and_DM_Social_Network/venv/lib/python3.7/site-packages/sklearn/neural_network/_multilayer_perceptron.py:470: ConvergenceWarning: lbfgs failed to converge (status=1):\nSTOP: TOTAL NO. of ITERATIONS REACHED LIMIT.\n\nIncrease the number of iterations (max_iter) or scale the data as shown in:\n    https://scikit-learn.org/stable/modules/preprocessing.html.\n  self.n_iter_ = _check_optimize_result(\"lbfgs\", opt_res, self.max_iter)\n/Users/edlgg/GoogleDrive/Essex/Machine Learning and Data Mining/Project/ML_and_DM_Social_Network/venv/lib/python3.7/site-packages/sklearn/neural_network/_multilayer_perceptron.py:470: ConvergenceWarning: lbfgs failed to converge (status=1):\nSTOP: TOTAL NO. of ITERATIONS REACHED LIMIT.\n\nIncrease the number of iterations (max_iter) or scale the data as shown in:\n    https://scikit-learn.org/stable/modules/preprocessing.html.\n  self.n_iter_ = _check_optimize_result(\"lbfgs\", opt_res, self.max_iter)\n/Users/edlgg/GoogleDrive/Essex/Machine Learning and Data Mining/Project/ML_and_DM_Social_Network/venv/lib/python3.7/site-packages/sklearn/neural_network/_multilayer_perceptron.py:470: ConvergenceWarning: lbfgs failed to converge (status=1):\nSTOP: TOTAL NO. of ITERATIONS REACHED LIMIT.\n\nIncrease the number of iterations (max_iter) or scale the data as shown in:\n    https://scikit-learn.org/stable/modules/preprocessing.html.\n  self.n_iter_ = _check_optimize_result(\"lbfgs\", opt_res, self.max_iter)\n/Users/edlgg/GoogleDrive/Essex/Machine Learning and Data Mining/Project/ML_and_DM_Social_Network/venv/lib/python3.7/site-packages/sklearn/neural_network/_multilayer_perceptron.py:470: ConvergenceWarning: lbfgs failed to converge (status=1):\nSTOP: TOTAL NO. of ITERATIONS REACHED LIMIT.\n\nIncrease the number of iterations (max_iter) or scale the data as shown in:\n    https://scikit-learn.org/stable/modules/preprocessing.html.\n  self.n_iter_ = _check_optimize_result(\"lbfgs\", opt_res, self.max_iter)\n/Users/edlgg/GoogleDrive/Essex/Machine Learning and Data Mining/Project/ML_and_DM_Social_Network/venv/lib/python3.7/site-packages/sklearn/neural_network/_multilayer_perceptron.py:470: ConvergenceWarning: lbfgs failed to converge (status=1):\nSTOP: TOTAL NO. of ITERATIONS REACHED LIMIT.\n\nIncrease the number of iterations (max_iter) or scale the data as shown in:\n    https://scikit-learn.org/stable/modules/preprocessing.html.\n  self.n_iter_ = _check_optimize_result(\"lbfgs\", opt_res, self.max_iter)\n0.6865671641791046\n"
    }
   ],
   "source": [
    "from sklearn.ensemble import VotingClassifier\n",
    "clf_voting = VotingClassifier(estimators=estimators, voting='', n_jobs=8)\n",
    "voting_f1 = evaluateClassifier(clf_stacking)\n",
    "print(voting_f1)"
   ]
  },
  {
   "cell_type": "code",
   "execution_count": 91,
   "metadata": {},
   "outputs": [],
   "source": [
    "# low: 0.57 0.60\n",
    "# mid: 0.62 0.64\n",
    "# high: 0.47 0.44"
   ]
  },
  {
   "cell_type": "code",
   "execution_count": 106,
   "metadata": {},
   "outputs": [
    {
     "data": {
      "text/plain": "0.4436781609195402"
     },
     "execution_count": 106,
     "metadata": {},
     "output_type": "execute_result"
    }
   ],
   "source": [
    "train_labels.sum() / train_labels.shape[0]\n",
    "validation_labels.sum() / validation_labels.shape[0]"
   ]
  },
  {
   "cell_type": "code",
   "execution_count": 107,
   "metadata": {},
   "outputs": [
    {
     "data": {
      "text/plain": "0.4307692307692308"
     },
     "execution_count": 107,
     "metadata": {},
     "output_type": "execute_result"
    }
   ],
   "source": []
  },
  {
   "cell_type": "code",
   "execution_count": 103,
   "metadata": {},
   "outputs": [
    {
     "data": {
      "text/plain": "0.4436781609195402"
     },
     "execution_count": 103,
     "metadata": {},
     "output_type": "execute_result"
    }
   ],
   "source": []
  },
  {
   "cell_type": "code",
   "execution_count": null,
   "metadata": {},
   "outputs": [],
   "source": []
  }
 ],
 "metadata": {
  "colab": {
   "name": "SocialNetworkProject.ipynb",
   "provenance": [
    {
     "file_id": "1N-KIclcJYEoURhZVwDt0DGVgXet2KmJu",
     "timestamp": 1570870794922
    }
   ]
  },
  "kernelspec": {
   "display_name": "Python3 (venv)",
   "language": "python",
   "name": "venv"
  },
  "language_info": {
   "codemirror_mode": {
    "name": "ipython",
    "version": 3
   },
   "file_extension": ".py",
   "mimetype": "text/x-python",
   "name": "python",
   "nbconvert_exporter": "python",
   "pygments_lexer": "ipython3",
   "version": "3.7.4"
  }
 },
 "nbformat": 4,
 "nbformat_minor": 1
}